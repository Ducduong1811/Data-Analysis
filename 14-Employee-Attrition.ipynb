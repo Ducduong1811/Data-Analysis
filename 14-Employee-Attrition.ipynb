{
 "cells": [
  {
   "attachments": {},
   "cell_type": "markdown",
   "metadata": {},
   "source": [
    "# Employee Attrition Analysis\n",
    "\n",
    "[Link](https://thecleverprogrammer.com/2023/03/06/employee-attrition-analysis-using-python/)\n",
    "\n",
    "This notebook look at the [dataset](https://statso.io/hr-analytics-case-study/)\n",
    "\n",
    "Have the following sections:\n",
    "1. Distribution of age using distplot\n",
    "2. Attrition rate by department with donut chart\n",
    "3. Attrition rate by Educational Field with donut chart\n",
    "4. Attrition rate by Years at company with donut chart\n",
    "5. Attrition rate by Year group at company with donut chart\n",
    "6. Look at relationship bwt Age and Monthly income with scatterplot\n",
    "7. Predict model with Random Forest"
   ]
  },
  {
   "cell_type": "code",
   "execution_count": 1,
   "metadata": {},
   "outputs": [
    {
     "data": {
      "text/html": [
       "<div>\n",
       "<style scoped>\n",
       "    .dataframe tbody tr th:only-of-type {\n",
       "        vertical-align: middle;\n",
       "    }\n",
       "\n",
       "    .dataframe tbody tr th {\n",
       "        vertical-align: top;\n",
       "    }\n",
       "\n",
       "    .dataframe thead th {\n",
       "        text-align: right;\n",
       "    }\n",
       "</style>\n",
       "<table border=\"1\" class=\"dataframe\">\n",
       "  <thead>\n",
       "    <tr style=\"text-align: right;\">\n",
       "      <th></th>\n",
       "      <th>Age</th>\n",
       "      <th>Attrition</th>\n",
       "      <th>BusinessTravel</th>\n",
       "      <th>DailyRate</th>\n",
       "      <th>Department</th>\n",
       "      <th>DistanceFromHome</th>\n",
       "      <th>Education</th>\n",
       "      <th>EducationField</th>\n",
       "      <th>EmployeeCount</th>\n",
       "      <th>EmployeeNumber</th>\n",
       "      <th>EnvironmentSatisfaction</th>\n",
       "      <th>Gender</th>\n",
       "      <th>HourlyRate</th>\n",
       "      <th>JobInvolvement</th>\n",
       "      <th>JobLevel</th>\n",
       "      <th>JobRole</th>\n",
       "      <th>JobSatisfaction</th>\n",
       "      <th>MaritalStatus</th>\n",
       "      <th>MonthlyIncome</th>\n",
       "      <th>MonthlyRate</th>\n",
       "      <th>NumCompaniesWorked</th>\n",
       "      <th>Over18</th>\n",
       "      <th>OverTime</th>\n",
       "      <th>PercentSalaryHike</th>\n",
       "      <th>PerformanceRating</th>\n",
       "      <th>RelationshipSatisfaction</th>\n",
       "      <th>StandardHours</th>\n",
       "      <th>StockOptionLevel</th>\n",
       "      <th>TotalWorkingYears</th>\n",
       "      <th>TrainingTimesLastYear</th>\n",
       "      <th>WorkLifeBalance</th>\n",
       "      <th>YearsAtCompany</th>\n",
       "      <th>YearsInCurrentRole</th>\n",
       "      <th>YearsSinceLastPromotion</th>\n",
       "      <th>YearsWithCurrManager</th>\n",
       "    </tr>\n",
       "  </thead>\n",
       "  <tbody>\n",
       "    <tr>\n",
       "      <th>0</th>\n",
       "      <td>58</td>\n",
       "      <td>Yes</td>\n",
       "      <td>Travel_Rarely</td>\n",
       "      <td>147</td>\n",
       "      <td>Research &amp; Development</td>\n",
       "      <td>23</td>\n",
       "      <td>4</td>\n",
       "      <td>Medical</td>\n",
       "      <td>1</td>\n",
       "      <td>165</td>\n",
       "      <td>4</td>\n",
       "      <td>Female</td>\n",
       "      <td>94</td>\n",
       "      <td>3</td>\n",
       "      <td>3</td>\n",
       "      <td>Healthcare Representative</td>\n",
       "      <td>4</td>\n",
       "      <td>Married</td>\n",
       "      <td>10312</td>\n",
       "      <td>3465</td>\n",
       "      <td>1</td>\n",
       "      <td>Y</td>\n",
       "      <td>No</td>\n",
       "      <td>12</td>\n",
       "      <td>3</td>\n",
       "      <td>4</td>\n",
       "      <td>80</td>\n",
       "      <td>1</td>\n",
       "      <td>40</td>\n",
       "      <td>3</td>\n",
       "      <td>2</td>\n",
       "      <td>40</td>\n",
       "      <td>10</td>\n",
       "      <td>15</td>\n",
       "      <td>6</td>\n",
       "    </tr>\n",
       "    <tr>\n",
       "      <th>1</th>\n",
       "      <td>58</td>\n",
       "      <td>No</td>\n",
       "      <td>Travel_Rarely</td>\n",
       "      <td>682</td>\n",
       "      <td>Sales</td>\n",
       "      <td>10</td>\n",
       "      <td>4</td>\n",
       "      <td>Medical</td>\n",
       "      <td>1</td>\n",
       "      <td>131</td>\n",
       "      <td>4</td>\n",
       "      <td>Male</td>\n",
       "      <td>37</td>\n",
       "      <td>3</td>\n",
       "      <td>4</td>\n",
       "      <td>Sales Executive</td>\n",
       "      <td>3</td>\n",
       "      <td>Single</td>\n",
       "      <td>13872</td>\n",
       "      <td>24409</td>\n",
       "      <td>0</td>\n",
       "      <td>Y</td>\n",
       "      <td>No</td>\n",
       "      <td>13</td>\n",
       "      <td>3</td>\n",
       "      <td>3</td>\n",
       "      <td>80</td>\n",
       "      <td>0</td>\n",
       "      <td>38</td>\n",
       "      <td>1</td>\n",
       "      <td>2</td>\n",
       "      <td>37</td>\n",
       "      <td>10</td>\n",
       "      <td>1</td>\n",
       "      <td>8</td>\n",
       "    </tr>\n",
       "    <tr>\n",
       "      <th>2</th>\n",
       "      <td>55</td>\n",
       "      <td>No</td>\n",
       "      <td>Travel_Rarely</td>\n",
       "      <td>452</td>\n",
       "      <td>Research &amp; Development</td>\n",
       "      <td>1</td>\n",
       "      <td>3</td>\n",
       "      <td>Medical</td>\n",
       "      <td>1</td>\n",
       "      <td>374</td>\n",
       "      <td>4</td>\n",
       "      <td>Male</td>\n",
       "      <td>81</td>\n",
       "      <td>3</td>\n",
       "      <td>5</td>\n",
       "      <td>Manager</td>\n",
       "      <td>1</td>\n",
       "      <td>Single</td>\n",
       "      <td>19045</td>\n",
       "      <td>18938</td>\n",
       "      <td>0</td>\n",
       "      <td>Y</td>\n",
       "      <td>Yes</td>\n",
       "      <td>14</td>\n",
       "      <td>3</td>\n",
       "      <td>3</td>\n",
       "      <td>80</td>\n",
       "      <td>0</td>\n",
       "      <td>37</td>\n",
       "      <td>2</td>\n",
       "      <td>3</td>\n",
       "      <td>36</td>\n",
       "      <td>10</td>\n",
       "      <td>4</td>\n",
       "      <td>13</td>\n",
       "    </tr>\n",
       "    <tr>\n",
       "      <th>3</th>\n",
       "      <td>55</td>\n",
       "      <td>No</td>\n",
       "      <td>Travel_Rarely</td>\n",
       "      <td>685</td>\n",
       "      <td>Sales</td>\n",
       "      <td>26</td>\n",
       "      <td>5</td>\n",
       "      <td>Marketing</td>\n",
       "      <td>1</td>\n",
       "      <td>1578</td>\n",
       "      <td>3</td>\n",
       "      <td>Male</td>\n",
       "      <td>60</td>\n",
       "      <td>2</td>\n",
       "      <td>5</td>\n",
       "      <td>Manager</td>\n",
       "      <td>4</td>\n",
       "      <td>Married</td>\n",
       "      <td>19586</td>\n",
       "      <td>23037</td>\n",
       "      <td>1</td>\n",
       "      <td>Y</td>\n",
       "      <td>No</td>\n",
       "      <td>21</td>\n",
       "      <td>4</td>\n",
       "      <td>3</td>\n",
       "      <td>80</td>\n",
       "      <td>1</td>\n",
       "      <td>36</td>\n",
       "      <td>3</td>\n",
       "      <td>3</td>\n",
       "      <td>36</td>\n",
       "      <td>6</td>\n",
       "      <td>2</td>\n",
       "      <td>13</td>\n",
       "    </tr>\n",
       "    <tr>\n",
       "      <th>4</th>\n",
       "      <td>52</td>\n",
       "      <td>No</td>\n",
       "      <td>Travel_Rarely</td>\n",
       "      <td>621</td>\n",
       "      <td>Sales</td>\n",
       "      <td>3</td>\n",
       "      <td>4</td>\n",
       "      <td>Marketing</td>\n",
       "      <td>1</td>\n",
       "      <td>776</td>\n",
       "      <td>3</td>\n",
       "      <td>Male</td>\n",
       "      <td>31</td>\n",
       "      <td>2</td>\n",
       "      <td>4</td>\n",
       "      <td>Manager</td>\n",
       "      <td>1</td>\n",
       "      <td>Married</td>\n",
       "      <td>16856</td>\n",
       "      <td>10084</td>\n",
       "      <td>1</td>\n",
       "      <td>Y</td>\n",
       "      <td>No</td>\n",
       "      <td>11</td>\n",
       "      <td>3</td>\n",
       "      <td>1</td>\n",
       "      <td>80</td>\n",
       "      <td>0</td>\n",
       "      <td>34</td>\n",
       "      <td>3</td>\n",
       "      <td>4</td>\n",
       "      <td>34</td>\n",
       "      <td>6</td>\n",
       "      <td>1</td>\n",
       "      <td>16</td>\n",
       "    </tr>\n",
       "    <tr>\n",
       "      <th>5</th>\n",
       "      <td>52</td>\n",
       "      <td>No</td>\n",
       "      <td>Travel_Rarely</td>\n",
       "      <td>699</td>\n",
       "      <td>Research &amp; Development</td>\n",
       "      <td>1</td>\n",
       "      <td>4</td>\n",
       "      <td>Life Sciences</td>\n",
       "      <td>1</td>\n",
       "      <td>259</td>\n",
       "      <td>3</td>\n",
       "      <td>Male</td>\n",
       "      <td>65</td>\n",
       "      <td>2</td>\n",
       "      <td>5</td>\n",
       "      <td>Manager</td>\n",
       "      <td>3</td>\n",
       "      <td>Married</td>\n",
       "      <td>19999</td>\n",
       "      <td>5678</td>\n",
       "      <td>0</td>\n",
       "      <td>Y</td>\n",
       "      <td>No</td>\n",
       "      <td>14</td>\n",
       "      <td>3</td>\n",
       "      <td>1</td>\n",
       "      <td>80</td>\n",
       "      <td>1</td>\n",
       "      <td>34</td>\n",
       "      <td>5</td>\n",
       "      <td>3</td>\n",
       "      <td>33</td>\n",
       "      <td>18</td>\n",
       "      <td>11</td>\n",
       "      <td>9</td>\n",
       "    </tr>\n",
       "    <tr>\n",
       "      <th>6</th>\n",
       "      <td>52</td>\n",
       "      <td>No</td>\n",
       "      <td>Non-Travel</td>\n",
       "      <td>771</td>\n",
       "      <td>Sales</td>\n",
       "      <td>2</td>\n",
       "      <td>4</td>\n",
       "      <td>Life Sciences</td>\n",
       "      <td>1</td>\n",
       "      <td>329</td>\n",
       "      <td>1</td>\n",
       "      <td>Male</td>\n",
       "      <td>79</td>\n",
       "      <td>2</td>\n",
       "      <td>5</td>\n",
       "      <td>Manager</td>\n",
       "      <td>3</td>\n",
       "      <td>Single</td>\n",
       "      <td>19068</td>\n",
       "      <td>21030</td>\n",
       "      <td>1</td>\n",
       "      <td>Y</td>\n",
       "      <td>Yes</td>\n",
       "      <td>18</td>\n",
       "      <td>3</td>\n",
       "      <td>4</td>\n",
       "      <td>80</td>\n",
       "      <td>0</td>\n",
       "      <td>33</td>\n",
       "      <td>2</td>\n",
       "      <td>4</td>\n",
       "      <td>33</td>\n",
       "      <td>7</td>\n",
       "      <td>15</td>\n",
       "      <td>12</td>\n",
       "    </tr>\n",
       "    <tr>\n",
       "      <th>7</th>\n",
       "      <td>55</td>\n",
       "      <td>No</td>\n",
       "      <td>Non-Travel</td>\n",
       "      <td>177</td>\n",
       "      <td>Research &amp; Development</td>\n",
       "      <td>8</td>\n",
       "      <td>1</td>\n",
       "      <td>Medical</td>\n",
       "      <td>1</td>\n",
       "      <td>1278</td>\n",
       "      <td>4</td>\n",
       "      <td>Male</td>\n",
       "      <td>37</td>\n",
       "      <td>2</td>\n",
       "      <td>4</td>\n",
       "      <td>Healthcare Representative</td>\n",
       "      <td>2</td>\n",
       "      <td>Divorced</td>\n",
       "      <td>13577</td>\n",
       "      <td>25592</td>\n",
       "      <td>1</td>\n",
       "      <td>Y</td>\n",
       "      <td>Yes</td>\n",
       "      <td>15</td>\n",
       "      <td>3</td>\n",
       "      <td>4</td>\n",
       "      <td>80</td>\n",
       "      <td>1</td>\n",
       "      <td>34</td>\n",
       "      <td>3</td>\n",
       "      <td>3</td>\n",
       "      <td>33</td>\n",
       "      <td>9</td>\n",
       "      <td>15</td>\n",
       "      <td>0</td>\n",
       "    </tr>\n",
       "    <tr>\n",
       "      <th>8</th>\n",
       "      <td>51</td>\n",
       "      <td>No</td>\n",
       "      <td>Travel_Rarely</td>\n",
       "      <td>770</td>\n",
       "      <td>Human Resources</td>\n",
       "      <td>5</td>\n",
       "      <td>3</td>\n",
       "      <td>Life Sciences</td>\n",
       "      <td>1</td>\n",
       "      <td>1352</td>\n",
       "      <td>3</td>\n",
       "      <td>Male</td>\n",
       "      <td>84</td>\n",
       "      <td>3</td>\n",
       "      <td>4</td>\n",
       "      <td>Manager</td>\n",
       "      <td>2</td>\n",
       "      <td>Divorced</td>\n",
       "      <td>14026</td>\n",
       "      <td>17588</td>\n",
       "      <td>1</td>\n",
       "      <td>Y</td>\n",
       "      <td>Yes</td>\n",
       "      <td>11</td>\n",
       "      <td>3</td>\n",
       "      <td>2</td>\n",
       "      <td>80</td>\n",
       "      <td>1</td>\n",
       "      <td>33</td>\n",
       "      <td>2</td>\n",
       "      <td>3</td>\n",
       "      <td>33</td>\n",
       "      <td>9</td>\n",
       "      <td>0</td>\n",
       "      <td>10</td>\n",
       "    </tr>\n",
       "    <tr>\n",
       "      <th>9</th>\n",
       "      <td>53</td>\n",
       "      <td>Yes</td>\n",
       "      <td>Travel_Rarely</td>\n",
       "      <td>607</td>\n",
       "      <td>Research &amp; Development</td>\n",
       "      <td>2</td>\n",
       "      <td>5</td>\n",
       "      <td>Technical Degree</td>\n",
       "      <td>1</td>\n",
       "      <td>1572</td>\n",
       "      <td>3</td>\n",
       "      <td>Female</td>\n",
       "      <td>78</td>\n",
       "      <td>2</td>\n",
       "      <td>3</td>\n",
       "      <td>Manufacturing Director</td>\n",
       "      <td>4</td>\n",
       "      <td>Married</td>\n",
       "      <td>10169</td>\n",
       "      <td>14618</td>\n",
       "      <td>0</td>\n",
       "      <td>Y</td>\n",
       "      <td>No</td>\n",
       "      <td>16</td>\n",
       "      <td>3</td>\n",
       "      <td>2</td>\n",
       "      <td>80</td>\n",
       "      <td>1</td>\n",
       "      <td>34</td>\n",
       "      <td>4</td>\n",
       "      <td>3</td>\n",
       "      <td>33</td>\n",
       "      <td>7</td>\n",
       "      <td>1</td>\n",
       "      <td>9</td>\n",
       "    </tr>\n",
       "  </tbody>\n",
       "</table>\n",
       "</div>"
      ],
      "text/plain": [
       "   Age Attrition BusinessTravel  DailyRate              Department  \\\n",
       "0   58       Yes  Travel_Rarely        147  Research & Development   \n",
       "1   58        No  Travel_Rarely        682                   Sales   \n",
       "2   55        No  Travel_Rarely        452  Research & Development   \n",
       "3   55        No  Travel_Rarely        685                   Sales   \n",
       "4   52        No  Travel_Rarely        621                   Sales   \n",
       "5   52        No  Travel_Rarely        699  Research & Development   \n",
       "6   52        No     Non-Travel        771                   Sales   \n",
       "7   55        No     Non-Travel        177  Research & Development   \n",
       "8   51        No  Travel_Rarely        770         Human Resources   \n",
       "9   53       Yes  Travel_Rarely        607  Research & Development   \n",
       "\n",
       "   DistanceFromHome  Education    EducationField  EmployeeCount  \\\n",
       "0                23          4           Medical              1   \n",
       "1                10          4           Medical              1   \n",
       "2                 1          3           Medical              1   \n",
       "3                26          5         Marketing              1   \n",
       "4                 3          4         Marketing              1   \n",
       "5                 1          4     Life Sciences              1   \n",
       "6                 2          4     Life Sciences              1   \n",
       "7                 8          1           Medical              1   \n",
       "8                 5          3     Life Sciences              1   \n",
       "9                 2          5  Technical Degree              1   \n",
       "\n",
       "   EmployeeNumber  EnvironmentSatisfaction  Gender  HourlyRate  \\\n",
       "0             165                        4  Female          94   \n",
       "1             131                        4    Male          37   \n",
       "2             374                        4    Male          81   \n",
       "3            1578                        3    Male          60   \n",
       "4             776                        3    Male          31   \n",
       "5             259                        3    Male          65   \n",
       "6             329                        1    Male          79   \n",
       "7            1278                        4    Male          37   \n",
       "8            1352                        3    Male          84   \n",
       "9            1572                        3  Female          78   \n",
       "\n",
       "   JobInvolvement  JobLevel                    JobRole  JobSatisfaction  \\\n",
       "0               3         3  Healthcare Representative                4   \n",
       "1               3         4            Sales Executive                3   \n",
       "2               3         5                    Manager                1   \n",
       "3               2         5                    Manager                4   \n",
       "4               2         4                    Manager                1   \n",
       "5               2         5                    Manager                3   \n",
       "6               2         5                    Manager                3   \n",
       "7               2         4  Healthcare Representative                2   \n",
       "8               3         4                    Manager                2   \n",
       "9               2         3     Manufacturing Director                4   \n",
       "\n",
       "  MaritalStatus  MonthlyIncome  MonthlyRate  NumCompaniesWorked Over18  \\\n",
       "0       Married          10312         3465                   1      Y   \n",
       "1        Single          13872        24409                   0      Y   \n",
       "2        Single          19045        18938                   0      Y   \n",
       "3       Married          19586        23037                   1      Y   \n",
       "4       Married          16856        10084                   1      Y   \n",
       "5       Married          19999         5678                   0      Y   \n",
       "6        Single          19068        21030                   1      Y   \n",
       "7      Divorced          13577        25592                   1      Y   \n",
       "8      Divorced          14026        17588                   1      Y   \n",
       "9       Married          10169        14618                   0      Y   \n",
       "\n",
       "  OverTime  PercentSalaryHike  PerformanceRating  RelationshipSatisfaction  \\\n",
       "0       No                 12                  3                         4   \n",
       "1       No                 13                  3                         3   \n",
       "2      Yes                 14                  3                         3   \n",
       "3       No                 21                  4                         3   \n",
       "4       No                 11                  3                         1   \n",
       "5       No                 14                  3                         1   \n",
       "6      Yes                 18                  3                         4   \n",
       "7      Yes                 15                  3                         4   \n",
       "8      Yes                 11                  3                         2   \n",
       "9       No                 16                  3                         2   \n",
       "\n",
       "   StandardHours  StockOptionLevel  TotalWorkingYears  TrainingTimesLastYear  \\\n",
       "0             80                 1                 40                      3   \n",
       "1             80                 0                 38                      1   \n",
       "2             80                 0                 37                      2   \n",
       "3             80                 1                 36                      3   \n",
       "4             80                 0                 34                      3   \n",
       "5             80                 1                 34                      5   \n",
       "6             80                 0                 33                      2   \n",
       "7             80                 1                 34                      3   \n",
       "8             80                 1                 33                      2   \n",
       "9             80                 1                 34                      4   \n",
       "\n",
       "   WorkLifeBalance  YearsAtCompany  YearsInCurrentRole  \\\n",
       "0                2              40                  10   \n",
       "1                2              37                  10   \n",
       "2                3              36                  10   \n",
       "3                3              36                   6   \n",
       "4                4              34                   6   \n",
       "5                3              33                  18   \n",
       "6                4              33                   7   \n",
       "7                3              33                   9   \n",
       "8                3              33                   9   \n",
       "9                3              33                   7   \n",
       "\n",
       "   YearsSinceLastPromotion  YearsWithCurrManager  \n",
       "0                       15                     6  \n",
       "1                        1                     8  \n",
       "2                        4                    13  \n",
       "3                        2                    13  \n",
       "4                        1                    16  \n",
       "5                       11                     9  \n",
       "6                       15                    12  \n",
       "7                       15                     0  \n",
       "8                        0                    10  \n",
       "9                        1                     9  "
      ]
     },
     "execution_count": 1,
     "metadata": {},
     "output_type": "execute_result"
    }
   ],
   "source": [
    "import pandas as pd\n",
    "import numpy as np\n",
    "import seaborn as sns\n",
    "import matplotlib.pyplot as plt\n",
    "import plotly.express as px\n",
    "import plotly.graph_objects as go\n",
    "import plotly.io as pio\n",
    "pio.templates.default = \"plotly_white\"\n",
    "pd.set_option('display.max.columns', None)\n",
    "\n",
    "data = pd.read_csv(\"Data/HR-Employee-Attrition.csv\")\n",
    "data.head(10)"
   ]
  },
  {
   "cell_type": "code",
   "execution_count": 2,
   "metadata": {},
   "outputs": [
    {
     "name": "stdout",
     "output_type": "stream",
     "text": [
      "Age                         0\n",
      "Attrition                   0\n",
      "BusinessTravel              0\n",
      "DailyRate                   0\n",
      "Department                  0\n",
      "DistanceFromHome            0\n",
      "Education                   0\n",
      "EducationField              0\n",
      "EmployeeCount               0\n",
      "EmployeeNumber              0\n",
      "EnvironmentSatisfaction     0\n",
      "Gender                      0\n",
      "HourlyRate                  0\n",
      "JobInvolvement              0\n",
      "JobLevel                    0\n",
      "JobRole                     0\n",
      "JobSatisfaction             0\n",
      "MaritalStatus               0\n",
      "MonthlyIncome               0\n",
      "MonthlyRate                 0\n",
      "NumCompaniesWorked          0\n",
      "Over18                      0\n",
      "OverTime                    0\n",
      "PercentSalaryHike           0\n",
      "PerformanceRating           0\n",
      "RelationshipSatisfaction    0\n",
      "StandardHours               0\n",
      "StockOptionLevel            0\n",
      "TotalWorkingYears           0\n",
      "TrainingTimesLastYear       0\n",
      "WorkLifeBalance             0\n",
      "YearsAtCompany              0\n",
      "YearsInCurrentRole          0\n",
      "YearsSinceLastPromotion     0\n",
      "YearsWithCurrManager        0\n",
      "dtype: int64\n"
     ]
    }
   ],
   "source": [
    "print(data.isnull().sum())"
   ]
  },
  {
   "cell_type": "code",
   "execution_count": 3,
   "metadata": {},
   "outputs": [
    {
     "data": {
      "image/png": "[encoded data removed]",
      "text/plain": [
       "<Figure size 500x500 with 1 Axes>"
      ]
     },
     "metadata": {},
     "output_type": "display_data"
    }
   ],
   "source": [
    "# Distribution of Age\n",
    "sns.displot(data['Age'], kde=True)\n",
    "plt.title(\"Distribution of Age\")\n",
    "plt.show()"
   ]
  },
  {
   "cell_type": "code",
   "execution_count": 4,
   "metadata": {},
   "outputs": [
    {
     "data": {
      "application/vnd.plotly.v1+json": {
       "config": {
        "plotlyServerURL": "https://plot.ly"
       },
       "data": [
        {
         "hole": 0.2,
         "labels": [
          "Human Resources",
          "Research & Development",
          "Sales"
         ],
         "marker": {
          "colors": [
           "#3CAEA3",
           "#F6D55C"
          ]
         },
         "textposition": "inside",
         "type": "pie",
         "values": [
          12,
          133,
          92
         ]
        }
       ],
       "layout": {
        "font": {
         "size": 16
        },
        "legend": {
         "orientation": "h",
         "x": 1,
         "xanchor": "right",
         "y": 1.02,
         "yanchor": "bottom"
        },
        "template": {
         "data": {
          "bar": [
           {
            "error_x": {
             "color": "#2a3f5f"
            },
            "error_y": {
             "color": "#2a3f5f"
            },
            "marker": {
             "line": {
              "color": "white",
              "width": 0.5
             },
             "pattern": {
              "fillmode": "overlay",
              "size": 10,
              "solidity": 0.2
             }
            },
            "type": "bar"
           }
          ],
          "barpolar": [
           {
            "marker": {
             "line": {
              "color": "white",
              "width": 0.5
             },
             "pattern": {
              "fillmode": "overlay",
              "size": 10,
              "solidity": 0.2
             }
            },
            "type": "barpolar"
           }
          ],
          "carpet": [
           {
            "aaxis": {
             "endlinecolor": "#2a3f5f",
             "gridcolor": "#C8D4E3",
             "linecolor": "#C8D4E3",
             "minorgridcolor": "#C8D4E3",
             "startlinecolor": "#2a3f5f"
            },
            "baxis": {
             "endlinecolor": "#2a3f5f",
             "gridcolor": "#C8D4E3",
             "linecolor": "#C8D4E3",
             "minorgridcolor": "#C8D4E3",
             "startlinecolor": "#2a3f5f"
            },
            "type": "carpet"
           }
          ],
          "choropleth": [
           {
            "colorbar": {
             "outlinewidth": 0,
             "ticks": ""
            },
            "type": "choropleth"
           }
          ],
          "contour": [
           {
            "colorbar": {
             "outlinewidth": 0,
             "ticks": ""
            },
            "colorscale": [
             [
              0,
              "#0d0887"
             ],
             [
              0.1111111111111111,
              "#46039f"
             ],
             [
              0.2222222222222222,
              "#7201a8"
             ],
             [
              0.3333333333333333,
              "#9c179e"
             ],
             [
              0.4444444444444444,
              "#bd3786"
             ],
             [
              0.5555555555555556,
              "#d8576b"
             ],
             [
              0.6666666666666666,
              "#ed7953"
             ],
             [
              0.7777777777777778,
              "#fb9f3a"
             ],
             [
              0.8888888888888888,
              "#fdca26"
             ],
             [
              1,
              "#f0f921"
             ]
            ],
            "type": "contour"
           }
          ],
          "contourcarpet": [
           {
            "colorbar": {
             "outlinewidth": 0,
             "ticks": ""
            },
            "type": "contourcarpet"
           }
          ],
          "heatmap": [
           {
            "colorbar": {
             "outlinewidth": 0,
             "ticks": ""
            },
            "colorscale": [
             [
              0,
              "#0d0887"
             ],
             [
              0.1111111111111111,
              "#46039f"
             ],
             [
              0.2222222222222222,
              "#7201a8"
             ],
             [
              0.3333333333333333,
              "#9c179e"
             ],
             [
              0.4444444444444444,
              "#bd3786"
             ],
             [
              0.5555555555555556,
              "#d8576b"
             ],
             [
              0.6666666666666666,
              "#ed7953"
             ],
             [
              0.7777777777777778,
              "#fb9f3a"
             ],
             [
              0.8888888888888888,
              "#fdca26"
             ],
             [
              1,
              "#f0f921"
             ]
            ],
            "type": "heatmap"
           }
          ],
          "heatmapgl": [
           {
            "colorbar": {
             "outlinewidth": 0,
             "ticks": ""
            },
            "colorscale": [
             [
              0,
              "#0d0887"
             ],
             [
              0.1111111111111111,
              "#46039f"
             ],
             [
              0.2222222222222222,
              "#7201a8"
             ],
             [
              0.3333333333333333,
              "#9c179e"
             ],
             [
              0.4444444444444444,
              "#bd3786"
             ],
             [
              0.5555555555555556,
              "#d8576b"
             ],
             [
              0.6666666666666666,
              "#ed7953"
             ],
             [
              0.7777777777777778,
              "#fb9f3a"
             ],
             [
              0.8888888888888888,
              "#fdca26"
             ],
             [
              1,
              "#f0f921"
             ]
            ],
            "type": "heatmapgl"
           }
          ],
          "histogram": [
           {
            "marker": {
             "pattern": {
              "fillmode": "overlay",
              "size": 10,
              "solidity": 0.2
             }
            },
            "type": "histogram"
           }
          ],
          "histogram2d": [
           {
            "colorbar": {
             "outlinewidth": 0,
             "ticks": ""
            },
            "colorscale": [
             [
              0,
              "#0d0887"
             ],
             [
              0.1111111111111111,
              "#46039f"
             ],
             [
              0.2222222222222222,
              "#7201a8"
             ],
             [
              0.3333333333333333,
              "#9c179e"
             ],
             [
              0.4444444444444444,
              "#bd3786"
             ],
             [
              0.5555555555555556,
              "#d8576b"
             ],
             [
              0.6666666666666666,
              "#ed7953"
             ],
             [
              0.7777777777777778,
              "#fb9f3a"
             ],
             [
              0.8888888888888888,
              "#fdca26"
             ],
             [
              1,
              "#f0f921"
             ]
            ],
            "type": "histogram2d"
           }
          ],
          "histogram2dcontour": [
           {
            "colorbar": {
             "outlinewidth": 0,
             "ticks": ""
            },
            "colorscale": [
             [
              0,
              "#0d0887"
             ],
             [
              0.1111111111111111,
              "#46039f"
             ],
             [
              0.2222222222222222,
              "#7201a8"
             ],
             [
              0.3333333333333333,
              "#9c179e"
             ],
             [
              0.4444444444444444,
              "#bd3786"
             ],
             [
              0.5555555555555556,
              "#d8576b"
             ],
             [
              0.6666666666666666,
              "#ed7953"
             ],
             [
              0.7777777777777778,
              "#fb9f3a"
             ],
             [
              0.8888888888888888,
              "#fdca26"
             ],
             [
              1,
              "#f0f921"
             ]
            ],
            "type": "histogram2dcontour"
           }
          ],
          "mesh3d": [
           {
            "colorbar": {
             "outlinewidth": 0,
             "ticks": ""
            },
            "type": "mesh3d"
           }
          ],
          "parcoords": [
           {
            "line": {
             "colorbar": {
              "outlinewidth": 0,
              "ticks": ""
             }
            },
            "type": "parcoords"
           }
          ],
          "pie": [
           {
            "automargin": true,
            "type": "pie"
           }
          ],
          "scatter": [
           {
            "fillpattern": {
             "fillmode": "overlay",
             "size": 10,
             "solidity": 0.2
            },
            "type": "scatter"
           }
          ],
          "scatter3d": [
           {
            "line": {
             "colorbar": {
              "outlinewidth": 0,
              "ticks": ""
             }
            },
            "marker": {
             "colorbar": {
              "outlinewidth": 0,
              "ticks": ""
             }
            },
            "type": "scatter3d"
           }
          ],
          "scattercarpet": [
           {
            "marker": {
             "colorbar": {
              "outlinewidth": 0,
              "ticks": ""
             }
            },
            "type": "scattercarpet"
           }
          ],
          "scattergeo": [
           {
            "marker": {
             "colorbar": {
              "outlinewidth": 0,
              "ticks": ""
             }
            },
            "type": "scattergeo"
           }
          ],
          "scattergl": [
           {
            "marker": {
             "colorbar": {
              "outlinewidth": 0,
              "ticks": ""
             }
            },
            "type": "scattergl"
           }
          ],
          "scattermapbox": [
           {
            "marker": {
             "colorbar": {
              "outlinewidth": 0,
              "ticks": ""
             }
            },
            "type": "scattermapbox"
           }
          ],
          "scatterpolar": [
           {
            "marker": {
             "colorbar": {
              "outlinewidth": 0,
              "ticks": ""
             }
            },
            "type": "scatterpolar"
           }
          ],
          "scatterpolargl": [
           {
            "marker": {
             "colorbar": {
              "outlinewidth": 0,
              "ticks": ""
             }
            },
            "type": "scatterpolargl"
           }
          ],
          "scatterternary": [
           {
            "marker": {
             "colorbar": {
              "outlinewidth": 0,
              "ticks": ""
             }
            },
            "type": "scatterternary"
           }
          ],
          "surface": [
           {
            "colorbar": {
             "outlinewidth": 0,
             "ticks": ""
            },
            "colorscale": [
             [
              0,
              "#0d0887"
             ],
             [
              0.1111111111111111,
              "#46039f"
             ],
             [
              0.2222222222222222,
              "#7201a8"
             ],
             [
              0.3333333333333333,
              "#9c179e"
             ],
             [
              0.4444444444444444,
              "#bd3786"
             ],
             [
              0.5555555555555556,
              "#d8576b"
             ],
             [
              0.6666666666666666,
              "#ed7953"
             ],
             [
              0.7777777777777778,
              "#fb9f3a"
             ],
             [
              0.8888888888888888,
              "#fdca26"
             ],
             [
              1,
              "#f0f921"
             ]
            ],
            "type": "surface"
           }
          ],
          "table": [
           {
            "cells": {
             "fill": {
              "color": "#EBF0F8"
             },
             "line": {
              "color": "white"
             }
            },
            "header": {
             "fill": {
              "color": "#C8D4E3"
             },
             "line": {
              "color": "white"
             }
            },
            "type": "table"
           }
          ]
         },
         "layout": {
          "annotationdefaults": {
           "arrowcolor": "#2a3f5f",
           "arrowhead": 0,
           "arrowwidth": 1
          },
          "autotypenumbers": "strict",
          "coloraxis": {
           "colorbar": {
            "outlinewidth": 0,
            "ticks": ""
           }
          },
          "colorscale": {
           "diverging": [
            [
             0,
             "#8e0152"
            ],
            [
             0.1,
             "#c51b7d"
            ],
            [
             0.2,
             "#de77ae"
            ],
            [
             0.3,
             "#f1b6da"
            ],
            [
             0.4,
             "#fde0ef"
            ],
            [
             0.5,
             "#f7f7f7"
            ],
            [
             0.6,
             "#e6f5d0"
            ],
            [
             0.7,
             "#b8e186"
            ],
            [
             0.8,
             "#7fbc41"
            ],
            [
             0.9,
             "#4d9221"
            ],
            [
             1,
             "#276419"
            ]
           ],
           "sequential": [
            [
             0,
             "#0d0887"
            ],
            [
             0.1111111111111111,
             "#46039f"
            ],
            [
             0.2222222222222222,
             "#7201a8"
            ],
            [
             0.3333333333333333,
             "#9c179e"
            ],
            [
             0.4444444444444444,
             "#bd3786"
            ],
            [
             0.5555555555555556,
             "#d8576b"
            ],
            [
             0.6666666666666666,
             "#ed7953"
            ],
            [
             0.7777777777777778,
             "#fb9f3a"
            ],
            [
             0.8888888888888888,
             "#fdca26"
            ],
            [
             1,
             "#f0f921"
            ]
           ],
           "sequentialminus": [
            [
             0,
             "#0d0887"
            ],
            [
             0.1111111111111111,
             "#46039f"
            ],
            [
             0.2222222222222222,
             "#7201a8"
            ],
            [
             0.3333333333333333,
             "#9c179e"
            ],
            [
             0.4444444444444444,
             "#bd3786"
            ],
            [
             0.5555555555555556,
             "#d8576b"
            ],
            [
             0.6666666666666666,
             "#ed7953"
            ],
            [
             0.7777777777777778,
             "#fb9f3a"
            ],
            [
             0.8888888888888888,
             "#fdca26"
            ],
            [
             1,
             "#f0f921"
            ]
           ]
          },
          "colorway": [
           "#636efa",
           "#EF553B",
           "#00cc96",
           "#ab63fa",
           "#FFA15A",
           "#19d3f3",
           "#FF6692",
           "#B6E880",
           "#FF97FF",
           "#FECB52"
          ],
          "font": {
           "color": "#2a3f5f"
          },
          "geo": {
           "bgcolor": "white",
           "lakecolor": "white",
           "landcolor": "white",
           "showlakes": true,
           "showland": true,
           "subunitcolor": "#C8D4E3"
          },
          "hoverlabel": {
           "align": "left"
          },
          "hovermode": "closest",
          "mapbox": {
           "style": "light"
          },
          "paper_bgcolor": "white",
          "plot_bgcolor": "white",
          "polar": {
           "angularaxis": {
            "gridcolor": "#EBF0F8",
            "linecolor": "#EBF0F8",
            "ticks": ""
           },
           "bgcolor": "white",
           "radialaxis": {
            "gridcolor": "#EBF0F8",
            "linecolor": "#EBF0F8",
            "ticks": ""
           }
          },
          "scene": {
           "xaxis": {
            "backgroundcolor": "white",
            "gridcolor": "#DFE8F3",
            "gridwidth": 2,
            "linecolor": "#EBF0F8",
            "showbackground": true,
            "ticks": "",
            "zerolinecolor": "#EBF0F8"
           },
           "yaxis": {
            "backgroundcolor": "white",
            "gridcolor": "#DFE8F3",
            "gridwidth": 2,
            "linecolor": "#EBF0F8",
            "showbackground": true,
            "ticks": "",
            "zerolinecolor": "#EBF0F8"
           },
           "zaxis": {
            "backgroundcolor": "white",
            "gridcolor": "#DFE8F3",
            "gridwidth": 2,
            "linecolor": "#EBF0F8",
            "showbackground": true,
            "ticks": "",
            "zerolinecolor": "#EBF0F8"
           }
          },
          "shapedefaults": {
           "line": {
            "color": "#2a3f5f"
           }
          },
          "ternary": {
           "aaxis": {
            "gridcolor": "#DFE8F3",
            "linecolor": "#A2B1C6",
            "ticks": ""
           },
           "baxis": {
            "gridcolor": "#DFE8F3",
            "linecolor": "#A2B1C6",
            "ticks": ""
           },
           "bgcolor": "white",
           "caxis": {
            "gridcolor": "#DFE8F3",
            "linecolor": "#A2B1C6",
            "ticks": ""
           }
          },
          "title": {
           "x": 0.05
          },
          "xaxis": {
           "automargin": true,
           "gridcolor": "#EBF0F8",
           "linecolor": "#EBF0F8",
           "ticks": "",
           "title": {
            "standoff": 15
           },
           "zerolinecolor": "#EBF0F8",
           "zerolinewidth": 2
          },
          "yaxis": {
           "automargin": true,
           "gridcolor": "#EBF0F8",
           "linecolor": "#EBF0F8",
           "ticks": "",
           "title": {
            "standoff": 15
           },
           "zerolinecolor": "#EBF0F8",
           "zerolinewidth": 2
          }
         }
        },
        "title": {
         "text": "Attrition by Department"
        }
       }
      }
     },
     "metadata": {},
     "output_type": "display_data"
    }
   ],
   "source": [
    "# Filter data Attrition =\"Yes\" only\n",
    "attrition_data = data[data[\"Attrition\"] == \"Yes\"]\n",
    "\n",
    "# Calculate count of attrition by department\n",
    "attrition_by = attrition_data.groupby([\"Department\"]).size().reset_index(name=\"Count\")\n",
    "attrition_by\n",
    "\n",
    "# Create donut chart\n",
    "fig= go.Figure(\n",
    "    data= [go.Pie(\n",
    "        labels = attrition_by[\"Department\"],\n",
    "        values = attrition_by[\"Count\"],\n",
    "        hole=0.2,\n",
    "        marker=dict(\n",
    "            colors = ['#3CAEA3', '#F6D55C']),\n",
    "        textposition = \"inside\"\n",
    "    )])\n",
    "\n",
    "# Update layout\n",
    "fig.update_layout(\n",
    "    title = \"Attrition by Department\",\n",
    "    font= dict(size=16),\n",
    "    legend = dict(\n",
    "        orientation=\"h\",\n",
    "        yanchor =\"bottom\",\n",
    "        y=1.02,\n",
    "        xanchor =\"right\",\n",
    "        x=1\n",
    "    )\n",
    ")\n",
    "\n",
    "fig.show()"
   ]
  },
  {
   "cell_type": "code",
   "execution_count": 5,
   "metadata": {},
   "outputs": [
    {
     "data": {
      "application/vnd.plotly.v1+json": {
       "config": {
        "plotlyServerURL": "https://plot.ly"
       },
       "data": [
        {
         "hole": 0.2,
         "labels": [
          "Human Resources",
          "Life Sciences",
          "Marketing",
          "Medical",
          "Other",
          "Technical Degree"
         ],
         "marker": {
          "colors": [
           "#3CAEA3",
           "#F6D55C"
          ]
         },
         "textposition": "inside",
         "type": "pie",
         "values": [
          7,
          89,
          35,
          63,
          11,
          32
         ]
        }
       ],
       "layout": {
        "font": {
         "size": 16
        },
        "legend": {
         "orientation": "h",
         "x": 1,
         "xanchor": "right",
         "y": 1.02,
         "yanchor": "bottom"
        },
        "template": {
         "data": {
          "bar": [
           {
            "error_x": {
             "color": "#2a3f5f"
            },
            "error_y": {
             "color": "#2a3f5f"
            },
            "marker": {
             "line": {
              "color": "white",
              "width": 0.5
             },
             "pattern": {
              "fillmode": "overlay",
              "size": 10,
              "solidity": 0.2
             }
            },
            "type": "bar"
           }
          ],
          "barpolar": [
           {
            "marker": {
             "line": {
              "color": "white",
              "width": 0.5
             },
             "pattern": {
              "fillmode": "overlay",
              "size": 10,
              "solidity": 0.2
             }
            },
            "type": "barpolar"
           }
          ],
          "carpet": [
           {
            "aaxis": {
             "endlinecolor": "#2a3f5f",
             "gridcolor": "#C8D4E3",
             "linecolor": "#C8D4E3",
             "minorgridcolor": "#C8D4E3",
             "startlinecolor": "#2a3f5f"
            },
            "baxis": {
             "endlinecolor": "#2a3f5f",
             "gridcolor": "#C8D4E3",
             "linecolor": "#C8D4E3",
             "minorgridcolor": "#C8D4E3",
             "startlinecolor": "#2a3f5f"
            },
            "type": "carpet"
           }
          ],
          "choropleth": [
           {
            "colorbar": {
             "outlinewidth": 0,
             "ticks": ""
            },
            "type": "choropleth"
           }
          ],
          "contour": [
           {
            "colorbar": {
             "outlinewidth": 0,
             "ticks": ""
            },
            "colorscale": [
             [
              0,
              "#0d0887"
             ],
             [
              0.1111111111111111,
              "#46039f"
             ],
             [
              0.2222222222222222,
              "#7201a8"
             ],
             [
              0.3333333333333333,
              "#9c179e"
             ],
             [
              0.4444444444444444,
              "#bd3786"
             ],
             [
              0.5555555555555556,
              "#d8576b"
             ],
             [
              0.6666666666666666,
              "#ed7953"
             ],
             [
              0.7777777777777778,
              "#fb9f3a"
             ],
             [
              0.8888888888888888,
              "#fdca26"
             ],
             [
              1,
              "#f0f921"
             ]
            ],
            "type": "contour"
           }
          ],
          "contourcarpet": [
           {
            "colorbar": {
             "outlinewidth": 0,
             "ticks": ""
            },
            "type": "contourcarpet"
           }
          ],
          "heatmap": [
           {
            "colorbar": {
             "outlinewidth": 0,
             "ticks": ""
            },
            "colorscale": [
             [
              0,
              "#0d0887"
             ],
             [
              0.1111111111111111,
              "#46039f"
             ],
             [
              0.2222222222222222,
              "#7201a8"
             ],
             [
              0.3333333333333333,
              "#9c179e"
             ],
             [
              0.4444444444444444,
              "#bd3786"
             ],
             [
              0.5555555555555556,
              "#d8576b"
             ],
             [
              0.6666666666666666,
              "#ed7953"
             ],
             [
              0.7777777777777778,
              "#fb9f3a"
             ],
             [
              0.8888888888888888,
              "#fdca26"
             ],
             [
              1,
              "#f0f921"
             ]
            ],
            "type": "heatmap"
           }
          ],
          "heatmapgl": [
           {
            "colorbar": {
             "outlinewidth": 0,
             "ticks": ""
            },
            "colorscale": [
             [
              0,
              "#0d0887"
             ],
             [
              0.1111111111111111,
              "#46039f"
             ],
             [
              0.2222222222222222,
              "#7201a8"
             ],
             [
              0.3333333333333333,
              "#9c179e"
             ],
             [
              0.4444444444444444,
              "#bd3786"
             ],
             [
              0.5555555555555556,
              "#d8576b"
             ],
             [
              0.6666666666666666,
              "#ed7953"
             ],
             [
              0.7777777777777778,
              "#fb9f3a"
             ],
             [
              0.8888888888888888,
              "#fdca26"
             ],
             [
              1,
              "#f0f921"
             ]
            ],
            "type": "heatmapgl"
           }
          ],
          "histogram": [
           {
            "marker": {
             "pattern": {
              "fillmode": "overlay",
              "size": 10,
              "solidity": 0.2
             }
            },
            "type": "histogram"
           }
          ],
          "histogram2d": [
           {
            "colorbar": {
             "outlinewidth": 0,
             "ticks": ""
            },
            "colorscale": [
             [
              0,
              "#0d0887"
             ],
             [
              0.1111111111111111,
              "#46039f"
             ],
             [
              0.2222222222222222,
              "#7201a8"
             ],
             [
              0.3333333333333333,
              "#9c179e"
             ],
             [
              0.4444444444444444,
              "#bd3786"
             ],
             [
              0.5555555555555556,
              "#d8576b"
             ],
             [
              0.6666666666666666,
              "#ed7953"
             ],
             [
              0.7777777777777778,
              "#fb9f3a"
             ],
             [
              0.8888888888888888,
              "#fdca26"
             ],
             [
              1,
              "#f0f921"
             ]
            ],
            "type": "histogram2d"
           }
          ],
          "histogram2dcontour": [
           {
            "colorbar": {
             "outlinewidth": 0,
             "ticks": ""
            },
            "colorscale": [
             [
              0,
              "#0d0887"
             ],
             [
              0.1111111111111111,
              "#46039f"
             ],
             [
              0.2222222222222222,
              "#7201a8"
             ],
             [
              0.3333333333333333,
              "#9c179e"
             ],
             [
              0.4444444444444444,
              "#bd3786"
             ],
             [
              0.5555555555555556,
              "#d8576b"
             ],
             [
              0.6666666666666666,
              "#ed7953"
             ],
             [
              0.7777777777777778,
              "#fb9f3a"
             ],
             [
              0.8888888888888888,
              "#fdca26"
             ],
             [
              1,
              "#f0f921"
             ]
            ],
            "type": "histogram2dcontour"
           }
          ],
          "mesh3d": [
           {
            "colorbar": {
             "outlinewidth": 0,
             "ticks": ""
            },
            "type": "mesh3d"
           }
          ],
          "parcoords": [
           {
            "line": {
             "colorbar": {
              "outlinewidth": 0,
              "ticks": ""
             }
            },
            "type": "parcoords"
           }
          ],
          "pie": [
           {
            "automargin": true,
            "type": "pie"
           }
          ],
          "scatter": [
           {
            "fillpattern": {
             "fillmode": "overlay",
             "size": 10,
             "solidity": 0.2
            },
            "type": "scatter"
           }
          ],
          "scatter3d": [
           {
            "line": {
             "colorbar": {
              "outlinewidth": 0,
              "ticks": ""
             }
            },
            "marker": {
             "colorbar": {
              "outlinewidth": 0,
              "ticks": ""
             }
            },
            "type": "scatter3d"
           }
          ],
          "scattercarpet": [
           {
            "marker": {
             "colorbar": {
              "outlinewidth": 0,
              "ticks": ""
             }
            },
            "type": "scattercarpet"
           }
          ],
          "scattergeo": [
           {
            "marker": {
             "colorbar": {
              "outlinewidth": 0,
              "ticks": ""
             }
            },
            "type": "scattergeo"
           }
          ],
          "scattergl": [
           {
            "marker": {
             "colorbar": {
              "outlinewidth": 0,
              "ticks": ""
             }
            },
            "type": "scattergl"
           }
          ],
          "scattermapbox": [
           {
            "marker": {
             "colorbar": {
              "outlinewidth": 0,
              "ticks": ""
             }
            },
            "type": "scattermapbox"
           }
          ],
          "scatterpolar": [
           {
            "marker": {
             "colorbar": {
              "outlinewidth": 0,
              "ticks": ""
             }
            },
            "type": "scatterpolar"
           }
          ],
          "scatterpolargl": [
           {
            "marker": {
             "colorbar": {
              "outlinewidth": 0,
              "ticks": ""
             }
            },
            "type": "scatterpolargl"
           }
          ],
          "scatterternary": [
           {
            "marker": {
             "colorbar": {
              "outlinewidth": 0,
              "ticks": ""
             }
            },
            "type": "scatterternary"
           }
          ],
          "surface": [
           {
            "colorbar": {
             "outlinewidth": 0,
             "ticks": ""
            },
            "colorscale": [
             [
              0,
              "#0d0887"
             ],
             [
              0.1111111111111111,
              "#46039f"
             ],
             [
              0.2222222222222222,
              "#7201a8"
             ],
             [
              0.3333333333333333,
              "#9c179e"
             ],
             [
              0.4444444444444444,
              "#bd3786"
             ],
             [
              0.5555555555555556,
              "#d8576b"
             ],
             [
              0.6666666666666666,
              "#ed7953"
             ],
             [
              0.7777777777777778,
              "#fb9f3a"
             ],
             [
              0.8888888888888888,
              "#fdca26"
             ],
             [
              1,
              "#f0f921"
             ]
            ],
            "type": "surface"
           }
          ],
          "table": [
           {
            "cells": {
             "fill": {
              "color": "#EBF0F8"
             },
             "line": {
              "color": "white"
             }
            },
            "header": {
             "fill": {
              "color": "#C8D4E3"
             },
             "line": {
              "color": "white"
             }
            },
            "type": "table"
           }
          ]
         },
         "layout": {
          "annotationdefaults": {
           "arrowcolor": "#2a3f5f",
           "arrowhead": 0,
           "arrowwidth": 1
          },
          "autotypenumbers": "strict",
          "coloraxis": {
           "colorbar": {
            "outlinewidth": 0,
            "ticks": ""
           }
          },
          "colorscale": {
           "diverging": [
            [
             0,
             "#8e0152"
            ],
            [
             0.1,
             "#c51b7d"
            ],
            [
             0.2,
             "#de77ae"
            ],
            [
             0.3,
             "#f1b6da"
            ],
            [
             0.4,
             "#fde0ef"
            ],
            [
             0.5,
             "#f7f7f7"
            ],
            [
             0.6,
             "#e6f5d0"
            ],
            [
             0.7,
             "#b8e186"
            ],
            [
             0.8,
             "#7fbc41"
            ],
            [
             0.9,
             "#4d9221"
            ],
            [
             1,
             "#276419"
            ]
           ],
           "sequential": [
            [
             0,
             "#0d0887"
            ],
            [
             0.1111111111111111,
             "#46039f"
            ],
            [
             0.2222222222222222,
             "#7201a8"
            ],
            [
             0.3333333333333333,
             "#9c179e"
            ],
            [
             0.4444444444444444,
             "#bd3786"
            ],
            [
             0.5555555555555556,
             "#d8576b"
            ],
            [
             0.6666666666666666,
             "#ed7953"
            ],
            [
             0.7777777777777778,
             "#fb9f3a"
            ],
            [
             0.8888888888888888,
             "#fdca26"
            ],
            [
             1,
             "#f0f921"
            ]
           ],
           "sequentialminus": [
            [
             0,
             "#0d0887"
            ],
            [
             0.1111111111111111,
             "#46039f"
            ],
            [
             0.2222222222222222,
             "#7201a8"
            ],
            [
             0.3333333333333333,
             "#9c179e"
            ],
            [
             0.4444444444444444,
             "#bd3786"
            ],
            [
             0.5555555555555556,
             "#d8576b"
            ],
            [
             0.6666666666666666,
             "#ed7953"
            ],
            [
             0.7777777777777778,
             "#fb9f3a"
            ],
            [
             0.8888888888888888,
             "#fdca26"
            ],
            [
             1,
             "#f0f921"
            ]
           ]
          },
          "colorway": [
           "#636efa",
           "#EF553B",
           "#00cc96",
           "#ab63fa",
           "#FFA15A",
           "#19d3f3",
           "#FF6692",
           "#B6E880",
           "#FF97FF",
           "#FECB52"
          ],
          "font": {
           "color": "#2a3f5f"
          },
          "geo": {
           "bgcolor": "white",
           "lakecolor": "white",
           "landcolor": "white",
           "showlakes": true,
           "showland": true,
           "subunitcolor": "#C8D4E3"
          },
          "hoverlabel": {
           "align": "left"
          },
          "hovermode": "closest",
          "mapbox": {
           "style": "light"
          },
          "paper_bgcolor": "white",
          "plot_bgcolor": "white",
          "polar": {
           "angularaxis": {
            "gridcolor": "#EBF0F8",
            "linecolor": "#EBF0F8",
            "ticks": ""
           },
           "bgcolor": "white",
           "radialaxis": {
            "gridcolor": "#EBF0F8",
            "linecolor": "#EBF0F8",
            "ticks": ""
           }
          },
          "scene": {
           "xaxis": {
            "backgroundcolor": "white",
            "gridcolor": "#DFE8F3",
            "gridwidth": 2,
            "linecolor": "#EBF0F8",
            "showbackground": true,
            "ticks": "",
            "zerolinecolor": "#EBF0F8"
           },
           "yaxis": {
            "backgroundcolor": "white",
            "gridcolor": "#DFE8F3",
            "gridwidth": 2,
            "linecolor": "#EBF0F8",
            "showbackground": true,
            "ticks": "",
            "zerolinecolor": "#EBF0F8"
           },
           "zaxis": {
            "backgroundcolor": "white",
            "gridcolor": "#DFE8F3",
            "gridwidth": 2,
            "linecolor": "#EBF0F8",
            "showbackground": true,
            "ticks": "",
            "zerolinecolor": "#EBF0F8"
           }
          },
          "shapedefaults": {
           "line": {
            "color": "#2a3f5f"
           }
          },
          "ternary": {
           "aaxis": {
            "gridcolor": "#DFE8F3",
            "linecolor": "#A2B1C6",
            "ticks": ""
           },
           "baxis": {
            "gridcolor": "#DFE8F3",
            "linecolor": "#A2B1C6",
            "ticks": ""
           },
           "bgcolor": "white",
           "caxis": {
            "gridcolor": "#DFE8F3",
            "linecolor": "#A2B1C6",
            "ticks": ""
           }
          },
          "title": {
           "x": 0.05
          },
          "xaxis": {
           "automargin": true,
           "gridcolor": "#EBF0F8",
           "linecolor": "#EBF0F8",
           "ticks": "",
           "title": {
            "standoff": 15
           },
           "zerolinecolor": "#EBF0F8",
           "zerolinewidth": 2
          },
          "yaxis": {
           "automargin": true,
           "gridcolor": "#EBF0F8",
           "linecolor": "#EBF0F8",
           "ticks": "",
           "title": {
            "standoff": 15
           },
           "zerolinecolor": "#EBF0F8",
           "zerolinewidth": 2
          }
         }
        },
        "title": {
         "text": "Attrition by Educational Field"
        }
       }
      }
     },
     "metadata": {},
     "output_type": "display_data"
    }
   ],
   "source": [
    "# Calculate count of attrition by department\n",
    "attrition_by = attrition_data.groupby([\"EducationField\"]).size().reset_index(name=\"Count\")\n",
    "attrition_by\n",
    "\n",
    "# Create donut chart\n",
    "fig= go.Figure(\n",
    "    data= [go.Pie(\n",
    "        labels = attrition_by[\"EducationField\"],\n",
    "        values = attrition_by[\"Count\"],\n",
    "        hole=0.2,\n",
    "        marker=dict(\n",
    "            colors = ['#3CAEA3', '#F6D55C']),\n",
    "        textposition = \"inside\"\n",
    "    )])\n",
    "\n",
    "# Update layout\n",
    "fig.update_layout(\n",
    "    title = \"Attrition by Educational Field\",\n",
    "    font= dict(size=16),\n",
    "    legend = dict(\n",
    "        orientation=\"h\",\n",
    "        yanchor =\"bottom\",\n",
    "        y=1.02,\n",
    "        xanchor =\"right\",\n",
    "        x=1\n",
    "    )\n",
    ")\n",
    "\n",
    "fig.show()"
   ]
  },
  {
   "cell_type": "code",
   "execution_count": 6,
   "metadata": {},
   "outputs": [
    {
     "data": {
      "application/vnd.plotly.v1+json": {
       "config": {
        "plotlyServerURL": "https://plot.ly"
       },
       "data": [
        {
         "hole": 0.2,
         "labels": [
          0,
          1,
          2,
          3,
          4,
          5,
          6,
          7,
          8,
          9,
          10,
          11,
          13,
          14,
          15,
          16,
          17,
          18,
          19,
          20,
          21,
          22,
          23,
          24,
          31,
          32,
          33,
          40
         ],
         "marker": {
          "colors": [
           "#3CAEA3",
           "#F6D55C"
          ]
         },
         "textposition": "inside",
         "type": "pie",
         "values": [
          16,
          59,
          27,
          20,
          19,
          21,
          9,
          11,
          9,
          8,
          18,
          2,
          2,
          2,
          1,
          1,
          1,
          1,
          1,
          1,
          1,
          1,
          1,
          1,
          1,
          1,
          1,
          1
         ]
        }
       ],
       "layout": {
        "font": {
         "size": 16
        },
        "legend": {
         "orientation": "h",
         "x": 1,
         "xanchor": "right",
         "y": 1.02,
         "yanchor": "bottom"
        },
        "template": {
         "data": {
          "bar": [
           {
            "error_x": {
             "color": "#2a3f5f"
            },
            "error_y": {
             "color": "#2a3f5f"
            },
            "marker": {
             "line": {
              "color": "white",
              "width": 0.5
             },
             "pattern": {
              "fillmode": "overlay",
              "size": 10,
              "solidity": 0.2
             }
            },
            "type": "bar"
           }
          ],
          "barpolar": [
           {
            "marker": {
             "line": {
              "color": "white",
              "width": 0.5
             },
             "pattern": {
              "fillmode": "overlay",
              "size": 10,
              "solidity": 0.2
             }
            },
            "type": "barpolar"
           }
          ],
          "carpet": [
           {
            "aaxis": {
             "endlinecolor": "#2a3f5f",
             "gridcolor": "#C8D4E3",
             "linecolor": "#C8D4E3",
             "minorgridcolor": "#C8D4E3",
             "startlinecolor": "#2a3f5f"
            },
            "baxis": {
             "endlinecolor": "#2a3f5f",
             "gridcolor": "#C8D4E3",
             "linecolor": "#C8D4E3",
             "minorgridcolor": "#C8D4E3",
             "startlinecolor": "#2a3f5f"
            },
            "type": "carpet"
           }
          ],
          "choropleth": [
           {
            "colorbar": {
             "outlinewidth": 0,
             "ticks": ""
            },
            "type": "choropleth"
           }
          ],
          "contour": [
           {
            "colorbar": {
             "outlinewidth": 0,
             "ticks": ""
            },
            "colorscale": [
             [
              0,
              "#0d0887"
             ],
             [
              0.1111111111111111,
              "#46039f"
             ],
             [
              0.2222222222222222,
              "#7201a8"
             ],
             [
              0.3333333333333333,
              "#9c179e"
             ],
             [
              0.4444444444444444,
              "#bd3786"
             ],
             [
              0.5555555555555556,
              "#d8576b"
             ],
             [
              0.6666666666666666,
              "#ed7953"
             ],
             [
              0.7777777777777778,
              "#fb9f3a"
             ],
             [
              0.8888888888888888,
              "#fdca26"
             ],
             [
              1,
              "#f0f921"
             ]
            ],
            "type": "contour"
           }
          ],
          "contourcarpet": [
           {
            "colorbar": {
             "outlinewidth": 0,
             "ticks": ""
            },
            "type": "contourcarpet"
           }
          ],
          "heatmap": [
           {
            "colorbar": {
             "outlinewidth": 0,
             "ticks": ""
            },
            "colorscale": [
             [
              0,
              "#0d0887"
             ],
             [
              0.1111111111111111,
              "#46039f"
             ],
             [
              0.2222222222222222,
              "#7201a8"
             ],
             [
              0.3333333333333333,
              "#9c179e"
             ],
             [
              0.4444444444444444,
              "#bd3786"
             ],
             [
              0.5555555555555556,
              "#d8576b"
             ],
             [
              0.6666666666666666,
              "#ed7953"
             ],
             [
              0.7777777777777778,
              "#fb9f3a"
             ],
             [
              0.8888888888888888,
              "#fdca26"
             ],
             [
              1,
              "#f0f921"
             ]
            ],
            "type": "heatmap"
           }
          ],
          "heatmapgl": [
           {
            "colorbar": {
             "outlinewidth": 0,
             "ticks": ""
            },
            "colorscale": [
             [
              0,
              "#0d0887"
             ],
             [
              0.1111111111111111,
              "#46039f"
             ],
             [
              0.2222222222222222,
              "#7201a8"
             ],
             [
              0.3333333333333333,
              "#9c179e"
             ],
             [
              0.4444444444444444,
              "#bd3786"
             ],
             [
              0.5555555555555556,
              "#d8576b"
             ],
             [
              0.6666666666666666,
              "#ed7953"
             ],
             [
              0.7777777777777778,
              "#fb9f3a"
             ],
             [
              0.8888888888888888,
              "#fdca26"
             ],
             [
              1,
              "#f0f921"
             ]
            ],
            "type": "heatmapgl"
           }
          ],
          "histogram": [
           {
            "marker": {
             "pattern": {
              "fillmode": "overlay",
              "size": 10,
              "solidity": 0.2
             }
            },
            "type": "histogram"
           }
          ],
          "histogram2d": [
           {
            "colorbar": {
             "outlinewidth": 0,
             "ticks": ""
            },
            "colorscale": [
             [
              0,
              "#0d0887"
             ],
             [
              0.1111111111111111,
              "#46039f"
             ],
             [
              0.2222222222222222,
              "#7201a8"
             ],
             [
              0.3333333333333333,
              "#9c179e"
             ],
             [
              0.4444444444444444,
              "#bd3786"
             ],
             [
              0.5555555555555556,
              "#d8576b"
             ],
             [
              0.6666666666666666,
              "#ed7953"
             ],
             [
              0.7777777777777778,
              "#fb9f3a"
             ],
             [
              0.8888888888888888,
              "#fdca26"
             ],
             [
              1,
              "#f0f921"
             ]
            ],
            "type": "histogram2d"
           }
          ],
          "histogram2dcontour": [
           {
            "colorbar": {
             "outlinewidth": 0,
             "ticks": ""
            },
            "colorscale": [
             [
              0,
              "#0d0887"
             ],
             [
              0.1111111111111111,
              "#46039f"
             ],
             [
              0.2222222222222222,
              "#7201a8"
             ],
             [
              0.3333333333333333,
              "#9c179e"
             ],
             [
              0.4444444444444444,
              "#bd3786"
             ],
             [
              0.5555555555555556,
              "#d8576b"
             ],
             [
              0.6666666666666666,
              "#ed7953"
             ],
             [
              0.7777777777777778,
              "#fb9f3a"
             ],
             [
              0.8888888888888888,
              "#fdca26"
             ],
             [
              1,
              "#f0f921"
             ]
            ],
            "type": "histogram2dcontour"
           }
          ],
          "mesh3d": [
           {
            "colorbar": {
             "outlinewidth": 0,
             "ticks": ""
            },
            "type": "mesh3d"
           }
          ],
          "parcoords": [
           {
            "line": {
             "colorbar": {
              "outlinewidth": 0,
              "ticks": ""
             }
            },
            "type": "parcoords"
           }
          ],
          "pie": [
           {
            "automargin": true,
            "type": "pie"
           }
          ],
          "scatter": [
           {
            "fillpattern": {
             "fillmode": "overlay",
             "size": 10,
             "solidity": 0.2
            },
            "type": "scatter"
           }
          ],
          "scatter3d": [
           {
            "line": {
             "colorbar": {
              "outlinewidth": 0,
              "ticks": ""
             }
            },
            "marker": {
             "colorbar": {
              "outlinewidth": 0,
              "ticks": ""
             }
            },
            "type": "scatter3d"
           }
          ],
          "scattercarpet": [
           {
            "marker": {
             "colorbar": {
              "outlinewidth": 0,
              "ticks": ""
             }
            },
            "type": "scattercarpet"
           }
          ],
          "scattergeo": [
           {
            "marker": {
             "colorbar": {
              "outlinewidth": 0,
              "ticks": ""
             }
            },
            "type": "scattergeo"
           }
          ],
          "scattergl": [
           {
            "marker": {
             "colorbar": {
              "outlinewidth": 0,
              "ticks": ""
             }
            },
            "type": "scattergl"
           }
          ],
          "scattermapbox": [
           {
            "marker": {
             "colorbar": {
              "outlinewidth": 0,
              "ticks": ""
             }
            },
            "type": "scattermapbox"
           }
          ],
          "scatterpolar": [
           {
            "marker": {
             "colorbar": {
              "outlinewidth": 0,
              "ticks": ""
             }
            },
            "type": "scatterpolar"
           }
          ],
          "scatterpolargl": [
           {
            "marker": {
             "colorbar": {
              "outlinewidth": 0,
              "ticks": ""
             }
            },
            "type": "scatterpolargl"
           }
          ],
          "scatterternary": [
           {
            "marker": {
             "colorbar": {
              "outlinewidth": 0,
              "ticks": ""
             }
            },
            "type": "scatterternary"
           }
          ],
          "surface": [
           {
            "colorbar": {
             "outlinewidth": 0,
             "ticks": ""
            },
            "colorscale": [
             [
              0,
              "#0d0887"
             ],
             [
              0.1111111111111111,
              "#46039f"
             ],
             [
              0.2222222222222222,
              "#7201a8"
             ],
             [
              0.3333333333333333,
              "#9c179e"
             ],
             [
              0.4444444444444444,
              "#bd3786"
             ],
             [
              0.5555555555555556,
              "#d8576b"
             ],
             [
              0.6666666666666666,
              "#ed7953"
             ],
             [
              0.7777777777777778,
              "#fb9f3a"
             ],
             [
              0.8888888888888888,
              "#fdca26"
             ],
             [
              1,
              "#f0f921"
             ]
            ],
            "type": "surface"
           }
          ],
          "table": [
           {
            "cells": {
             "fill": {
              "color": "#EBF0F8"
             },
             "line": {
              "color": "white"
             }
            },
            "header": {
             "fill": {
              "color": "#C8D4E3"
             },
             "line": {
              "color": "white"
             }
            },
            "type": "table"
           }
          ]
         },
         "layout": {
          "annotationdefaults": {
           "arrowcolor": "#2a3f5f",
           "arrowhead": 0,
           "arrowwidth": 1
          },
          "autotypenumbers": "strict",
          "coloraxis": {
           "colorbar": {
            "outlinewidth": 0,
            "ticks": ""
           }
          },
          "colorscale": {
           "diverging": [
            [
             0,
             "#8e0152"
            ],
            [
             0.1,
             "#c51b7d"
            ],
            [
             0.2,
             "#de77ae"
            ],
            [
             0.3,
             "#f1b6da"
            ],
            [
             0.4,
             "#fde0ef"
            ],
            [
             0.5,
             "#f7f7f7"
            ],
            [
             0.6,
             "#e6f5d0"
            ],
            [
             0.7,
             "#b8e186"
            ],
            [
             0.8,
             "#7fbc41"
            ],
            [
             0.9,
             "#4d9221"
            ],
            [
             1,
             "#276419"
            ]
           ],
           "sequential": [
            [
             0,
             "#0d0887"
            ],
            [
             0.1111111111111111,
             "#46039f"
            ],
            [
             0.2222222222222222,
             "#7201a8"
            ],
            [
             0.3333333333333333,
             "#9c179e"
            ],
            [
             0.4444444444444444,
             "#bd3786"
            ],
            [
             0.5555555555555556,
             "#d8576b"
            ],
            [
             0.6666666666666666,
             "#ed7953"
            ],
            [
             0.7777777777777778,
             "#fb9f3a"
            ],
            [
             0.8888888888888888,
             "#fdca26"
            ],
            [
             1,
             "#f0f921"
            ]
           ],
           "sequentialminus": [
            [
             0,
             "#0d0887"
            ],
            [
             0.1111111111111111,
             "#46039f"
            ],
            [
             0.2222222222222222,
             "#7201a8"
            ],
            [
             0.3333333333333333,
             "#9c179e"
            ],
            [
             0.4444444444444444,
             "#bd3786"
            ],
            [
             0.5555555555555556,
             "#d8576b"
            ],
            [
             0.6666666666666666,
             "#ed7953"
            ],
            [
             0.7777777777777778,
             "#fb9f3a"
            ],
            [
             0.8888888888888888,
             "#fdca26"
            ],
            [
             1,
             "#f0f921"
            ]
           ]
          },
          "colorway": [
           "#636efa",
           "#EF553B",
           "#00cc96",
           "#ab63fa",
           "#FFA15A",
           "#19d3f3",
           "#FF6692",
           "#B6E880",
           "#FF97FF",
           "#FECB52"
          ],
          "font": {
           "color": "#2a3f5f"
          },
          "geo": {
           "bgcolor": "white",
           "lakecolor": "white",
           "landcolor": "white",
           "showlakes": true,
           "showland": true,
           "subunitcolor": "#C8D4E3"
          },
          "hoverlabel": {
           "align": "left"
          },
          "hovermode": "closest",
          "mapbox": {
           "style": "light"
          },
          "paper_bgcolor": "white",
          "plot_bgcolor": "white",
          "polar": {
           "angularaxis": {
            "gridcolor": "#EBF0F8",
            "linecolor": "#EBF0F8",
            "ticks": ""
           },
           "bgcolor": "white",
           "radialaxis": {
            "gridcolor": "#EBF0F8",
            "linecolor": "#EBF0F8",
            "ticks": ""
           }
          },
          "scene": {
           "xaxis": {
            "backgroundcolor": "white",
            "gridcolor": "#DFE8F3",
            "gridwidth": 2,
            "linecolor": "#EBF0F8",
            "showbackground": true,
            "ticks": "",
            "zerolinecolor": "#EBF0F8"
           },
           "yaxis": {
            "backgroundcolor": "white",
            "gridcolor": "#DFE8F3",
            "gridwidth": 2,
            "linecolor": "#EBF0F8",
            "showbackground": true,
            "ticks": "",
            "zerolinecolor": "#EBF0F8"
           },
           "zaxis": {
            "backgroundcolor": "white",
            "gridcolor": "#DFE8F3",
            "gridwidth": 2,
            "linecolor": "#EBF0F8",
            "showbackground": true,
            "ticks": "",
            "zerolinecolor": "#EBF0F8"
           }
          },
          "shapedefaults": {
           "line": {
            "color": "#2a3f5f"
           }
          },
          "ternary": {
           "aaxis": {
            "gridcolor": "#DFE8F3",
            "linecolor": "#A2B1C6",
            "ticks": ""
           },
           "baxis": {
            "gridcolor": "#DFE8F3",
            "linecolor": "#A2B1C6",
            "ticks": ""
           },
           "bgcolor": "white",
           "caxis": {
            "gridcolor": "#DFE8F3",
            "linecolor": "#A2B1C6",
            "ticks": ""
           }
          },
          "title": {
           "x": 0.05
          },
          "xaxis": {
           "automargin": true,
           "gridcolor": "#EBF0F8",
           "linecolor": "#EBF0F8",
           "ticks": "",
           "title": {
            "standoff": 15
           },
           "zerolinecolor": "#EBF0F8",
           "zerolinewidth": 2
          },
          "yaxis": {
           "automargin": true,
           "gridcolor": "#EBF0F8",
           "linecolor": "#EBF0F8",
           "ticks": "",
           "title": {
            "standoff": 15
           },
           "zerolinecolor": "#EBF0F8",
           "zerolinewidth": 2
          }
         }
        },
        "title": {
         "text": "Attrition by Years At Company"
        }
       }
      }
     },
     "metadata": {},
     "output_type": "display_data"
    }
   ],
   "source": [
    "# Calculate count of attrition by department\n",
    "attrition_by = attrition_data.groupby([\"YearsAtCompany\"]).size().reset_index(name=\"Count\")\n",
    "attrition_by\n",
    "\n",
    "# Create donut chart\n",
    "fig= go.Figure(\n",
    "    data= [go.Pie(\n",
    "        labels = attrition_by[\"YearsAtCompany\"],\n",
    "        values = attrition_by[\"Count\"],\n",
    "        hole=0.2,\n",
    "        marker=dict(\n",
    "            colors = ['#3CAEA3', '#F6D55C']),\n",
    "        textposition = \"inside\"\n",
    "    )])\n",
    "\n",
    "# Update layout\n",
    "fig.update_layout(\n",
    "    title = \"Attrition by Years At Company\",\n",
    "    font= dict(size=16),\n",
    "    legend = dict(\n",
    "        orientation=\"h\",\n",
    "        yanchor =\"bottom\",\n",
    "        y=1.02,\n",
    "        xanchor =\"right\",\n",
    "        x=1\n",
    "    )\n",
    ")\n",
    "\n",
    "fig.show()"
   ]
  },
  {
   "cell_type": "code",
   "execution_count": 7,
   "metadata": {},
   "outputs": [
    {
     "name": "stdout",
     "output_type": "stream",
     "text": [
      "<class 'pandas.core.frame.DataFrame'>\n",
      "RangeIndex: 8 entries, 0 to 7\n",
      "Data columns (total 2 columns):\n",
      " #   Column       Non-Null Count  Dtype \n",
      "---  ------       --------------  ----- \n",
      " 0   Years Group  8 non-null      string\n",
      " 1   Count        8 non-null      int64 \n",
      "dtypes: int64(1), string(1)\n",
      "memory usage: 256.0 bytes\n"
     ]
    },
    {
     "data": {
      "application/vnd.plotly.v1+json": {
       "config": {
        "plotlyServerURL": "https://plot.ly"
       },
       "data": [
        {
         "hole": 0.2,
         "labels": [
          "(-0.04, 5.0]",
          "(5.0, 10.0]",
          "(10.0, 15.0]",
          "(15.0, 20.0]",
          "(20.0, 25.0]",
          "(25.0, 30.0]",
          "(30.0, 35.0]",
          "(35.0, 40.0]"
         ],
         "marker": {
          "colors": [
           "#3CAEA3",
           "#F6D55C"
          ]
         },
         "textposition": "inside",
         "type": "pie",
         "values": [
          162,
          55,
          7,
          5,
          4,
          0,
          3,
          1
         ]
        }
       ],
       "layout": {
        "font": {
         "size": 16
        },
        "legend": {
         "orientation": "h",
         "x": 1,
         "xanchor": "right",
         "y": 1.02,
         "yanchor": "bottom"
        },
        "template": {
         "data": {
          "bar": [
           {
            "error_x": {
             "color": "#2a3f5f"
            },
            "error_y": {
             "color": "#2a3f5f"
            },
            "marker": {
             "line": {
              "color": "white",
              "width": 0.5
             },
             "pattern": {
              "fillmode": "overlay",
              "size": 10,
              "solidity": 0.2
             }
            },
            "type": "bar"
           }
          ],
          "barpolar": [
           {
            "marker": {
             "line": {
              "color": "white",
              "width": 0.5
             },
             "pattern": {
              "fillmode": "overlay",
              "size": 10,
              "solidity": 0.2
             }
            },
            "type": "barpolar"
           }
          ],
          "carpet": [
           {
            "aaxis": {
             "endlinecolor": "#2a3f5f",
             "gridcolor": "#C8D4E3",
             "linecolor": "#C8D4E3",
             "minorgridcolor": "#C8D4E3",
             "startlinecolor": "#2a3f5f"
            },
            "baxis": {
             "endlinecolor": "#2a3f5f",
             "gridcolor": "#C8D4E3",
             "linecolor": "#C8D4E3",
             "minorgridcolor": "#C8D4E3",
             "startlinecolor": "#2a3f5f"
            },
            "type": "carpet"
           }
          ],
          "choropleth": [
           {
            "colorbar": {
             "outlinewidth": 0,
             "ticks": ""
            },
            "type": "choropleth"
           }
          ],
          "contour": [
           {
            "colorbar": {
             "outlinewidth": 0,
             "ticks": ""
            },
            "colorscale": [
             [
              0,
              "#0d0887"
             ],
             [
              0.1111111111111111,
              "#46039f"
             ],
             [
              0.2222222222222222,
              "#7201a8"
             ],
             [
              0.3333333333333333,
              "#9c179e"
             ],
             [
              0.4444444444444444,
              "#bd3786"
             ],
             [
              0.5555555555555556,
              "#d8576b"
             ],
             [
              0.6666666666666666,
              "#ed7953"
             ],
             [
              0.7777777777777778,
              "#fb9f3a"
             ],
             [
              0.8888888888888888,
              "#fdca26"
             ],
             [
              1,
              "#f0f921"
             ]
            ],
            "type": "contour"
           }
          ],
          "contourcarpet": [
           {
            "colorbar": {
             "outlinewidth": 0,
             "ticks": ""
            },
            "type": "contourcarpet"
           }
          ],
          "heatmap": [
           {
            "colorbar": {
             "outlinewidth": 0,
             "ticks": ""
            },
            "colorscale": [
             [
              0,
              "#0d0887"
             ],
             [
              0.1111111111111111,
              "#46039f"
             ],
             [
              0.2222222222222222,
              "#7201a8"
             ],
             [
              0.3333333333333333,
              "#9c179e"
             ],
             [
              0.4444444444444444,
              "#bd3786"
             ],
             [
              0.5555555555555556,
              "#d8576b"
             ],
             [
              0.6666666666666666,
              "#ed7953"
             ],
             [
              0.7777777777777778,
              "#fb9f3a"
             ],
             [
              0.8888888888888888,
              "#fdca26"
             ],
             [
              1,
              "#f0f921"
             ]
            ],
            "type": "heatmap"
           }
          ],
          "heatmapgl": [
           {
            "colorbar": {
             "outlinewidth": 0,
             "ticks": ""
            },
            "colorscale": [
             [
              0,
              "#0d0887"
             ],
             [
              0.1111111111111111,
              "#46039f"
             ],
             [
              0.2222222222222222,
              "#7201a8"
             ],
             [
              0.3333333333333333,
              "#9c179e"
             ],
             [
              0.4444444444444444,
              "#bd3786"
             ],
             [
              0.5555555555555556,
              "#d8576b"
             ],
             [
              0.6666666666666666,
              "#ed7953"
             ],
             [
              0.7777777777777778,
              "#fb9f3a"
             ],
             [
              0.8888888888888888,
              "#fdca26"
             ],
             [
              1,
              "#f0f921"
             ]
            ],
            "type": "heatmapgl"
           }
          ],
          "histogram": [
           {
            "marker": {
             "pattern": {
              "fillmode": "overlay",
              "size": 10,
              "solidity": 0.2
             }
            },
            "type": "histogram"
           }
          ],
          "histogram2d": [
           {
            "colorbar": {
             "outlinewidth": 0,
             "ticks": ""
            },
            "colorscale": [
             [
              0,
              "#0d0887"
             ],
             [
              0.1111111111111111,
              "#46039f"
             ],
             [
              0.2222222222222222,
              "#7201a8"
             ],
             [
              0.3333333333333333,
              "#9c179e"
             ],
             [
              0.4444444444444444,
              "#bd3786"
             ],
             [
              0.5555555555555556,
              "#d8576b"
             ],
             [
              0.6666666666666666,
              "#ed7953"
             ],
             [
              0.7777777777777778,
              "#fb9f3a"
             ],
             [
              0.8888888888888888,
              "#fdca26"
             ],
             [
              1,
              "#f0f921"
             ]
            ],
            "type": "histogram2d"
           }
          ],
          "histogram2dcontour": [
           {
            "colorbar": {
             "outlinewidth": 0,
             "ticks": ""
            },
            "colorscale": [
             [
              0,
              "#0d0887"
             ],
             [
              0.1111111111111111,
              "#46039f"
             ],
             [
              0.2222222222222222,
              "#7201a8"
             ],
             [
              0.3333333333333333,
              "#9c179e"
             ],
             [
              0.4444444444444444,
              "#bd3786"
             ],
             [
              0.5555555555555556,
              "#d8576b"
             ],
             [
              0.6666666666666666,
              "#ed7953"
             ],
             [
              0.7777777777777778,
              "#fb9f3a"
             ],
             [
              0.8888888888888888,
              "#fdca26"
             ],
             [
              1,
              "#f0f921"
             ]
            ],
            "type": "histogram2dcontour"
           }
          ],
          "mesh3d": [
           {
            "colorbar": {
             "outlinewidth": 0,
             "ticks": ""
            },
            "type": "mesh3d"
           }
          ],
          "parcoords": [
           {
            "line": {
             "colorbar": {
              "outlinewidth": 0,
              "ticks": ""
             }
            },
            "type": "parcoords"
           }
          ],
          "pie": [
           {
            "automargin": true,
            "type": "pie"
           }
          ],
          "scatter": [
           {
            "fillpattern": {
             "fillmode": "overlay",
             "size": 10,
             "solidity": 0.2
            },
            "type": "scatter"
           }
          ],
          "scatter3d": [
           {
            "line": {
             "colorbar": {
              "outlinewidth": 0,
              "ticks": ""
             }
            },
            "marker": {
             "colorbar": {
              "outlinewidth": 0,
              "ticks": ""
             }
            },
            "type": "scatter3d"
           }
          ],
          "scattercarpet": [
           {
            "marker": {
             "colorbar": {
              "outlinewidth": 0,
              "ticks": ""
             }
            },
            "type": "scattercarpet"
           }
          ],
          "scattergeo": [
           {
            "marker": {
             "colorbar": {
              "outlinewidth": 0,
              "ticks": ""
             }
            },
            "type": "scattergeo"
           }
          ],
          "scattergl": [
           {
            "marker": {
             "colorbar": {
              "outlinewidth": 0,
              "ticks": ""
             }
            },
            "type": "scattergl"
           }
          ],
          "scattermapbox": [
           {
            "marker": {
             "colorbar": {
              "outlinewidth": 0,
              "ticks": ""
             }
            },
            "type": "scattermapbox"
           }
          ],
          "scatterpolar": [
           {
            "marker": {
             "colorbar": {
              "outlinewidth": 0,
              "ticks": ""
             }
            },
            "type": "scatterpolar"
           }
          ],
          "scatterpolargl": [
           {
            "marker": {
             "colorbar": {
              "outlinewidth": 0,
              "ticks": ""
             }
            },
            "type": "scatterpolargl"
           }
          ],
          "scatterternary": [
           {
            "marker": {
             "colorbar": {
              "outlinewidth": 0,
              "ticks": ""
             }
            },
            "type": "scatterternary"
           }
          ],
          "surface": [
           {
            "colorbar": {
             "outlinewidth": 0,
             "ticks": ""
            },
            "colorscale": [
             [
              0,
              "#0d0887"
             ],
             [
              0.1111111111111111,
              "#46039f"
             ],
             [
              0.2222222222222222,
              "#7201a8"
             ],
             [
              0.3333333333333333,
              "#9c179e"
             ],
             [
              0.4444444444444444,
              "#bd3786"
             ],
             [
              0.5555555555555556,
              "#d8576b"
             ],
             [
              0.6666666666666666,
              "#ed7953"
             ],
             [
              0.7777777777777778,
              "#fb9f3a"
             ],
             [
              0.8888888888888888,
              "#fdca26"
             ],
             [
              1,
              "#f0f921"
             ]
            ],
            "type": "surface"
           }
          ],
          "table": [
           {
            "cells": {
             "fill": {
              "color": "#EBF0F8"
             },
             "line": {
              "color": "white"
             }
            },
            "header": {
             "fill": {
              "color": "#C8D4E3"
             },
             "line": {
              "color": "white"
             }
            },
            "type": "table"
           }
          ]
         },
         "layout": {
          "annotationdefaults": {
           "arrowcolor": "#2a3f5f",
           "arrowhead": 0,
           "arrowwidth": 1
          },
          "autotypenumbers": "strict",
          "coloraxis": {
           "colorbar": {
            "outlinewidth": 0,
            "ticks": ""
           }
          },
          "colorscale": {
           "diverging": [
            [
             0,
             "#8e0152"
            ],
            [
             0.1,
             "#c51b7d"
            ],
            [
             0.2,
             "#de77ae"
            ],
            [
             0.3,
             "#f1b6da"
            ],
            [
             0.4,
             "#fde0ef"
            ],
            [
             0.5,
             "#f7f7f7"
            ],
            [
             0.6,
             "#e6f5d0"
            ],
            [
             0.7,
             "#b8e186"
            ],
            [
             0.8,
             "#7fbc41"
            ],
            [
             0.9,
             "#4d9221"
            ],
            [
             1,
             "#276419"
            ]
           ],
           "sequential": [
            [
             0,
             "#0d0887"
            ],
            [
             0.1111111111111111,
             "#46039f"
            ],
            [
             0.2222222222222222,
             "#7201a8"
            ],
            [
             0.3333333333333333,
             "#9c179e"
            ],
            [
             0.4444444444444444,
             "#bd3786"
            ],
            [
             0.5555555555555556,
             "#d8576b"
            ],
            [
             0.6666666666666666,
             "#ed7953"
            ],
            [
             0.7777777777777778,
             "#fb9f3a"
            ],
            [
             0.8888888888888888,
             "#fdca26"
            ],
            [
             1,
             "#f0f921"
            ]
           ],
           "sequentialminus": [
            [
             0,
             "#0d0887"
            ],
            [
             0.1111111111111111,
             "#46039f"
            ],
            [
             0.2222222222222222,
             "#7201a8"
            ],
            [
             0.3333333333333333,
             "#9c179e"
            ],
            [
             0.4444444444444444,
             "#bd3786"
            ],
            [
             0.5555555555555556,
             "#d8576b"
            ],
            [
             0.6666666666666666,
             "#ed7953"
            ],
            [
             0.7777777777777778,
             "#fb9f3a"
            ],
            [
             0.8888888888888888,
             "#fdca26"
            ],
            [
             1,
             "#f0f921"
            ]
           ]
          },
          "colorway": [
           "#636efa",
           "#EF553B",
           "#00cc96",
           "#ab63fa",
           "#FFA15A",
           "#19d3f3",
           "#FF6692",
           "#B6E880",
           "#FF97FF",
           "#FECB52"
          ],
          "font": {
           "color": "#2a3f5f"
          },
          "geo": {
           "bgcolor": "white",
           "lakecolor": "white",
           "landcolor": "white",
           "showlakes": true,
           "showland": true,
           "subunitcolor": "#C8D4E3"
          },
          "hoverlabel": {
           "align": "left"
          },
          "hovermode": "closest",
          "mapbox": {
           "style": "light"
          },
          "paper_bgcolor": "white",
          "plot_bgcolor": "white",
          "polar": {
           "angularaxis": {
            "gridcolor": "#EBF0F8",
            "linecolor": "#EBF0F8",
            "ticks": ""
           },
           "bgcolor": "white",
           "radialaxis": {
            "gridcolor": "#EBF0F8",
            "linecolor": "#EBF0F8",
            "ticks": ""
           }
          },
          "scene": {
           "xaxis": {
            "backgroundcolor": "white",
            "gridcolor": "#DFE8F3",
            "gridwidth": 2,
            "linecolor": "#EBF0F8",
            "showbackground": true,
            "ticks": "",
            "zerolinecolor": "#EBF0F8"
           },
           "yaxis": {
            "backgroundcolor": "white",
            "gridcolor": "#DFE8F3",
            "gridwidth": 2,
            "linecolor": "#EBF0F8",
            "showbackground": true,
            "ticks": "",
            "zerolinecolor": "#EBF0F8"
           },
           "zaxis": {
            "backgroundcolor": "white",
            "gridcolor": "#DFE8F3",
            "gridwidth": 2,
            "linecolor": "#EBF0F8",
            "showbackground": true,
            "ticks": "",
            "zerolinecolor": "#EBF0F8"
           }
          },
          "shapedefaults": {
           "line": {
            "color": "#2a3f5f"
           }
          },
          "ternary": {
           "aaxis": {
            "gridcolor": "#DFE8F3",
            "linecolor": "#A2B1C6",
            "ticks": ""
           },
           "baxis": {
            "gridcolor": "#DFE8F3",
            "linecolor": "#A2B1C6",
            "ticks": ""
           },
           "bgcolor": "white",
           "caxis": {
            "gridcolor": "#DFE8F3",
            "linecolor": "#A2B1C6",
            "ticks": ""
           }
          },
          "title": {
           "x": 0.05
          },
          "xaxis": {
           "automargin": true,
           "gridcolor": "#EBF0F8",
           "linecolor": "#EBF0F8",
           "ticks": "",
           "title": {
            "standoff": 15
           },
           "zerolinecolor": "#EBF0F8",
           "zerolinewidth": 2
          },
          "yaxis": {
           "automargin": true,
           "gridcolor": "#EBF0F8",
           "linecolor": "#EBF0F8",
           "ticks": "",
           "title": {
            "standoff": 15
           },
           "zerolinecolor": "#EBF0F8",
           "zerolinewidth": 2
          }
         }
        },
        "title": {
         "text": "Attrition by Years At Company"
        }
       }
      }
     },
     "metadata": {},
     "output_type": "display_data"
    }
   ],
   "source": [
    "# Trying to group the age into 4 or 8 bins to make the above chart more clean\n",
    "# Need \n",
    "\n",
    "# Calculate count of attrition by department\n",
    "year_group= pd.cut(attrition_data['YearsAtCompany'], bins=8).reset_index(name=\"Count\")\n",
    "attrition_by = pd.DataFrame(year_group.groupby(\"Count\").size()).reset_index()\n",
    "attrition_by.columns = ['Years Group', 'Count']\n",
    "attrition_by['Years Group'] = attrition_by['Years Group'].astype('string')\n",
    "attrition_by.info()\n",
    "# labels = ['0 to 10 years', '> 10 to 20 years', '> 20 to 30 years', '> 30 to 40 years']\n",
    "# Create donut chart\n",
    "fig= go.Figure(\n",
    "    data= [go.Pie(\n",
    "        labels = attrition_by['Years Group'],\n",
    "        values = attrition_by[\"Count\"],\n",
    "        hole=0.2,\n",
    "        marker=dict(\n",
    "            colors = ['#3CAEA3', '#F6D55C']),\n",
    "        textposition = \"inside\"\n",
    "    )])\n",
    "\n",
    "# Update layout\n",
    "fig.update_layout(\n",
    "    title = \"Attrition by Years At Company\",\n",
    "    font= dict(size=16),\n",
    "    legend = dict(\n",
    "        orientation=\"h\",\n",
    "        yanchor =\"bottom\",\n",
    "        y=1.02,\n",
    "        xanchor =\"right\",\n",
    "        x=1\n",
    "    )\n",
    ")\n",
    "\n",
    "fig.show()"
   ]
  },
  {
   "cell_type": "code",
   "execution_count": 8,
   "metadata": {},
   "outputs": [
    {
     "data": {
      "application/vnd.plotly.v1+json": {
       "config": {
        "plotlyServerURL": "https://plot.ly"
       },
       "data": [
        {
         "hovertemplate": "Attrition=Yes<br>Age=%{x}<br>MonthlyIncome=%{y}<extra></extra>",
         "legendgroup": "Yes",
         "marker": {
          "color": "#636efa",
          "symbol": "circle"
         },
         "mode": "markers",
         "name": "Yes",
         "showlegend": true,
         "type": "scattergl",
         "x": [
          58,
          53,
          52,
          58,
          45,
          47,
          41,
          42,
          44,
          55,
          39,
          36,
          36,
          34,
          32,
          37,
          33,
          35,
          29,
          35,
          32,
          29,
          47,
          33,
          33,
          35,
          51,
          28,
          44,
          32,
          58,
          31,
          31,
          30,
          35,
          37,
          31,
          56,
          46,
          34,
          33,
          49,
          55,
          29,
          48,
          46,
          26,
          52,
          41,
          26,
          35,
          52,
          27,
          29,
          46,
          31,
          29,
          33,
          26,
          28,
          41,
          25,
          29,
          46,
          31,
          34,
          41,
          25,
          30,
          29,
          40,
          26,
          24,
          44,
          50,
          36,
          56,
          32,
          30,
          33,
          31,
          34,
          24,
          47,
          55,
          30,
          33,
          39,
          40,
          29,
          40,
          38,
          23,
          44,
          26,
          34,
          28,
          34,
          51,
          41,
          29,
          33,
          32,
          27,
          50,
          26,
          35,
          43,
          35,
          49,
          40,
          30,
          56,
          32,
          28,
          50,
          37,
          32,
          26,
          28,
          21,
          34,
          31,
          33,
          29,
          22,
          31,
          30,
          26,
          31,
          44,
          25,
          28,
          23,
          50,
          24,
          28,
          31,
          25,
          34,
          29,
          22,
          24,
          42,
          28,
          20,
          39,
          26,
          20,
          33,
          31,
          21,
          31,
          34,
          35,
          36,
          29,
          29,
          32,
          28,
          53,
          29,
          39,
          26,
          48,
          36,
          20,
          19,
          35,
          38,
          37,
          44,
          39,
          33,
          21,
          30,
          19,
          31,
          26,
          30,
          45,
          20,
          29,
          32,
          58,
          21,
          25,
          19,
          20,
          58,
          40,
          20,
          37,
          36,
          21,
          26,
          28,
          28,
          41,
          24,
          19,
          25,
          31,
          31,
          31,
          39,
          35,
          28,
          32,
          24,
          31,
          43,
          21,
          22,
          31,
          29,
          30,
          22,
          29,
          27,
          23,
          37,
          19,
          19,
          28,
          18,
          18,
          23,
          29,
          50,
          18,
          22,
          24,
          28,
          18,
          32,
          33
         ],
         "xaxis": "x",
         "y": [
          10312,
          10169,
          19845,
          19246,
          18824,
          12936,
          19545,
          13758,
          10482,
          13695,
          12169,
          2743,
          10325,
          4599,
          10400,
          10609,
          4508,
          10306,
          7336,
          4581,
          3919,
          7639,
          11849,
          3348,
          2686,
          2022,
          2461,
          8722,
          7978,
          4883,
          10008,
          6179,
          7446,
          9714,
          5813,
          4213,
          5617,
          2339,
          9619,
          6074,
          2707,
          7654,
          5160,
          2362,
          2655,
          8926,
          5828,
          4941,
          9355,
          2366,
          9582,
          8446,
          2394,
          7553,
          7314,
          6172,
          2119,
          13610,
          2741,
          2216,
          2778,
          3691,
          3339,
          10096,
          4084,
          5346,
          5993,
          5744,
          6696,
          2058,
          6380,
          3102,
          2886,
          2936,
          6728,
          3407,
          4963,
          4200,
          2657,
          2436,
          3479,
          5304,
          3202,
          6397,
          19859,
          2132,
          8224,
          3904,
          9094,
          5765,
          2018,
          4855,
          3989,
          2342,
          2148,
          2307,
          2028,
          2960,
          10650,
          3140,
          2389,
          3408,
          4707,
          3041,
          6796,
          5326,
          3743,
          5346,
          4614,
          4284,
          2166,
          2180,
          2587,
          2432,
          2367,
          2683,
          2073,
          3730,
          2373,
          3464,
          2174,
          9950,
          4233,
          5324,
          2800,
          4171,
          2321,
          2422,
          2042,
          2302,
          2362,
          4400,
          2909,
          2275,
          10854,
          2293,
          3441,
          4559,
          4031,
          2351,
          2546,
          3894,
          4577,
          2759,
          4382,
          2044,
          2404,
          4969,
          2323,
          2313,
          2610,
          2625,
          3722,
          2742,
          5440,
          6134,
          2760,
          2335,
          9907,
          9854,
          10448,
          4787,
          2086,
          2293,
          5381,
          3388,
          2926,
          1102,
          5916,
          6673,
          10048,
          3161,
          5238,
          2851,
          2716,
          2285,
          2564,
          9824,
          2340,
          2033,
          4286,
          1009,
          2319,
          2795,
          2380,
          2693,
          2413,
          2121,
          2973,
          2479,
          13194,
          2600,
          4777,
          4834,
          1416,
          2377,
          2596,
          2515,
          2107,
          2210,
          1859,
          1118,
          2785,
          1359,
          1261,
          3646,
          2074,
          2408,
          1393,
          1555,
          8161,
          2437,
          2679,
          2398,
          2956,
          2439,
          1081,
          2472,
          1091,
          2863,
          1790,
          2090,
          1675,
          2325,
          3485,
          1420,
          1878,
          1601,
          2404,
          4728,
          1904,
          2853,
          3172,
          2561,
          1569,
          6735,
          8564
         ],
         "yaxis": "y"
        },
        {
         "hovertemplate": "<b>OLS trendline</b><br>MonthlyIncome = 188.072 * Age + -1533.56<br>R<sup>2</sup>=0.250603<br><br>Attrition=Yes<br>Age=%{x}<br>MonthlyIncome=%{y} <b>(trend)</b><extra></extra>",
         "legendgroup": "Yes",
         "marker": {
          "color": "#636efa",
          "symbol": "circle"
         },
         "mode": "lines",
         "name": "Yes",
         "showlegend": false,
         "type": "scattergl",
         "x": [
          18,
          18,
          18,
          18,
          19,
          19,
          19,
          19,
          19,
          19,
          20,
          20,
          20,
          20,
          20,
          20,
          21,
          21,
          21,
          21,
          21,
          21,
          22,
          22,
          22,
          22,
          22,
          23,
          23,
          23,
          23,
          24,
          24,
          24,
          24,
          24,
          24,
          24,
          25,
          25,
          25,
          25,
          25,
          25,
          26,
          26,
          26,
          26,
          26,
          26,
          26,
          26,
          26,
          26,
          26,
          26,
          27,
          27,
          27,
          28,
          28,
          28,
          28,
          28,
          28,
          28,
          28,
          28,
          28,
          28,
          28,
          28,
          28,
          29,
          29,
          29,
          29,
          29,
          29,
          29,
          29,
          29,
          29,
          29,
          29,
          29,
          29,
          29,
          29,
          29,
          29,
          30,
          30,
          30,
          30,
          30,
          30,
          30,
          30,
          30,
          31,
          31,
          31,
          31,
          31,
          31,
          31,
          31,
          31,
          31,
          31,
          31,
          31,
          31,
          31,
          31,
          31,
          31,
          32,
          32,
          32,
          32,
          32,
          32,
          32,
          32,
          32,
          32,
          32,
          33,
          33,
          33,
          33,
          33,
          33,
          33,
          33,
          33,
          33,
          33,
          33,
          34,
          34,
          34,
          34,
          34,
          34,
          34,
          34,
          34,
          35,
          35,
          35,
          35,
          35,
          35,
          35,
          35,
          35,
          35,
          36,
          36,
          36,
          36,
          36,
          36,
          37,
          37,
          37,
          37,
          37,
          37,
          38,
          38,
          39,
          39,
          39,
          39,
          39,
          39,
          40,
          40,
          40,
          40,
          40,
          41,
          41,
          41,
          41,
          41,
          41,
          42,
          42,
          43,
          43,
          44,
          44,
          44,
          44,
          44,
          44,
          45,
          45,
          46,
          46,
          46,
          46,
          47,
          47,
          47,
          48,
          48,
          49,
          49,
          50,
          50,
          50,
          50,
          50,
          51,
          51,
          52,
          52,
          52,
          53,
          53,
          55,
          55,
          55,
          56,
          56,
          56,
          58,
          58,
          58,
          58,
          58
         ],
         "xaxis": "x",
         "y": [
          1851.737586962865,
          1851.737586962865,
          1851.737586962865,
          1851.737586962865,
          2039.8098205097158,
          2039.8098205097158,
          2039.8098205097158,
          2039.8098205097158,
          2039.8098205097158,
          2039.8098205097158,
          2227.8820540565666,
          2227.8820540565666,
          2227.8820540565666,
          2227.8820540565666,
          2227.8820540565666,
          2227.8820540565666,
          2415.954287603417,
          2415.954287603417,
          2415.954287603417,
          2415.954287603417,
          2415.954287603417,
          2415.954287603417,
          2604.0265211502683,
          2604.0265211502683,
          2604.0265211502683,
          2604.0265211502683,
          2604.0265211502683,
          2792.098754697119,
          2792.098754697119,
          2792.098754697119,
          2792.098754697119,
          2980.170988243969,
          2980.170988243969,
          2980.170988243969,
          2980.170988243969,
          2980.170988243969,
          2980.170988243969,
          2980.170988243969,
          3168.24322179082,
          3168.24322179082,
          3168.24322179082,
          3168.24322179082,
          3168.24322179082,
          3168.24322179082,
          3356.3154553376708,
          3356.3154553376708,
          3356.3154553376708,
          3356.3154553376708,
          3356.3154553376708,
          3356.3154553376708,
          3356.3154553376708,
          3356.3154553376708,
          3356.3154553376708,
          3356.3154553376708,
          3356.3154553376708,
          3356.3154553376708,
          3544.3876888845216,
          3544.3876888845216,
          3544.3876888845216,
          3732.4599224313724,
          3732.4599224313724,
          3732.4599224313724,
          3732.4599224313724,
          3732.4599224313724,
          3732.4599224313724,
          3732.4599224313724,
          3732.4599224313724,
          3732.4599224313724,
          3732.4599224313724,
          3732.4599224313724,
          3732.4599224313724,
          3732.4599224313724,
          3732.4599224313724,
          3920.5321559782233,
          3920.5321559782233,
          3920.5321559782233,
          3920.5321559782233,
          3920.5321559782233,
          3920.5321559782233,
          3920.5321559782233,
          3920.5321559782233,
          3920.5321559782233,
          3920.5321559782233,
          3920.5321559782233,
          3920.5321559782233,
          3920.5321559782233,
          3920.5321559782233,
          3920.5321559782233,
          3920.5321559782233,
          3920.5321559782233,
          3920.5321559782233,
          4108.604389525074,
          4108.604389525074,
          4108.604389525074,
          4108.604389525074,
          4108.604389525074,
          4108.604389525074,
          4108.604389525074,
          4108.604389525074,
          4108.604389525074,
          4296.676623071925,
          4296.676623071925,
          4296.676623071925,
          4296.676623071925,
          4296.676623071925,
          4296.676623071925,
          4296.676623071925,
          4296.676623071925,
          4296.676623071925,
          4296.676623071925,
          4296.676623071925,
          4296.676623071925,
          4296.676623071925,
          4296.676623071925,
          4296.676623071925,
          4296.676623071925,
          4296.676623071925,
          4296.676623071925,
          4484.748856618776,
          4484.748856618776,
          4484.748856618776,
          4484.748856618776,
          4484.748856618776,
          4484.748856618776,
          4484.748856618776,
          4484.748856618776,
          4484.748856618776,
          4484.748856618776,
          4484.748856618776,
          4672.821090165627,
          4672.821090165627,
          4672.821090165627,
          4672.821090165627,
          4672.821090165627,
          4672.821090165627,
          4672.821090165627,
          4672.821090165627,
          4672.821090165627,
          4672.821090165627,
          4672.821090165627,
          4672.821090165627,
          4860.8933237124775,
          4860.8933237124775,
          4860.8933237124775,
          4860.8933237124775,
          4860.8933237124775,
          4860.8933237124775,
          4860.8933237124775,
          4860.8933237124775,
          4860.8933237124775,
          5048.965557259328,
          5048.965557259328,
          5048.965557259328,
          5048.965557259328,
          5048.965557259328,
          5048.965557259328,
          5048.965557259328,
          5048.965557259328,
          5048.965557259328,
          5048.965557259328,
          5237.037790806179,
          5237.037790806179,
          5237.037790806179,
          5237.037790806179,
          5237.037790806179,
          5237.037790806179,
          5425.11002435303,
          5425.11002435303,
          5425.11002435303,
          5425.11002435303,
          5425.11002435303,
          5425.11002435303,
          5613.182257899881,
          5613.182257899881,
          5801.254491446732,
          5801.254491446732,
          5801.254491446732,
          5801.254491446732,
          5801.254491446732,
          5801.254491446732,
          5989.3267249935825,
          5989.3267249935825,
          5989.3267249935825,
          5989.3267249935825,
          5989.3267249935825,
          6177.398958540432,
          6177.398958540432,
          6177.398958540432,
          6177.398958540432,
          6177.398958540432,
          6177.398958540432,
          6365.471192087283,
          6365.471192087283,
          6553.543425634134,
          6553.543425634134,
          6741.615659180986,
          6741.615659180986,
          6741.615659180986,
          6741.615659180986,
          6741.615659180986,
          6741.615659180986,
          6929.687892727837,
          6929.687892727837,
          7117.7601262746875,
          7117.7601262746875,
          7117.7601262746875,
          7117.7601262746875,
          7305.832359821538,
          7305.832359821538,
          7305.832359821538,
          7493.904593368387,
          7493.904593368387,
          7681.976826915238,
          7681.976826915238,
          7870.049060462089,
          7870.049060462089,
          7870.049060462089,
          7870.049060462089,
          7870.049060462089,
          8058.12129400894,
          8058.12129400894,
          8246.193527555792,
          8246.193527555792,
          8246.193527555792,
          8434.26576110264,
          8434.26576110264,
          8810.410228196342,
          8810.410228196342,
          8810.410228196342,
          8998.482461743195,
          8998.482461743195,
          8998.482461743195,
          9374.626928836897,
          9374.626928836897,
          9374.626928836897,
          9374.626928836897,
          9374.626928836897
         ],
         "yaxis": "y"
        },
        {
         "hovertemplate": "Attrition=No<br>Age=%{x}<br>MonthlyIncome=%{y}<extra></extra>",
         "legendgroup": "No",
         "marker": {
          "color": "#EF553B",
          "symbol": "circle"
         },
         "mode": "markers",
         "name": "No",
         "showlegend": true,
         "type": "scattergl",
         "x": [
          58,
          55,
          55,
          52,
          52,
          52,
          55,
          51,
          50,
          50,
          49,
          50,
          50,
          60,
          51,
          50,
          50,
          47,
          49,
          46,
          46,
          53,
          43,
          43,
          44,
          46,
          55,
          45,
          45,
          42,
          45,
          44,
          40,
          42,
          41,
          41,
          47,
          42,
          44,
          44,
          41,
          47,
          48,
          48,
          42,
          59,
          40,
          39,
          39,
          39,
          41,
          39,
          41,
          39,
          43,
          40,
          45,
          40,
          51,
          40,
          40,
          45,
          45,
          42,
          42,
          40,
          40,
          50,
          39,
          51,
          40,
          44,
          42,
          43,
          42,
          54,
          47,
          44,
          42,
          38,
          39,
          42,
          41,
          39,
          45,
          39,
          47,
          38,
          39,
          41,
          55,
          56,
          46,
          40,
          39,
          37,
          60,
          41,
          40,
          36,
          41,
          41,
          50,
          40,
          40,
          38,
          36,
          45,
          43,
          37,
          35,
          35,
          53,
          47,
          34,
          38,
          35,
          36,
          35,
          46,
          36,
          35,
          58,
          43,
          37,
          33,
          35,
          49,
          39,
          36,
          38,
          38,
          48,
          34,
          53,
          45,
          36,
          33,
          49,
          34,
          34,
          34,
          38,
          36,
          53,
          41,
          53,
          32,
          36,
          37,
          33,
          34,
          34,
          54,
          35,
          50,
          43,
          33,
          34,
          32,
          38,
          51,
          36,
          32,
          32,
          36,
          31,
          37,
          31,
          33,
          33,
          35,
          34,
          35,
          31,
          34,
          46,
          38,
          36,
          42,
          47,
          56,
          34,
          30,
          40,
          30,
          53,
          50,
          44,
          46,
          40,
          42,
          57,
          31,
          36,
          30,
          31,
          30,
          30,
          32,
          34,
          30,
          30,
          29,
          34,
          35,
          38,
          31,
          30,
          35,
          36,
          40,
          36,
          60,
          30,
          36,
          46,
          34,
          35,
          34,
          34,
          33,
          38,
          29,
          31,
          40,
          49,
          29,
          30,
          38,
          32,
          30,
          51,
          46,
          30,
          35,
          29,
          30,
          34,
          51,
          37,
          35,
          50,
          29,
          55,
          38,
          33,
          30,
          31,
          45,
          30,
          36,
          41,
          28,
          46,
          29,
          36,
          55,
          42,
          34,
          52,
          42,
          34,
          37,
          29,
          32,
          56,
          32,
          36,
          29,
          32,
          37,
          35,
          35,
          33,
          54,
          41,
          29,
          30,
          29,
          33,
          30,
          44,
          54,
          31,
          34,
          32,
          31,
          34,
          48,
          29,
          36,
          29,
          34,
          37,
          45,
          29,
          35,
          45,
          45,
          39,
          45,
          44,
          54,
          29,
          31,
          34,
          43,
          41,
          46,
          30,
          46,
          37,
          33,
          34,
          36,
          31,
          36,
          33,
          39,
          31,
          35,
          43,
          55,
          40,
          35,
          38,
          35,
          38,
          29,
          42,
          27,
          34,
          46,
          35,
          32,
          36,
          41,
          32,
          41,
          37,
          40,
          42,
          31,
          36,
          43,
          30,
          48,
          37,
          54,
          38,
          27,
          27,
          36,
          42,
          27,
          33,
          52,
          31,
          31,
          45,
          52,
          45,
          47,
          45,
          54,
          55,
          28,
          49,
          27,
          33,
          59,
          30,
          28,
          30,
          34,
          40,
          41,
          35,
          35,
          58,
          40,
          53,
          38,
          34,
          49,
          39,
          32,
          39,
          30,
          33,
          43,
          46,
          27,
          45,
          33,
          33,
          52,
          36,
          35,
          31,
          49,
          33,
          50,
          26,
          32,
          38,
          36,
          33,
          37,
          36,
          38,
          38,
          36,
          28,
          31,
          43,
          27,
          32,
          26,
          35,
          39,
          45,
          41,
          43,
          34,
          34,
          36,
          30,
          39,
          45,
          29,
          40,
          35,
          28,
          44,
          32,
          30,
          39,
          46,
          30,
          26,
          55,
          32,
          50,
          28,
          52,
          38,
          43,
          35,
          26,
          32,
          43,
          26,
          30,
          39,
          34,
          40,
          49,
          28,
          40,
          48,
          48,
          34,
          37,
          49,
          44,
          45,
          27,
          47,
          34,
          38,
          34,
          32,
          36,
          31,
          37,
          33,
          41,
          53,
          51,
          27,
          38,
          49,
          40,
          27,
          50,
          46,
          35,
          49,
          31,
          32,
          33,
          29,
          37,
          40,
          28,
          51,
          56,
          34,
          25,
          31,
          38,
          32,
          47,
          27,
          47,
          31,
          26,
          36,
          40,
          29,
          29,
          38,
          35,
          53,
          35,
          36,
          36,
          29,
          51,
          36,
          46,
          56,
          38,
          26,
          55,
          45,
          29,
          32,
          39,
          39,
          27,
          25,
          26,
          35,
          30,
          30,
          32,
          35,
          30,
          40,
          54,
          43,
          29,
          27,
          26,
          28,
          26,
          27,
          39,
          39,
          32,
          36,
          35,
          56,
          45,
          35,
          54,
          29,
          32,
          25,
          26,
          37,
          42,
          31,
          33,
          37,
          37,
          24,
          34,
          32,
          29,
          27,
          25,
          34,
          34,
          35,
          31,
          58,
          36,
          33,
          59,
          45,
          30,
          34,
          37,
          34,
          42,
          28,
          46,
          31,
          59,
          29,
          27,
          41,
          37,
          39,
          27,
          47,
          37,
          38,
          32,
          29,
          43,
          30,
          24,
          33,
          33,
          37,
          24,
          27,
          38,
          42,
          38,
          32,
          39,
          36,
          27,
          35,
          31,
          43,
          33,
          55,
          29,
          37,
          34,
          28,
          54,
          24,
          37,
          26,
          30,
          30,
          41,
          28,
          57,
          50,
          32,
          27,
          45,
          43,
          42,
          34,
          31,
          32,
          28,
          37,
          37,
          53,
          26,
          28,
          58,
          31,
          27,
          27,
          41,
          37,
          27,
          49,
          55,
          24,
          40,
          42,
          43,
          25,
          30,
          52,
          52,
          42,
          30,
          30,
          47,
          35,
          31,
          35,
          26,
          27,
          33,
          53,
          44,
          34,
          54,
          37,
          52,
          36,
          34,
          44,
          32,
          30,
          53,
          45,
          32,
          28,
          36,
          25,
          25,
          24,
          42,
          37,
          43,
          39,
          42,
          33,
          35,
          38,
          45,
          50,
          59,
          26,
          56,
          26,
          48,
          39,
          28,
          35,
          35,
          56,
          29,
          33,
          40,
          54,
          27,
          51,
          34,
          28,
          39,
          33,
          52,
          52,
          36,
          27,
          24,
          34,
          28,
          44,
          44,
          30,
          33,
          47,
          32,
          33,
          45,
          35,
          35,
          40,
          31,
          28,
          47,
          38,
          29,
          39,
          36,
          35,
          24,
          29,
          32,
          31,
          31,
          45,
          31,
          34,
          49,
          42,
          41,
          38,
          37,
          28,
          40,
          35,
          26,
          27,
          55,
          34,
          37,
          41,
          31,
          27,
          38,
          49,
          35,
          28,
          36,
          29,
          32,
          54,
          23,
          41,
          25,
          41,
          45,
          40,
          29,
          36,
          24,
          44,
          44,
          35,
          59,
          46,
          51,
          54,
          34,
          31,
          53,
          22,
          46,
          32,
          25,
          37,
          51,
          27,
          54,
          40,
          23,
          29,
          50,
          54,
          31,
          27,
          23,
          40,
          52,
          34,
          27,
          50,
          42,
          38,
          43,
          25,
          49,
          33,
          29,
          28,
          24,
          31,
          22,
          37,
          28,
          27,
          24,
          30,
          46,
          42,
          25,
          28,
          40,
          40,
          38,
          51,
          26,
          34,
          32,
          41,
          33,
          28,
          23,
          30,
          22,
          37,
          40,
          27,
          49,
          36,
          38,
          53,
          55,
          32,
          39,
          40,
          38,
          36,
          34,
          45,
          31,
          54,
          24,
          42,
          44,
          36,
          32,
          35,
          29,
          26,
          34,
          38,
          35,
          24,
          44,
          59,
          43,
          36,
          38,
          30,
          33,
          34,
          50,
          40,
          33,
          39,
          32,
          37,
          45,
          42,
          29,
          21,
          49,
          47,
          29,
          42,
          57,
          21,
          29,
          34,
          43,
          26,
          46,
          46,
          30,
          29,
          35,
          37,
          48,
          21,
          26,
          36,
          23,
          25,
          35,
          34,
          34,
          44,
          32,
          47,
          33,
          32,
          29,
          33,
          27,
          35,
          27,
          55,
          33,
          33,
          34,
          28,
          45,
          29,
          34,
          35,
          28,
          50,
          25,
          32,
          25,
          37,
          25,
          30,
          31,
          36,
          56,
          31,
          45,
          49,
          40,
          55,
          49,
          29,
          36,
          35,
          38,
          36,
          32,
          36,
          27,
          36,
          36,
          47,
          36,
          26,
          41,
          23,
          29,
          53,
          43,
          41,
          31,
          28,
          28,
          29,
          35,
          39,
          22,
          27,
          34,
          46,
          35,
          26,
          35,
          25,
          22,
          50,
          25,
          22,
          27,
          56,
          38,
          27,
          52,
          59,
          31,
          33,
          38,
          31,
          31,
          31,
          30,
          31,
          36,
          22,
          45,
          42,
          46,
          24,
          44,
          44,
          22,
          48,
          60,
          50,
          43,
          29,
          53,
          23,
          26,
          30,
          35,
          22,
          42,
          38,
          53,
          28,
          27,
          38,
          48,
          41,
          33,
          38,
          46,
          21,
          31,
          35,
          20,
          50,
          20,
          32,
          28,
          25,
          58,
          35,
          48,
          30,
          44,
          39,
          40,
          33,
          34,
          23,
          21,
          48,
          20,
          49,
          41,
          20,
          44,
          24,
          34,
          51,
          46,
          46,
          39,
          58,
          47,
          39,
          44,
          31,
          25,
          25,
          31,
          35,
          32,
          21,
          40,
          59,
          30,
          22,
          33,
          36,
          35,
          27,
          37,
          35,
          45,
          31,
          36,
          55,
          32,
          37,
          34,
          36,
          19,
          51,
          58,
          27,
          38,
          41,
          59,
          41,
          51,
          36,
          43,
          42,
          42,
          36,
          46,
          35,
          30,
          37,
          40,
          38,
          57,
          54,
          40,
          38,
          24,
          20,
          43,
          30,
          35,
          37,
          38,
          29,
          35,
          38,
          24,
          40,
          45,
          37,
          43,
          27,
          34,
          40,
          40,
          42,
          50,
          38,
          34,
          28,
          43,
          37,
          38,
          42,
          41,
          40,
          32,
          19,
          42,
          49,
          48,
          48,
          34,
          19,
          23,
          42,
          27,
          44,
          30,
          35,
          24,
          28,
          42,
          24,
          29,
          34,
          26,
          36,
          50,
          42,
          35,
          60,
          40,
          47,
          29,
          38,
          55,
          36,
          29,
          28,
          26,
          58,
          38,
          32,
          31,
          33,
          40,
          21,
          45,
          23,
          22,
          29,
          18,
          47,
          48,
          26,
          38,
          34,
          30,
          27,
          48,
          18,
          34,
          44,
          40,
          45,
          18,
          33,
          38,
          42,
          18,
          32,
          42,
          56,
          42
         ],
         "xaxis": "x",
         "y": [
          13872,
          19045,
          19586,
          16856,
          19999,
          19068,
          13577,
          14026,
          18200,
          14411,
          19502,
          17924,
          11245,
          19566,
          19847,
          18740,
          17046,
          16752,
          7403,
          17048,
          17567,
          15427,
          16959,
          14336,
          19190,
          10453,
          18722,
          19202,
          5210,
          18430,
          10748,
          10248,
          13503,
          19232,
          16015,
          19189,
          13770,
          17665,
          18213,
          19049,
          10447,
          10333,
          19665,
          17174,
          18880,
          7637,
          19436,
          17068,
          19272,
          19197,
          19141,
          12742,
          19973,
          10880,
          10231,
          16437,
          16704,
          19833,
          19537,
          5605,
          19033,
          16792,
          13496,
          4907,
          13525,
          18041,
          13237,
          3221,
          4553,
          16307,
          19626,
          4541,
          17861,
          4081,
          16799,
          17328,
          17169,
          16328,
          10124,
          2133,
          13341,
          4332,
          13570,
          12031,
          8865,
          10938,
          5067,
          8823,
          17123,
          6151,
          19187,
          13402,
          13225,
          16823,
          9613,
          3034,
          10266,
          16595,
          10475,
          6201,
          4721,
          19419,
          6347,
          13499,
          10435,
          13206,
          10096,
          2348,
          16064,
          2115,
          6646,
          10685,
          14852,
          8633,
          4809,
          10609,
          8095,
          6586,
          10388,
          4615,
          5410,
          5208,
          16291,
          19392,
          13744,
          13458,
          4312,
          6567,
          5902,
          3210,
          5980,
          13582,
          10999,
          9725,
          7525,
          5593,
          4639,
          5207,
          13966,
          3986,
          4001,
          5747,
          4440,
          5406,
          19094,
          6230,
          8381,
          6162,
          8858,
          6474,
          2781,
          6687,
          17007,
          16032,
          4148,
          13269,
          17603,
          2028,
          9888,
          10422,
          5329,
          7484,
          5914,
          5484,
          5228,
          9699,
          4306,
          4449,
          10648,
          7725,
          11691,
          10903,
          5343,
          10377,
          10793,
          4759,
          16606,
          4735,
          4502,
          13348,
          11957,
          6306,
          11994,
          4011,
          10855,
          3072,
          14275,
          13973,
          13320,
          17465,
          6377,
          3673,
          4900,
          5468,
          8321,
          3748,
          4424,
          4152,
          5209,
          5010,
          11631,
          6347,
          8474,
          7918,
          5957,
          8020,
          11510,
          7143,
          2564,
          4717,
          2519,
          10322,
          7779,
          5220,
          3579,
          3692,
          18789,
          4444,
          8606,
          2308,
          5433,
          5147,
          2592,
          3812,
          11031,
          5677,
          5130,
          9980,
          2206,
          2406,
          6220,
          5126,
          5441,
          10673,
          2613,
          7295,
          4319,
          9419,
          9547,
          12490,
          12185,
          8789,
          19144,
          4554,
          5415,
          12061,
          11878,
          5775,
          8943,
          3697,
          6118,
          7596,
          8392,
          4558,
          4810,
          11935,
          9980,
          16835,
          7406,
          5337,
          5577,
          4089,
          2691,
          9434,
          2720,
          5396,
          11103,
          5309,
          7587,
          2700,
          6524,
          7642,
          4014,
          7823,
          17444,
          10739,
          3376,
          5056,
          6578,
          3131,
          4539,
          3491,
          2011,
          17779,
          6812,
          4490,
          6209,
          9852,
          6125,
          7898,
          7988,
          5810,
          8620,
          7083,
          4285,
          7441,
          4723,
          3407,
          5769,
          4385,
          3069,
          5770,
          5743,
          17426,
          4187,
          5476,
          2929,
          7847,
          9241,
          5562,
          2862,
          10368,
          4071,
          3143,
          6799,
          5673,
          4197,
          3886,
          5487,
          5151,
          5003,
          5204,
          7510,
          19636,
          6323,
          5098,
          5343,
          5689,
          9526,
          4193,
          6825,
          8726,
          4568,
          5772,
          9069,
          6162,
          9738,
          8189,
          8998,
          2451,
          2793,
          3319,
          2593,
          5582,
          5674,
          5257,
          8412,
          4051,
          8834,
          10725,
          7625,
          7412,
          8793,
          5228,
          4434,
          12808,
          4037,
          13826,
          6932,
          5855,
          4447,
          17099,
          3633,
          4163,
          17650,
          10686,
          16756,
          7655,
          13120,
          2235,
          8380,
          10512,
          4627,
          6674,
          11916,
          8500,
          4661,
          4103,
          4249,
          5363,
          19701,
          13757,
          16598,
          9924,
          4724,
          3211,
          5042,
          5470,
          6472,
          4968,
          3055,
          3539,
          8578,
          3540,
          5906,
          5968,
          4878,
          3482,
          7644,
          8837,
          9936,
          5390,
          2909,
          18172,
          2942,
          4668,
          8686,
          2088,
          2756,
          3564,
          2153,
          5249,
          5605,
          4485,
          5661,
          6929,
          2455,
          6214,
          2370,
          5296,
          7632,
          3755,
          4805,
          6811,
          5679,
          2579,
          8621,
          11713,
          5304,
          6389,
          6632,
          4335,
          4244,
          10221,
          4779,
          2559,
          6725,
          7264,
          7880,
          10845,
          11416,
          5472,
          6385,
          4025,
          19237,
          3660,
          10445,
          8740,
          10820,
          2258,
          4420,
          4998,
          19740,
          2875,
          4695,
          4534,
          5429,
          3975,
          10466,
          6549,
          5473,
          6439,
          2367,
          5063,
          3936,
          15379,
          7879,
          5154,
          6500,
          5467,
          8628,
          5321,
          6712,
          3068,
          5237,
          5915,
          5993,
          6146,
          17181,
          2306,
          13734,
          2279,
          6261,
          6804,
          2741,
          9981,
          19517,
          16872,
          11996,
          13964,
          7547,
          5055,
          4682,
          8268,
          5974,
          2213,
          5253,
          4936,
          13212,
          2768,
          2096,
          5460,
          4028,
          11159,
          4960,
          6811,
          4537,
          2329,
          4294,
          5079,
          8396,
          2514,
          3291,
          2844,
          10274,
          18606,
          8966,
          2741,
          10252,
          16124,
          2838,
          7094,
          3423,
          19717,
          6893,
          3578,
          14732,
          10851,
          9715,
          5878,
          8237,
          5377,
          4066,
          5206,
          2570,
          6883,
          7140,
          5294,
          2718,
          5762,
          9667,
          4448,
          6854,
          5675,
          6384,
          4774,
          2544,
          6834,
          2867,
          4105,
          4108,
          9991,
          3298,
          6499,
          2859,
          7260,
          3452,
          4425,
          5940,
          2340,
          2176,
          4000,
          6397,
          6347,
          4523,
          6582,
          16184,
          7491,
          6447,
          2725,
          3622,
          6322,
          5561,
          4647,
          6180,
          6274,
          4381,
          2559,
          2356,
          10552,
          4678,
          5488,
          11904,
          2177,
          9957,
          7756,
          5731,
          5714,
          5155,
          3196,
          7379,
          6833,
          5171,
          6623,
          5071,
          5467,
          2996,
          10920,
          5769,
          3420,
          3500,
          6077,
          4087,
          8853,
          4876,
          2141,
          3760,
          5505,
          5368,
          9525,
          3907,
          3445,
          2468,
          2936,
          2991,
          2837,
          19431,
          6652,
          6142,
          2426,
          2911,
          2645,
          5376,
          14756,
          2703,
          13664,
          4325,
          4221,
          17328,
          2774,
          7428,
          2368,
          2632,
          2720,
          2238,
          2713,
          9439,
          19926,
          3038,
          3058,
          5006,
          2089,
          5265,
          3815,
          4345,
          2794,
          2070,
          6502,
          13603,
          17584,
          4741,
          3310,
          5660,
          4821,
          4478,
          6349,
          6032,
          3452,
          3816,
          10965,
          16659,
          4260,
          5715,
          2576,
          4522,
          4487,
          6577,
          7969,
          16555,
          4556,
          6091,
          2097,
          5070,
          4230,
          11557,
          4859,
          6272,
          2187,
          7104,
          14814,
          3708,
          6142,
          5485,
          2782,
          3149,
          2143,
          2553,
          5933,
          4403,
          3761,
          10934,
          10761,
          5175,
          4936,
          2342,
          4194,
          4256,
          3162,
          5231,
          2973,
          5562,
          5204,
          6244,
          6949,
          4601,
          5666,
          2270,
          17399,
          13726,
          2007,
          2942,
          3955,
          16885,
          6782,
          3201,
          4968,
          4323,
          19943,
          2168,
          3600,
          6852,
          10502,
          2517,
          13142,
          2029,
          4724,
          6120,
          9998,
          13247,
          2950,
          9278,
          2099,
          4162,
          3294,
          8463,
          3162,
          3420,
          2064,
          3838,
          4591,
          11244,
          4320,
          2132,
          2430,
          6142,
          4639,
          5332,
          4877,
          19658,
          7756,
          5869,
          5295,
          6842,
          4930,
          4401,
          2974,
          3433,
          3477,
          5238,
          9756,
          8346,
          2932,
          4507,
          2766,
          2289,
          3702,
          4189,
          2044,
          6513,
          2705,
          4684,
          2379,
          2662,
          9713,
          4284,
          4393,
          6583,
          2226,
          4771,
          19161,
          5561,
          2144,
          2810,
          5373,
          6667,
          4440,
          2647,
          2782,
          4907,
          8938,
          4850,
          2001,
          3785,
          2571,
          4011,
          6465,
          5454,
          9884,
          5473,
          5021,
          2075,
          13549,
          2231,
          3929,
          4450,
          2328,
          9396,
          3931,
          4898,
          2326,
          5482,
          2478,
          4869,
          7457,
          2904,
          4649,
          10496,
          19406,
          2218,
          2045,
          2500,
          2342,
          4258,
          3280,
          4342,
          17639,
          6062,
          6288,
          17159,
          3424,
          3580,
          2277,
          2532,
          4908,
          4377,
          4148,
          2451,
          4107,
          2207,
          2539,
          3597,
          4115,
          19081,
          6272,
          4950,
          2154,
          3544,
          2387,
          2610,
          10596,
          3904,
          2996,
          9204,
          2127,
          4373,
          4898,
          2272,
          9250,
          2814,
          5768,
          7945,
          2580,
          16413,
          2013,
          2440,
          7005,
          3537,
          9610,
          13464,
          3377,
          5405,
          5507,
          8103,
          5399,
          3065,
          2897,
          4617,
          5410,
          2436,
          5131,
          2439,
          2977,
          4025,
          2966,
          4404,
          3944,
          2194,
          4999,
          2042,
          18844,
          4739,
          4941,
          4317,
          3204,
          2500,
          2311,
          3690,
          4876,
          2622,
          2232,
          4465,
          3920,
          6434,
          6545,
          6931,
          3230,
          18665,
          18300,
          3983,
          2696,
          6755,
          2610,
          2201,
          6538,
          2258,
          2886,
          17861,
          9071,
          2983,
          4262,
          3681,
          9602,
          15402,
          3447,
          2659,
          8847,
          2819,
          4851,
          2572,
          6500,
          3737,
          2818,
          2314,
          3294,
          2799,
          2332,
          2157,
          3452,
          4227,
          3917,
          4621,
          10976,
          7119,
          4302,
          4033,
          2703,
          4477,
          3760,
          4538,
          3506,
          2080,
          16880,
          3669,
          4078,
          6232,
          3629,
          3229,
          4779,
          16422,
          5647,
          2066,
          2109,
          9380,
          6651,
          2345,
          4035,
          4789,
          3180,
          2644,
          2450,
          4198,
          5562,
          3312,
          4663,
          3517,
          8008,
          4374,
          15972,
          5347,
          2305,
          6430,
          3295,
          6294,
          12965,
          2438,
          6870,
          9637,
          3591,
          2706,
          2062,
          4788,
          5736,
          3375,
          3468,
          2661,
          18947,
          2014,
          4157,
          4014,
          2889,
          2523,
          9208,
          8639,
          2323,
          2024,
          4257,
          2288,
          4298,
          3212,
          2267,
          13675,
          2911,
          5745,
          2789,
          6410,
          2695,
          4736,
          2657,
          2543,
          2244,
          2654,
          2093,
          10527,
          2400,
          5985,
          19513,
          2773,
          8120,
          5405,
          3875,
          6804,
          2297,
          2450,
          3505,
          4364,
          3833,
          2506,
          4775,
          2515,
          2899,
          11836,
          2377,
          2811,
          2684,
          4240,
          5003,
          2342,
          2821,
          19627,
          2070,
          2791,
          2376,
          3033,
          17856,
          2678,
          2743,
          3867,
          2096,
          2372,
          9362,
          5486,
          5301,
          10209,
          8376,
          4069,
          6392,
          5484,
          2073,
          3117,
          15202,
          2783,
          2587,
          7082,
          2728,
          3195,
          2145,
          6029,
          13116,
          19328,
          7991,
          4127,
          15787,
          2105,
          3902,
          5033,
          3978,
          2187,
          3977,
          3067,
          2660,
          2269,
          2380,
          2809,
          2670,
          2693,
          2935,
          2496,
          3419,
          1951,
          2341,
          3022,
          2269,
          9724,
          2501,
          3038,
          10239,
          2956,
          5163,
          4505,
          2835,
          1483,
          6132,
          3346,
          2566,
          6553,
          13591,
          2177,
          3072,
          2723,
          3688,
          9985,
          15992,
          6781,
          6653,
          5258,
          6540,
          2476,
          4197,
          3448,
          1702,
          14118,
          3780,
          10932,
          9824,
          2127,
          2836,
          16627,
          2083,
          1281,
          4680,
          7861,
          2642,
          5093,
          3057,
          2694,
          5094,
          2274,
          6334,
          4765,
          2318,
          2008,
          9705,
          3617,
          18303,
          2380,
          6861,
          2220,
          1052,
          10798,
          6694,
          7351,
          4272,
          4766,
          4422,
          2827,
          2552,
          13191,
          18711,
          2559,
          18265,
          2585,
          2994,
          1223,
          2372,
          2534,
          4768,
          1274,
          2404,
          2033,
          1563,
          4841,
          2296,
          2451,
          2972,
          2061,
          6815,
          19331,
          19613,
          2690,
          10883,
          6516,
          4978,
          2109,
          5811,
          19038,
          6962,
          2804,
          2856,
          2933,
          17875,
          2858,
          9679,
          1129,
          2008,
          2406,
          1232,
          13245,
          2322,
          2871,
          6644,
          1200,
          2976,
          12504,
          4306,
          2619,
          5121,
          6877,
          1706,
          2259,
          1051,
          2979,
          2290,
          4327,
          18061,
          1611,
          6388,
          3306,
          5538,
          1514,
          4648,
          3968,
          5380,
          5087
         ],
         "yaxis": "y"
        },
        {
         "hovertemplate": "<b>OLS trendline</b><br>MonthlyIncome = 263.838 * Age + -3077.32<br>R<sup>2</sup>=0.236889<br><br>Attrition=No<br>Age=%{x}<br>MonthlyIncome=%{y} <b>(trend)</b><extra></extra>",
         "legendgroup": "No",
         "marker": {
          "color": "#EF553B",
          "symbol": "circle"
         },
         "mode": "lines",
         "name": "No",
         "showlegend": false,
         "type": "scattergl",
         "x": [
          18,
          18,
          18,
          18,
          19,
          19,
          19,
          20,
          20,
          20,
          20,
          20,
          21,
          21,
          21,
          21,
          21,
          21,
          21,
          22,
          22,
          22,
          22,
          22,
          22,
          22,
          22,
          22,
          22,
          22,
          23,
          23,
          23,
          23,
          23,
          23,
          23,
          23,
          23,
          23,
          24,
          24,
          24,
          24,
          24,
          24,
          24,
          24,
          24,
          24,
          24,
          24,
          24,
          24,
          24,
          24,
          24,
          24,
          24,
          25,
          25,
          25,
          25,
          25,
          25,
          25,
          25,
          25,
          25,
          25,
          25,
          25,
          25,
          25,
          25,
          25,
          25,
          25,
          25,
          26,
          26,
          26,
          26,
          26,
          26,
          26,
          26,
          26,
          26,
          26,
          26,
          26,
          26,
          26,
          26,
          26,
          26,
          26,
          26,
          26,
          26,
          26,
          26,
          26,
          26,
          26,
          27,
          27,
          27,
          27,
          27,
          27,
          27,
          27,
          27,
          27,
          27,
          27,
          27,
          27,
          27,
          27,
          27,
          27,
          27,
          27,
          27,
          27,
          27,
          27,
          27,
          27,
          27,
          27,
          27,
          27,
          27,
          27,
          27,
          27,
          27,
          27,
          27,
          27,
          27,
          27,
          27,
          27,
          27,
          27,
          27,
          28,
          28,
          28,
          28,
          28,
          28,
          28,
          28,
          28,
          28,
          28,
          28,
          28,
          28,
          28,
          28,
          28,
          28,
          28,
          28,
          28,
          28,
          28,
          28,
          28,
          28,
          28,
          28,
          28,
          28,
          28,
          28,
          28,
          28,
          29,
          29,
          29,
          29,
          29,
          29,
          29,
          29,
          29,
          29,
          29,
          29,
          29,
          29,
          29,
          29,
          29,
          29,
          29,
          29,
          29,
          29,
          29,
          29,
          29,
          29,
          29,
          29,
          29,
          29,
          29,
          29,
          29,
          29,
          29,
          29,
          29,
          29,
          29,
          29,
          29,
          29,
          29,
          29,
          29,
          29,
          29,
          29,
          29,
          29,
          30,
          30,
          30,
          30,
          30,
          30,
          30,
          30,
          30,
          30,
          30,
          30,
          30,
          30,
          30,
          30,
          30,
          30,
          30,
          30,
          30,
          30,
          30,
          30,
          30,
          30,
          30,
          30,
          30,
          30,
          30,
          30,
          30,
          30,
          30,
          30,
          30,
          30,
          30,
          30,
          30,
          30,
          30,
          30,
          30,
          30,
          30,
          30,
          30,
          30,
          30,
          31,
          31,
          31,
          31,
          31,
          31,
          31,
          31,
          31,
          31,
          31,
          31,
          31,
          31,
          31,
          31,
          31,
          31,
          31,
          31,
          31,
          31,
          31,
          31,
          31,
          31,
          31,
          31,
          31,
          31,
          31,
          31,
          31,
          31,
          31,
          31,
          31,
          31,
          31,
          31,
          31,
          31,
          31,
          31,
          31,
          31,
          31,
          31,
          31,
          31,
          31,
          32,
          32,
          32,
          32,
          32,
          32,
          32,
          32,
          32,
          32,
          32,
          32,
          32,
          32,
          32,
          32,
          32,
          32,
          32,
          32,
          32,
          32,
          32,
          32,
          32,
          32,
          32,
          32,
          32,
          32,
          32,
          32,
          32,
          32,
          32,
          32,
          32,
          32,
          32,
          32,
          32,
          32,
          32,
          32,
          32,
          32,
          32,
          32,
          32,
          32,
          33,
          33,
          33,
          33,
          33,
          33,
          33,
          33,
          33,
          33,
          33,
          33,
          33,
          33,
          33,
          33,
          33,
          33,
          33,
          33,
          33,
          33,
          33,
          33,
          33,
          33,
          33,
          33,
          33,
          33,
          33,
          33,
          33,
          33,
          33,
          33,
          33,
          33,
          33,
          33,
          33,
          33,
          33,
          33,
          33,
          33,
          34,
          34,
          34,
          34,
          34,
          34,
          34,
          34,
          34,
          34,
          34,
          34,
          34,
          34,
          34,
          34,
          34,
          34,
          34,
          34,
          34,
          34,
          34,
          34,
          34,
          34,
          34,
          34,
          34,
          34,
          34,
          34,
          34,
          34,
          34,
          34,
          34,
          34,
          34,
          34,
          34,
          34,
          34,
          34,
          34,
          34,
          34,
          34,
          34,
          34,
          34,
          34,
          34,
          34,
          34,
          34,
          34,
          34,
          34,
          34,
          34,
          34,
          34,
          34,
          34,
          34,
          34,
          34,
          35,
          35,
          35,
          35,
          35,
          35,
          35,
          35,
          35,
          35,
          35,
          35,
          35,
          35,
          35,
          35,
          35,
          35,
          35,
          35,
          35,
          35,
          35,
          35,
          35,
          35,
          35,
          35,
          35,
          35,
          35,
          35,
          35,
          35,
          35,
          35,
          35,
          35,
          35,
          35,
          35,
          35,
          35,
          35,
          35,
          35,
          35,
          35,
          35,
          35,
          35,
          35,
          35,
          35,
          35,
          35,
          35,
          35,
          35,
          35,
          35,
          35,
          35,
          35,
          35,
          35,
          35,
          35,
          36,
          36,
          36,
          36,
          36,
          36,
          36,
          36,
          36,
          36,
          36,
          36,
          36,
          36,
          36,
          36,
          36,
          36,
          36,
          36,
          36,
          36,
          36,
          36,
          36,
          36,
          36,
          36,
          36,
          36,
          36,
          36,
          36,
          36,
          36,
          36,
          36,
          36,
          36,
          36,
          36,
          36,
          36,
          36,
          36,
          36,
          36,
          36,
          36,
          36,
          36,
          36,
          36,
          36,
          36,
          36,
          36,
          36,
          36,
          36,
          36,
          36,
          36,
          37,
          37,
          37,
          37,
          37,
          37,
          37,
          37,
          37,
          37,
          37,
          37,
          37,
          37,
          37,
          37,
          37,
          37,
          37,
          37,
          37,
          37,
          37,
          37,
          37,
          37,
          37,
          37,
          37,
          37,
          37,
          37,
          37,
          37,
          37,
          37,
          37,
          37,
          37,
          37,
          37,
          37,
          37,
          37,
          38,
          38,
          38,
          38,
          38,
          38,
          38,
          38,
          38,
          38,
          38,
          38,
          38,
          38,
          38,
          38,
          38,
          38,
          38,
          38,
          38,
          38,
          38,
          38,
          38,
          38,
          38,
          38,
          38,
          38,
          38,
          38,
          38,
          38,
          38,
          38,
          38,
          38,
          38,
          38,
          38,
          38,
          38,
          38,
          38,
          38,
          38,
          38,
          38,
          38,
          38,
          38,
          38,
          38,
          38,
          38,
          39,
          39,
          39,
          39,
          39,
          39,
          39,
          39,
          39,
          39,
          39,
          39,
          39,
          39,
          39,
          39,
          39,
          39,
          39,
          39,
          39,
          39,
          39,
          39,
          39,
          39,
          39,
          39,
          39,
          39,
          39,
          39,
          39,
          39,
          39,
          39,
          40,
          40,
          40,
          40,
          40,
          40,
          40,
          40,
          40,
          40,
          40,
          40,
          40,
          40,
          40,
          40,
          40,
          40,
          40,
          40,
          40,
          40,
          40,
          40,
          40,
          40,
          40,
          40,
          40,
          40,
          40,
          40,
          40,
          40,
          40,
          40,
          40,
          40,
          40,
          40,
          40,
          40,
          40,
          40,
          40,
          40,
          40,
          40,
          40,
          40,
          40,
          40,
          41,
          41,
          41,
          41,
          41,
          41,
          41,
          41,
          41,
          41,
          41,
          41,
          41,
          41,
          41,
          41,
          41,
          41,
          41,
          41,
          41,
          41,
          41,
          41,
          41,
          41,
          41,
          41,
          41,
          41,
          41,
          41,
          41,
          41,
          42,
          42,
          42,
          42,
          42,
          42,
          42,
          42,
          42,
          42,
          42,
          42,
          42,
          42,
          42,
          42,
          42,
          42,
          42,
          42,
          42,
          42,
          42,
          42,
          42,
          42,
          42,
          42,
          42,
          42,
          42,
          42,
          42,
          42,
          42,
          42,
          42,
          42,
          42,
          42,
          42,
          42,
          42,
          42,
          43,
          43,
          43,
          43,
          43,
          43,
          43,
          43,
          43,
          43,
          43,
          43,
          43,
          43,
          43,
          43,
          43,
          43,
          43,
          43,
          43,
          43,
          43,
          43,
          43,
          43,
          43,
          43,
          43,
          43,
          44,
          44,
          44,
          44,
          44,
          44,
          44,
          44,
          44,
          44,
          44,
          44,
          44,
          44,
          44,
          44,
          44,
          44,
          44,
          44,
          44,
          44,
          44,
          44,
          44,
          44,
          44,
          45,
          45,
          45,
          45,
          45,
          45,
          45,
          45,
          45,
          45,
          45,
          45,
          45,
          45,
          45,
          45,
          45,
          45,
          45,
          45,
          45,
          45,
          45,
          45,
          45,
          45,
          45,
          45,
          45,
          45,
          45,
          45,
          45,
          45,
          45,
          45,
          45,
          45,
          45,
          46,
          46,
          46,
          46,
          46,
          46,
          46,
          46,
          46,
          46,
          46,
          46,
          46,
          46,
          46,
          46,
          46,
          46,
          46,
          46,
          46,
          46,
          46,
          46,
          46,
          46,
          46,
          46,
          46,
          47,
          47,
          47,
          47,
          47,
          47,
          47,
          47,
          47,
          47,
          47,
          47,
          47,
          47,
          47,
          47,
          47,
          47,
          47,
          47,
          47,
          48,
          48,
          48,
          48,
          48,
          48,
          48,
          48,
          48,
          48,
          48,
          48,
          48,
          48,
          48,
          48,
          48,
          49,
          49,
          49,
          49,
          49,
          49,
          49,
          49,
          49,
          49,
          49,
          49,
          49,
          49,
          49,
          49,
          49,
          49,
          49,
          49,
          49,
          49,
          50,
          50,
          50,
          50,
          50,
          50,
          50,
          50,
          50,
          50,
          50,
          50,
          50,
          50,
          50,
          50,
          50,
          50,
          50,
          50,
          50,
          50,
          50,
          50,
          50,
          51,
          51,
          51,
          51,
          51,
          51,
          51,
          51,
          51,
          51,
          51,
          51,
          51,
          51,
          51,
          51,
          51,
          52,
          52,
          52,
          52,
          52,
          52,
          52,
          52,
          52,
          52,
          52,
          52,
          52,
          52,
          52,
          53,
          53,
          53,
          53,
          53,
          53,
          53,
          53,
          53,
          53,
          53,
          53,
          53,
          53,
          53,
          53,
          53,
          54,
          54,
          54,
          54,
          54,
          54,
          54,
          54,
          54,
          54,
          54,
          54,
          54,
          54,
          54,
          54,
          54,
          54,
          55,
          55,
          55,
          55,
          55,
          55,
          55,
          55,
          55,
          55,
          55,
          55,
          55,
          55,
          55,
          55,
          55,
          55,
          55,
          56,
          56,
          56,
          56,
          56,
          56,
          56,
          56,
          56,
          56,
          56,
          57,
          57,
          57,
          57,
          58,
          58,
          58,
          58,
          58,
          58,
          58,
          58,
          58,
          59,
          59,
          59,
          59,
          59,
          59,
          59,
          59,
          59,
          59,
          60,
          60,
          60,
          60,
          60
         ],
         "xaxis": "x",
         "y": [
          1671.7525002687962,
          1671.7525002687962,
          1671.7525002687962,
          1671.7525002687962,
          1935.5900211929047,
          1935.5900211929047,
          1935.5900211929047,
          2199.4275421170123,
          2199.4275421170123,
          2199.4275421170123,
          2199.4275421170123,
          2199.4275421170123,
          2463.265063041121,
          2463.265063041121,
          2463.265063041121,
          2463.265063041121,
          2463.265063041121,
          2463.265063041121,
          2463.265063041121,
          2727.1025839652293,
          2727.1025839652293,
          2727.1025839652293,
          2727.1025839652293,
          2727.1025839652293,
          2727.1025839652293,
          2727.1025839652293,
          2727.1025839652293,
          2727.1025839652293,
          2727.1025839652293,
          2727.1025839652293,
          2990.940104889337,
          2990.940104889337,
          2990.940104889337,
          2990.940104889337,
          2990.940104889337,
          2990.940104889337,
          2990.940104889337,
          2990.940104889337,
          2990.940104889337,
          2990.940104889337,
          3254.7776258134454,
          3254.7776258134454,
          3254.7776258134454,
          3254.7776258134454,
          3254.7776258134454,
          3254.7776258134454,
          3254.7776258134454,
          3254.7776258134454,
          3254.7776258134454,
          3254.7776258134454,
          3254.7776258134454,
          3254.7776258134454,
          3254.7776258134454,
          3254.7776258134454,
          3254.7776258134454,
          3254.7776258134454,
          3254.7776258134454,
          3254.7776258134454,
          3254.7776258134454,
          3518.615146737554,
          3518.615146737554,
          3518.615146737554,
          3518.615146737554,
          3518.615146737554,
          3518.615146737554,
          3518.615146737554,
          3518.615146737554,
          3518.615146737554,
          3518.615146737554,
          3518.615146737554,
          3518.615146737554,
          3518.615146737554,
          3518.615146737554,
          3518.615146737554,
          3518.615146737554,
          3518.615146737554,
          3518.615146737554,
          3518.615146737554,
          3518.615146737554,
          3782.4526676616615,
          3782.4526676616615,
          3782.4526676616615,
          3782.4526676616615,
          3782.4526676616615,
          3782.4526676616615,
          3782.4526676616615,
          3782.4526676616615,
          3782.4526676616615,
          3782.4526676616615,
          3782.4526676616615,
          3782.4526676616615,
          3782.4526676616615,
          3782.4526676616615,
          3782.4526676616615,
          3782.4526676616615,
          3782.4526676616615,
          3782.4526676616615,
          3782.4526676616615,
          3782.4526676616615,
          3782.4526676616615,
          3782.4526676616615,
          3782.4526676616615,
          3782.4526676616615,
          3782.4526676616615,
          3782.4526676616615,
          3782.4526676616615,
          4046.29018858577,
          4046.29018858577,
          4046.29018858577,
          4046.29018858577,
          4046.29018858577,
          4046.29018858577,
          4046.29018858577,
          4046.29018858577,
          4046.29018858577,
          4046.29018858577,
          4046.29018858577,
          4046.29018858577,
          4046.29018858577,
          4046.29018858577,
          4046.29018858577,
          4046.29018858577,
          4046.29018858577,
          4046.29018858577,
          4046.29018858577,
          4046.29018858577,
          4046.29018858577,
          4046.29018858577,
          4046.29018858577,
          4046.29018858577,
          4046.29018858577,
          4046.29018858577,
          4046.29018858577,
          4046.29018858577,
          4046.29018858577,
          4046.29018858577,
          4046.29018858577,
          4046.29018858577,
          4046.29018858577,
          4046.29018858577,
          4046.29018858577,
          4046.29018858577,
          4046.29018858577,
          4046.29018858577,
          4046.29018858577,
          4046.29018858577,
          4046.29018858577,
          4046.29018858577,
          4046.29018858577,
          4046.29018858577,
          4046.29018858577,
          4310.1277095098785,
          4310.1277095098785,
          4310.1277095098785,
          4310.1277095098785,
          4310.1277095098785,
          4310.1277095098785,
          4310.1277095098785,
          4310.1277095098785,
          4310.1277095098785,
          4310.1277095098785,
          4310.1277095098785,
          4310.1277095098785,
          4310.1277095098785,
          4310.1277095098785,
          4310.1277095098785,
          4310.1277095098785,
          4310.1277095098785,
          4310.1277095098785,
          4310.1277095098785,
          4310.1277095098785,
          4310.1277095098785,
          4310.1277095098785,
          4310.1277095098785,
          4310.1277095098785,
          4310.1277095098785,
          4310.1277095098785,
          4310.1277095098785,
          4310.1277095098785,
          4310.1277095098785,
          4310.1277095098785,
          4310.1277095098785,
          4310.1277095098785,
          4310.1277095098785,
          4310.1277095098785,
          4573.965230433986,
          4573.965230433986,
          4573.965230433986,
          4573.965230433986,
          4573.965230433986,
          4573.965230433986,
          4573.965230433986,
          4573.965230433986,
          4573.965230433986,
          4573.965230433986,
          4573.965230433986,
          4573.965230433986,
          4573.965230433986,
          4573.965230433986,
          4573.965230433986,
          4573.965230433986,
          4573.965230433986,
          4573.965230433986,
          4573.965230433986,
          4573.965230433986,
          4573.965230433986,
          4573.965230433986,
          4573.965230433986,
          4573.965230433986,
          4573.965230433986,
          4573.965230433986,
          4573.965230433986,
          4573.965230433986,
          4573.965230433986,
          4573.965230433986,
          4573.965230433986,
          4573.965230433986,
          4573.965230433986,
          4573.965230433986,
          4573.965230433986,
          4573.965230433986,
          4573.965230433986,
          4573.965230433986,
          4573.965230433986,
          4573.965230433986,
          4573.965230433986,
          4573.965230433986,
          4573.965230433986,
          4573.965230433986,
          4573.965230433986,
          4573.965230433986,
          4573.965230433986,
          4573.965230433986,
          4573.965230433986,
          4573.965230433986,
          4837.802751358095,
          4837.802751358095,
          4837.802751358095,
          4837.802751358095,
          4837.802751358095,
          4837.802751358095,
          4837.802751358095,
          4837.802751358095,
          4837.802751358095,
          4837.802751358095,
          4837.802751358095,
          4837.802751358095,
          4837.802751358095,
          4837.802751358095,
          4837.802751358095,
          4837.802751358095,
          4837.802751358095,
          4837.802751358095,
          4837.802751358095,
          4837.802751358095,
          4837.802751358095,
          4837.802751358095,
          4837.802751358095,
          4837.802751358095,
          4837.802751358095,
          4837.802751358095,
          4837.802751358095,
          4837.802751358095,
          4837.802751358095,
          4837.802751358095,
          4837.802751358095,
          4837.802751358095,
          4837.802751358095,
          4837.802751358095,
          4837.802751358095,
          4837.802751358095,
          4837.802751358095,
          4837.802751358095,
          4837.802751358095,
          4837.802751358095,
          4837.802751358095,
          4837.802751358095,
          4837.802751358095,
          4837.802751358095,
          4837.802751358095,
          4837.802751358095,
          4837.802751358095,
          4837.802751358095,
          4837.802751358095,
          4837.802751358095,
          4837.802751358095,
          5101.640272282202,
          5101.640272282202,
          5101.640272282202,
          5101.640272282202,
          5101.640272282202,
          5101.640272282202,
          5101.640272282202,
          5101.640272282202,
          5101.640272282202,
          5101.640272282202,
          5101.640272282202,
          5101.640272282202,
          5101.640272282202,
          5101.640272282202,
          5101.640272282202,
          5101.640272282202,
          5101.640272282202,
          5101.640272282202,
          5101.640272282202,
          5101.640272282202,
          5101.640272282202,
          5101.640272282202,
          5101.640272282202,
          5101.640272282202,
          5101.640272282202,
          5101.640272282202,
          5101.640272282202,
          5101.640272282202,
          5101.640272282202,
          5101.640272282202,
          5101.640272282202,
          5101.640272282202,
          5101.640272282202,
          5101.640272282202,
          5101.640272282202,
          5101.640272282202,
          5101.640272282202,
          5101.640272282202,
          5101.640272282202,
          5101.640272282202,
          5101.640272282202,
          5101.640272282202,
          5101.640272282202,
          5101.640272282202,
          5101.640272282202,
          5101.640272282202,
          5101.640272282202,
          5101.640272282202,
          5101.640272282202,
          5101.640272282202,
          5101.640272282202,
          5365.477793206311,
          5365.477793206311,
          5365.477793206311,
          5365.477793206311,
          5365.477793206311,
          5365.477793206311,
          5365.477793206311,
          5365.477793206311,
          5365.477793206311,
          5365.477793206311,
          5365.477793206311,
          5365.477793206311,
          5365.477793206311,
          5365.477793206311,
          5365.477793206311,
          5365.477793206311,
          5365.477793206311,
          5365.477793206311,
          5365.477793206311,
          5365.477793206311,
          5365.477793206311,
          5365.477793206311,
          5365.477793206311,
          5365.477793206311,
          5365.477793206311,
          5365.477793206311,
          5365.477793206311,
          5365.477793206311,
          5365.477793206311,
          5365.477793206311,
          5365.477793206311,
          5365.477793206311,
          5365.477793206311,
          5365.477793206311,
          5365.477793206311,
          5365.477793206311,
          5365.477793206311,
          5365.477793206311,
          5365.477793206311,
          5365.477793206311,
          5365.477793206311,
          5365.477793206311,
          5365.477793206311,
          5365.477793206311,
          5365.477793206311,
          5365.477793206311,
          5365.477793206311,
          5365.477793206311,
          5365.477793206311,
          5365.477793206311,
          5629.315314130418,
          5629.315314130418,
          5629.315314130418,
          5629.315314130418,
          5629.315314130418,
          5629.315314130418,
          5629.315314130418,
          5629.315314130418,
          5629.315314130418,
          5629.315314130418,
          5629.315314130418,
          5629.315314130418,
          5629.315314130418,
          5629.315314130418,
          5629.315314130418,
          5629.315314130418,
          5629.315314130418,
          5629.315314130418,
          5629.315314130418,
          5629.315314130418,
          5629.315314130418,
          5629.315314130418,
          5629.315314130418,
          5629.315314130418,
          5629.315314130418,
          5629.315314130418,
          5629.315314130418,
          5629.315314130418,
          5629.315314130418,
          5629.315314130418,
          5629.315314130418,
          5629.315314130418,
          5629.315314130418,
          5629.315314130418,
          5629.315314130418,
          5629.315314130418,
          5629.315314130418,
          5629.315314130418,
          5629.315314130418,
          5629.315314130418,
          5629.315314130418,
          5629.315314130418,
          5629.315314130418,
          5629.315314130418,
          5629.315314130418,
          5629.315314130418,
          5893.152835054528,
          5893.152835054528,
          5893.152835054528,
          5893.152835054528,
          5893.152835054528,
          5893.152835054528,
          5893.152835054528,
          5893.152835054528,
          5893.152835054528,
          5893.152835054528,
          5893.152835054528,
          5893.152835054528,
          5893.152835054528,
          5893.152835054528,
          5893.152835054528,
          5893.152835054528,
          5893.152835054528,
          5893.152835054528,
          5893.152835054528,
          5893.152835054528,
          5893.152835054528,
          5893.152835054528,
          5893.152835054528,
          5893.152835054528,
          5893.152835054528,
          5893.152835054528,
          5893.152835054528,
          5893.152835054528,
          5893.152835054528,
          5893.152835054528,
          5893.152835054528,
          5893.152835054528,
          5893.152835054528,
          5893.152835054528,
          5893.152835054528,
          5893.152835054528,
          5893.152835054528,
          5893.152835054528,
          5893.152835054528,
          5893.152835054528,
          5893.152835054528,
          5893.152835054528,
          5893.152835054528,
          5893.152835054528,
          5893.152835054528,
          5893.152835054528,
          5893.152835054528,
          5893.152835054528,
          5893.152835054528,
          5893.152835054528,
          5893.152835054528,
          5893.152835054528,
          5893.152835054528,
          5893.152835054528,
          5893.152835054528,
          5893.152835054528,
          5893.152835054528,
          5893.152835054528,
          5893.152835054528,
          5893.152835054528,
          5893.152835054528,
          5893.152835054528,
          5893.152835054528,
          5893.152835054528,
          5893.152835054528,
          5893.152835054528,
          5893.152835054528,
          5893.152835054528,
          6156.990355978635,
          6156.990355978635,
          6156.990355978635,
          6156.990355978635,
          6156.990355978635,
          6156.990355978635,
          6156.990355978635,
          6156.990355978635,
          6156.990355978635,
          6156.990355978635,
          6156.990355978635,
          6156.990355978635,
          6156.990355978635,
          6156.990355978635,
          6156.990355978635,
          6156.990355978635,
          6156.990355978635,
          6156.990355978635,
          6156.990355978635,
          6156.990355978635,
          6156.990355978635,
          6156.990355978635,
          6156.990355978635,
          6156.990355978635,
          6156.990355978635,
          6156.990355978635,
          6156.990355978635,
          6156.990355978635,
          6156.990355978635,
          6156.990355978635,
          6156.990355978635,
          6156.990355978635,
          6156.990355978635,
          6156.990355978635,
          6156.990355978635,
          6156.990355978635,
          6156.990355978635,
          6156.990355978635,
          6156.990355978635,
          6156.990355978635,
          6156.990355978635,
          6156.990355978635,
          6156.990355978635,
          6156.990355978635,
          6156.990355978635,
          6156.990355978635,
          6156.990355978635,
          6156.990355978635,
          6156.990355978635,
          6156.990355978635,
          6156.990355978635,
          6156.990355978635,
          6156.990355978635,
          6156.990355978635,
          6156.990355978635,
          6156.990355978635,
          6156.990355978635,
          6156.990355978635,
          6156.990355978635,
          6156.990355978635,
          6156.990355978635,
          6156.990355978635,
          6156.990355978635,
          6156.990355978635,
          6156.990355978635,
          6156.990355978635,
          6156.990355978635,
          6156.990355978635,
          6420.827876902743,
          6420.827876902743,
          6420.827876902743,
          6420.827876902743,
          6420.827876902743,
          6420.827876902743,
          6420.827876902743,
          6420.827876902743,
          6420.827876902743,
          6420.827876902743,
          6420.827876902743,
          6420.827876902743,
          6420.827876902743,
          6420.827876902743,
          6420.827876902743,
          6420.827876902743,
          6420.827876902743,
          6420.827876902743,
          6420.827876902743,
          6420.827876902743,
          6420.827876902743,
          6420.827876902743,
          6420.827876902743,
          6420.827876902743,
          6420.827876902743,
          6420.827876902743,
          6420.827876902743,
          6420.827876902743,
          6420.827876902743,
          6420.827876902743,
          6420.827876902743,
          6420.827876902743,
          6420.827876902743,
          6420.827876902743,
          6420.827876902743,
          6420.827876902743,
          6420.827876902743,
          6420.827876902743,
          6420.827876902743,
          6420.827876902743,
          6420.827876902743,
          6420.827876902743,
          6420.827876902743,
          6420.827876902743,
          6420.827876902743,
          6420.827876902743,
          6420.827876902743,
          6420.827876902743,
          6420.827876902743,
          6420.827876902743,
          6420.827876902743,
          6420.827876902743,
          6420.827876902743,
          6420.827876902743,
          6420.827876902743,
          6420.827876902743,
          6420.827876902743,
          6420.827876902743,
          6420.827876902743,
          6420.827876902743,
          6420.827876902743,
          6420.827876902743,
          6420.827876902743,
          6684.665397826852,
          6684.665397826852,
          6684.665397826852,
          6684.665397826852,
          6684.665397826852,
          6684.665397826852,
          6684.665397826852,
          6684.665397826852,
          6684.665397826852,
          6684.665397826852,
          6684.665397826852,
          6684.665397826852,
          6684.665397826852,
          6684.665397826852,
          6684.665397826852,
          6684.665397826852,
          6684.665397826852,
          6684.665397826852,
          6684.665397826852,
          6684.665397826852,
          6684.665397826852,
          6684.665397826852,
          6684.665397826852,
          6684.665397826852,
          6684.665397826852,
          6684.665397826852,
          6684.665397826852,
          6684.665397826852,
          6684.665397826852,
          6684.665397826852,
          6684.665397826852,
          6684.665397826852,
          6684.665397826852,
          6684.665397826852,
          6684.665397826852,
          6684.665397826852,
          6684.665397826852,
          6684.665397826852,
          6684.665397826852,
          6684.665397826852,
          6684.665397826852,
          6684.665397826852,
          6684.665397826852,
          6684.665397826852,
          6948.50291875096,
          6948.50291875096,
          6948.50291875096,
          6948.50291875096,
          6948.50291875096,
          6948.50291875096,
          6948.50291875096,
          6948.50291875096,
          6948.50291875096,
          6948.50291875096,
          6948.50291875096,
          6948.50291875096,
          6948.50291875096,
          6948.50291875096,
          6948.50291875096,
          6948.50291875096,
          6948.50291875096,
          6948.50291875096,
          6948.50291875096,
          6948.50291875096,
          6948.50291875096,
          6948.50291875096,
          6948.50291875096,
          6948.50291875096,
          6948.50291875096,
          6948.50291875096,
          6948.50291875096,
          6948.50291875096,
          6948.50291875096,
          6948.50291875096,
          6948.50291875096,
          6948.50291875096,
          6948.50291875096,
          6948.50291875096,
          6948.50291875096,
          6948.50291875096,
          6948.50291875096,
          6948.50291875096,
          6948.50291875096,
          6948.50291875096,
          6948.50291875096,
          6948.50291875096,
          6948.50291875096,
          6948.50291875096,
          6948.50291875096,
          6948.50291875096,
          6948.50291875096,
          6948.50291875096,
          6948.50291875096,
          6948.50291875096,
          6948.50291875096,
          6948.50291875096,
          6948.50291875096,
          6948.50291875096,
          6948.50291875096,
          6948.50291875096,
          7212.3404396750675,
          7212.3404396750675,
          7212.3404396750675,
          7212.3404396750675,
          7212.3404396750675,
          7212.3404396750675,
          7212.3404396750675,
          7212.3404396750675,
          7212.3404396750675,
          7212.3404396750675,
          7212.3404396750675,
          7212.3404396750675,
          7212.3404396750675,
          7212.3404396750675,
          7212.3404396750675,
          7212.3404396750675,
          7212.3404396750675,
          7212.3404396750675,
          7212.3404396750675,
          7212.3404396750675,
          7212.3404396750675,
          7212.3404396750675,
          7212.3404396750675,
          7212.3404396750675,
          7212.3404396750675,
          7212.3404396750675,
          7212.3404396750675,
          7212.3404396750675,
          7212.3404396750675,
          7212.3404396750675,
          7212.3404396750675,
          7212.3404396750675,
          7212.3404396750675,
          7212.3404396750675,
          7212.3404396750675,
          7212.3404396750675,
          7476.177960599175,
          7476.177960599175,
          7476.177960599175,
          7476.177960599175,
          7476.177960599175,
          7476.177960599175,
          7476.177960599175,
          7476.177960599175,
          7476.177960599175,
          7476.177960599175,
          7476.177960599175,
          7476.177960599175,
          7476.177960599175,
          7476.177960599175,
          7476.177960599175,
          7476.177960599175,
          7476.177960599175,
          7476.177960599175,
          7476.177960599175,
          7476.177960599175,
          7476.177960599175,
          7476.177960599175,
          7476.177960599175,
          7476.177960599175,
          7476.177960599175,
          7476.177960599175,
          7476.177960599175,
          7476.177960599175,
          7476.177960599175,
          7476.177960599175,
          7476.177960599175,
          7476.177960599175,
          7476.177960599175,
          7476.177960599175,
          7476.177960599175,
          7476.177960599175,
          7476.177960599175,
          7476.177960599175,
          7476.177960599175,
          7476.177960599175,
          7476.177960599175,
          7476.177960599175,
          7476.177960599175,
          7476.177960599175,
          7476.177960599175,
          7476.177960599175,
          7476.177960599175,
          7476.177960599175,
          7476.177960599175,
          7476.177960599175,
          7476.177960599175,
          7476.177960599175,
          7740.0154815232845,
          7740.0154815232845,
          7740.0154815232845,
          7740.0154815232845,
          7740.0154815232845,
          7740.0154815232845,
          7740.0154815232845,
          7740.0154815232845,
          7740.0154815232845,
          7740.0154815232845,
          7740.0154815232845,
          7740.0154815232845,
          7740.0154815232845,
          7740.0154815232845,
          7740.0154815232845,
          7740.0154815232845,
          7740.0154815232845,
          7740.0154815232845,
          7740.0154815232845,
          7740.0154815232845,
          7740.0154815232845,
          7740.0154815232845,
          7740.0154815232845,
          7740.0154815232845,
          7740.0154815232845,
          7740.0154815232845,
          7740.0154815232845,
          7740.0154815232845,
          7740.0154815232845,
          7740.0154815232845,
          7740.0154815232845,
          7740.0154815232845,
          7740.0154815232845,
          7740.0154815232845,
          8003.853002447392,
          8003.853002447392,
          8003.853002447392,
          8003.853002447392,
          8003.853002447392,
          8003.853002447392,
          8003.853002447392,
          8003.853002447392,
          8003.853002447392,
          8003.853002447392,
          8003.853002447392,
          8003.853002447392,
          8003.853002447392,
          8003.853002447392,
          8003.853002447392,
          8003.853002447392,
          8003.853002447392,
          8003.853002447392,
          8003.853002447392,
          8003.853002447392,
          8003.853002447392,
          8003.853002447392,
          8003.853002447392,
          8003.853002447392,
          8003.853002447392,
          8003.853002447392,
          8003.853002447392,
          8003.853002447392,
          8003.853002447392,
          8003.853002447392,
          8003.853002447392,
          8003.853002447392,
          8003.853002447392,
          8003.853002447392,
          8003.853002447392,
          8003.853002447392,
          8003.853002447392,
          8003.853002447392,
          8003.853002447392,
          8003.853002447392,
          8003.853002447392,
          8003.853002447392,
          8003.853002447392,
          8003.853002447392,
          8267.6905233715,
          8267.6905233715,
          8267.6905233715,
          8267.6905233715,
          8267.6905233715,
          8267.6905233715,
          8267.6905233715,
          8267.6905233715,
          8267.6905233715,
          8267.6905233715,
          8267.6905233715,
          8267.6905233715,
          8267.6905233715,
          8267.6905233715,
          8267.6905233715,
          8267.6905233715,
          8267.6905233715,
          8267.6905233715,
          8267.6905233715,
          8267.6905233715,
          8267.6905233715,
          8267.6905233715,
          8267.6905233715,
          8267.6905233715,
          8267.6905233715,
          8267.6905233715,
          8267.6905233715,
          8267.6905233715,
          8267.6905233715,
          8267.6905233715,
          8531.52804429561,
          8531.52804429561,
          8531.52804429561,
          8531.52804429561,
          8531.52804429561,
          8531.52804429561,
          8531.52804429561,
          8531.52804429561,
          8531.52804429561,
          8531.52804429561,
          8531.52804429561,
          8531.52804429561,
          8531.52804429561,
          8531.52804429561,
          8531.52804429561,
          8531.52804429561,
          8531.52804429561,
          8531.52804429561,
          8531.52804429561,
          8531.52804429561,
          8531.52804429561,
          8531.52804429561,
          8531.52804429561,
          8531.52804429561,
          8531.52804429561,
          8531.52804429561,
          8531.52804429561,
          8795.365565219716,
          8795.365565219716,
          8795.365565219716,
          8795.365565219716,
          8795.365565219716,
          8795.365565219716,
          8795.365565219716,
          8795.365565219716,
          8795.365565219716,
          8795.365565219716,
          8795.365565219716,
          8795.365565219716,
          8795.365565219716,
          8795.365565219716,
          8795.365565219716,
          8795.365565219716,
          8795.365565219716,
          8795.365565219716,
          8795.365565219716,
          8795.365565219716,
          8795.365565219716,
          8795.365565219716,
          8795.365565219716,
          8795.365565219716,
          8795.365565219716,
          8795.365565219716,
          8795.365565219716,
          8795.365565219716,
          8795.365565219716,
          8795.365565219716,
          8795.365565219716,
          8795.365565219716,
          8795.365565219716,
          8795.365565219716,
          8795.365565219716,
          8795.365565219716,
          8795.365565219716,
          8795.365565219716,
          8795.365565219716,
          9059.203086143825,
          9059.203086143825,
          9059.203086143825,
          9059.203086143825,
          9059.203086143825,
          9059.203086143825,
          9059.203086143825,
          9059.203086143825,
          9059.203086143825,
          9059.203086143825,
          9059.203086143825,
          9059.203086143825,
          9059.203086143825,
          9059.203086143825,
          9059.203086143825,
          9059.203086143825,
          9059.203086143825,
          9059.203086143825,
          9059.203086143825,
          9059.203086143825,
          9059.203086143825,
          9059.203086143825,
          9059.203086143825,
          9059.203086143825,
          9059.203086143825,
          9059.203086143825,
          9059.203086143825,
          9059.203086143825,
          9059.203086143825,
          9323.040607067935,
          9323.040607067935,
          9323.040607067935,
          9323.040607067935,
          9323.040607067935,
          9323.040607067935,
          9323.040607067935,
          9323.040607067935,
          9323.040607067935,
          9323.040607067935,
          9323.040607067935,
          9323.040607067935,
          9323.040607067935,
          9323.040607067935,
          9323.040607067935,
          9323.040607067935,
          9323.040607067935,
          9323.040607067935,
          9323.040607067935,
          9323.040607067935,
          9323.040607067935,
          9586.87812799204,
          9586.87812799204,
          9586.87812799204,
          9586.87812799204,
          9586.87812799204,
          9586.87812799204,
          9586.87812799204,
          9586.87812799204,
          9586.87812799204,
          9586.87812799204,
          9586.87812799204,
          9586.87812799204,
          9586.87812799204,
          9586.87812799204,
          9586.87812799204,
          9586.87812799204,
          9586.87812799204,
          9850.71564891615,
          9850.71564891615,
          9850.71564891615,
          9850.71564891615,
          9850.71564891615,
          9850.71564891615,
          9850.71564891615,
          9850.71564891615,
          9850.71564891615,
          9850.71564891615,
          9850.71564891615,
          9850.71564891615,
          9850.71564891615,
          9850.71564891615,
          9850.71564891615,
          9850.71564891615,
          9850.71564891615,
          9850.71564891615,
          9850.71564891615,
          9850.71564891615,
          9850.71564891615,
          9850.71564891615,
          10114.55316984026,
          10114.55316984026,
          10114.55316984026,
          10114.55316984026,
          10114.55316984026,
          10114.55316984026,
          10114.55316984026,
          10114.55316984026,
          10114.55316984026,
          10114.55316984026,
          10114.55316984026,
          10114.55316984026,
          10114.55316984026,
          10114.55316984026,
          10114.55316984026,
          10114.55316984026,
          10114.55316984026,
          10114.55316984026,
          10114.55316984026,
          10114.55316984026,
          10114.55316984026,
          10114.55316984026,
          10114.55316984026,
          10114.55316984026,
          10114.55316984026,
          10378.390690764365,
          10378.390690764365,
          10378.390690764365,
          10378.390690764365,
          10378.390690764365,
          10378.390690764365,
          10378.390690764365,
          10378.390690764365,
          10378.390690764365,
          10378.390690764365,
          10378.390690764365,
          10378.390690764365,
          10378.390690764365,
          10378.390690764365,
          10378.390690764365,
          10378.390690764365,
          10378.390690764365,
          10642.228211688474,
          10642.228211688474,
          10642.228211688474,
          10642.228211688474,
          10642.228211688474,
          10642.228211688474,
          10642.228211688474,
          10642.228211688474,
          10642.228211688474,
          10642.228211688474,
          10642.228211688474,
          10642.228211688474,
          10642.228211688474,
          10642.228211688474,
          10642.228211688474,
          10906.065732612584,
          10906.065732612584,
          10906.065732612584,
          10906.065732612584,
          10906.065732612584,
          10906.065732612584,
          10906.065732612584,
          10906.065732612584,
          10906.065732612584,
          10906.065732612584,
          10906.065732612584,
          10906.065732612584,
          10906.065732612584,
          10906.065732612584,
          10906.065732612584,
          10906.065732612584,
          10906.065732612584,
          11169.90325353669,
          11169.90325353669,
          11169.90325353669,
          11169.90325353669,
          11169.90325353669,
          11169.90325353669,
          11169.90325353669,
          11169.90325353669,
          11169.90325353669,
          11169.90325353669,
          11169.90325353669,
          11169.90325353669,
          11169.90325353669,
          11169.90325353669,
          11169.90325353669,
          11169.90325353669,
          11169.90325353669,
          11169.90325353669,
          11433.740774460799,
          11433.740774460799,
          11433.740774460799,
          11433.740774460799,
          11433.740774460799,
          11433.740774460799,
          11433.740774460799,
          11433.740774460799,
          11433.740774460799,
          11433.740774460799,
          11433.740774460799,
          11433.740774460799,
          11433.740774460799,
          11433.740774460799,
          11433.740774460799,
          11433.740774460799,
          11433.740774460799,
          11433.740774460799,
          11433.740774460799,
          11697.578295384908,
          11697.578295384908,
          11697.578295384908,
          11697.578295384908,
          11697.578295384908,
          11697.578295384908,
          11697.578295384908,
          11697.578295384908,
          11697.578295384908,
          11697.578295384908,
          11697.578295384908,
          11961.415816309014,
          11961.415816309014,
          11961.415816309014,
          11961.415816309014,
          12225.253337233124,
          12225.253337233124,
          12225.253337233124,
          12225.253337233124,
          12225.253337233124,
          12225.253337233124,
          12225.253337233124,
          12225.253337233124,
          12225.253337233124,
          12489.09085815723,
          12489.09085815723,
          12489.09085815723,
          12489.09085815723,
          12489.09085815723,
          12489.09085815723,
          12489.09085815723,
          12489.09085815723,
          12489.09085815723,
          12489.09085815723,
          12752.928379081339,
          12752.928379081339,
          12752.928379081339,
          12752.928379081339,
          12752.928379081339
         ],
         "yaxis": "y"
        }
       ],
       "layout": {
        "legend": {
         "title": {
          "text": "Attrition"
         },
         "tracegroupgap": 0
        },
        "margin": {
         "t": 60
        },
        "template": {
         "data": {
          "bar": [
           {
            "error_x": {
             "color": "#2a3f5f"
            },
            "error_y": {
             "color": "#2a3f5f"
            },
            "marker": {
             "line": {
              "color": "white",
              "width": 0.5
             },
             "pattern": {
              "fillmode": "overlay",
              "size": 10,
              "solidity": 0.2
             }
            },
            "type": "bar"
           }
          ],
          "barpolar": [
           {
            "marker": {
             "line": {
              "color": "white",
              "width": 0.5
             },
             "pattern": {
              "fillmode": "overlay",
              "size": 10,
              "solidity": 0.2
             }
            },
            "type": "barpolar"
           }
          ],
          "carpet": [
           {
            "aaxis": {
             "endlinecolor": "#2a3f5f",
             "gridcolor": "#C8D4E3",
             "linecolor": "#C8D4E3",
             "minorgridcolor": "#C8D4E3",
             "startlinecolor": "#2a3f5f"
            },
            "baxis": {
             "endlinecolor": "#2a3f5f",
             "gridcolor": "#C8D4E3",
             "linecolor": "#C8D4E3",
             "minorgridcolor": "#C8D4E3",
             "startlinecolor": "#2a3f5f"
            },
            "type": "carpet"
           }
          ],
          "choropleth": [
           {
            "colorbar": {
             "outlinewidth": 0,
             "ticks": ""
            },
            "type": "choropleth"
           }
          ],
          "contour": [
           {
            "colorbar": {
             "outlinewidth": 0,
             "ticks": ""
            },
            "colorscale": [
             [
              0,
              "#0d0887"
             ],
             [
              0.1111111111111111,
              "#46039f"
             ],
             [
              0.2222222222222222,
              "#7201a8"
             ],
             [
              0.3333333333333333,
              "#9c179e"
             ],
             [
              0.4444444444444444,
              "#bd3786"
             ],
             [
              0.5555555555555556,
              "#d8576b"
             ],
             [
              0.6666666666666666,
              "#ed7953"
             ],
             [
              0.7777777777777778,
              "#fb9f3a"
             ],
             [
              0.8888888888888888,
              "#fdca26"
             ],
             [
              1,
              "#f0f921"
             ]
            ],
            "type": "contour"
           }
          ],
          "contourcarpet": [
           {
            "colorbar": {
             "outlinewidth": 0,
             "ticks": ""
            },
            "type": "contourcarpet"
           }
          ],
          "heatmap": [
           {
            "colorbar": {
             "outlinewidth": 0,
             "ticks": ""
            },
            "colorscale": [
             [
              0,
              "#0d0887"
             ],
             [
              0.1111111111111111,
              "#46039f"
             ],
             [
              0.2222222222222222,
              "#7201a8"
             ],
             [
              0.3333333333333333,
              "#9c179e"
             ],
             [
              0.4444444444444444,
              "#bd3786"
             ],
             [
              0.5555555555555556,
              "#d8576b"
             ],
             [
              0.6666666666666666,
              "#ed7953"
             ],
             [
              0.7777777777777778,
              "#fb9f3a"
             ],
             [
              0.8888888888888888,
              "#fdca26"
             ],
             [
              1,
              "#f0f921"
             ]
            ],
            "type": "heatmap"
           }
          ],
          "heatmapgl": [
           {
            "colorbar": {
             "outlinewidth": 0,
             "ticks": ""
            },
            "colorscale": [
             [
              0,
              "#0d0887"
             ],
             [
              0.1111111111111111,
              "#46039f"
             ],
             [
              0.2222222222222222,
              "#7201a8"
             ],
             [
              0.3333333333333333,
              "#9c179e"
             ],
             [
              0.4444444444444444,
              "#bd3786"
             ],
             [
              0.5555555555555556,
              "#d8576b"
             ],
             [
              0.6666666666666666,
              "#ed7953"
             ],
             [
              0.7777777777777778,
              "#fb9f3a"
             ],
             [
              0.8888888888888888,
              "#fdca26"
             ],
             [
              1,
              "#f0f921"
             ]
            ],
            "type": "heatmapgl"
           }
          ],
          "histogram": [
           {
            "marker": {
             "pattern": {
              "fillmode": "overlay",
              "size": 10,
              "solidity": 0.2
             }
            },
            "type": "histogram"
           }
          ],
          "histogram2d": [
           {
            "colorbar": {
             "outlinewidth": 0,
             "ticks": ""
            },
            "colorscale": [
             [
              0,
              "#0d0887"
             ],
             [
              0.1111111111111111,
              "#46039f"
             ],
             [
              0.2222222222222222,
              "#7201a8"
             ],
             [
              0.3333333333333333,
              "#9c179e"
             ],
             [
              0.4444444444444444,
              "#bd3786"
             ],
             [
              0.5555555555555556,
              "#d8576b"
             ],
             [
              0.6666666666666666,
              "#ed7953"
             ],
             [
              0.7777777777777778,
              "#fb9f3a"
             ],
             [
              0.8888888888888888,
              "#fdca26"
             ],
             [
              1,
              "#f0f921"
             ]
            ],
            "type": "histogram2d"
           }
          ],
          "histogram2dcontour": [
           {
            "colorbar": {
             "outlinewidth": 0,
             "ticks": ""
            },
            "colorscale": [
             [
              0,
              "#0d0887"
             ],
             [
              0.1111111111111111,
              "#46039f"
             ],
             [
              0.2222222222222222,
              "#7201a8"
             ],
             [
              0.3333333333333333,
              "#9c179e"
             ],
             [
              0.4444444444444444,
              "#bd3786"
             ],
             [
              0.5555555555555556,
              "#d8576b"
             ],
             [
              0.6666666666666666,
              "#ed7953"
             ],
             [
              0.7777777777777778,
              "#fb9f3a"
             ],
             [
              0.8888888888888888,
              "#fdca26"
             ],
             [
              1,
              "#f0f921"
             ]
            ],
            "type": "histogram2dcontour"
           }
          ],
          "mesh3d": [
           {
            "colorbar": {
             "outlinewidth": 0,
             "ticks": ""
            },
            "type": "mesh3d"
           }
          ],
          "parcoords": [
           {
            "line": {
             "colorbar": {
              "outlinewidth": 0,
              "ticks": ""
             }
            },
            "type": "parcoords"
           }
          ],
          "pie": [
           {
            "automargin": true,
            "type": "pie"
           }
          ],
          "scatter": [
           {
            "fillpattern": {
             "fillmode": "overlay",
             "size": 10,
             "solidity": 0.2
            },
            "type": "scatter"
           }
          ],
          "scatter3d": [
           {
            "line": {
             "colorbar": {
              "outlinewidth": 0,
              "ticks": ""
             }
            },
            "marker": {
             "colorbar": {
              "outlinewidth": 0,
              "ticks": ""
             }
            },
            "type": "scatter3d"
           }
          ],
          "scattercarpet": [
           {
            "marker": {
             "colorbar": {
              "outlinewidth": 0,
              "ticks": ""
             }
            },
            "type": "scattercarpet"
           }
          ],
          "scattergeo": [
           {
            "marker": {
             "colorbar": {
              "outlinewidth": 0,
              "ticks": ""
             }
            },
            "type": "scattergeo"
           }
          ],
          "scattergl": [
           {
            "marker": {
             "colorbar": {
              "outlinewidth": 0,
              "ticks": ""
             }
            },
            "type": "scattergl"
           }
          ],
          "scattermapbox": [
           {
            "marker": {
             "colorbar": {
              "outlinewidth": 0,
              "ticks": ""
             }
            },
            "type": "scattermapbox"
           }
          ],
          "scatterpolar": [
           {
            "marker": {
             "colorbar": {
              "outlinewidth": 0,
              "ticks": ""
             }
            },
            "type": "scatterpolar"
           }
          ],
          "scatterpolargl": [
           {
            "marker": {
             "colorbar": {
              "outlinewidth": 0,
              "ticks": ""
             }
            },
            "type": "scatterpolargl"
           }
          ],
          "scatterternary": [
           {
            "marker": {
             "colorbar": {
              "outlinewidth": 0,
              "ticks": ""
             }
            },
            "type": "scatterternary"
           }
          ],
          "surface": [
           {
            "colorbar": {
             "outlinewidth": 0,
             "ticks": ""
            },
            "colorscale": [
             [
              0,
              "#0d0887"
             ],
             [
              0.1111111111111111,
              "#46039f"
             ],
             [
              0.2222222222222222,
              "#7201a8"
             ],
             [
              0.3333333333333333,
              "#9c179e"
             ],
             [
              0.4444444444444444,
              "#bd3786"
             ],
             [
              0.5555555555555556,
              "#d8576b"
             ],
             [
              0.6666666666666666,
              "#ed7953"
             ],
             [
              0.7777777777777778,
              "#fb9f3a"
             ],
             [
              0.8888888888888888,
              "#fdca26"
             ],
             [
              1,
              "#f0f921"
             ]
            ],
            "type": "surface"
           }
          ],
          "table": [
           {
            "cells": {
             "fill": {
              "color": "#EBF0F8"
             },
             "line": {
              "color": "white"
             }
            },
            "header": {
             "fill": {
              "color": "#C8D4E3"
             },
             "line": {
              "color": "white"
             }
            },
            "type": "table"
           }
          ]
         },
         "layout": {
          "annotationdefaults": {
           "arrowcolor": "#2a3f5f",
           "arrowhead": 0,
           "arrowwidth": 1
          },
          "autotypenumbers": "strict",
          "coloraxis": {
           "colorbar": {
            "outlinewidth": 0,
            "ticks": ""
           }
          },
          "colorscale": {
           "diverging": [
            [
             0,
             "#8e0152"
            ],
            [
             0.1,
             "#c51b7d"
            ],
            [
             0.2,
             "#de77ae"
            ],
            [
             0.3,
             "#f1b6da"
            ],
            [
             0.4,
             "#fde0ef"
            ],
            [
             0.5,
             "#f7f7f7"
            ],
            [
             0.6,
             "#e6f5d0"
            ],
            [
             0.7,
             "#b8e186"
            ],
            [
             0.8,
             "#7fbc41"
            ],
            [
             0.9,
             "#4d9221"
            ],
            [
             1,
             "#276419"
            ]
           ],
           "sequential": [
            [
             0,
             "#0d0887"
            ],
            [
             0.1111111111111111,
             "#46039f"
            ],
            [
             0.2222222222222222,
             "#7201a8"
            ],
            [
             0.3333333333333333,
             "#9c179e"
            ],
            [
             0.4444444444444444,
             "#bd3786"
            ],
            [
             0.5555555555555556,
             "#d8576b"
            ],
            [
             0.6666666666666666,
             "#ed7953"
            ],
            [
             0.7777777777777778,
             "#fb9f3a"
            ],
            [
             0.8888888888888888,
             "#fdca26"
            ],
            [
             1,
             "#f0f921"
            ]
           ],
           "sequentialminus": [
            [
             0,
             "#0d0887"
            ],
            [
             0.1111111111111111,
             "#46039f"
            ],
            [
             0.2222222222222222,
             "#7201a8"
            ],
            [
             0.3333333333333333,
             "#9c179e"
            ],
            [
             0.4444444444444444,
             "#bd3786"
            ],
            [
             0.5555555555555556,
             "#d8576b"
            ],
            [
             0.6666666666666666,
             "#ed7953"
            ],
            [
             0.7777777777777778,
             "#fb9f3a"
            ],
            [
             0.8888888888888888,
             "#fdca26"
            ],
            [
             1,
             "#f0f921"
            ]
           ]
          },
          "colorway": [
           "#636efa",
           "#EF553B",
           "#00cc96",
           "#ab63fa",
           "#FFA15A",
           "#19d3f3",
           "#FF6692",
           "#B6E880",
           "#FF97FF",
           "#FECB52"
          ],
          "font": {
           "color": "#2a3f5f"
          },
          "geo": {
           "bgcolor": "white",
           "lakecolor": "white",
           "landcolor": "white",
           "showlakes": true,
           "showland": true,
           "subunitcolor": "#C8D4E3"
          },
          "hoverlabel": {
           "align": "left"
          },
          "hovermode": "closest",
          "mapbox": {
           "style": "light"
          },
          "paper_bgcolor": "white",
          "plot_bgcolor": "white",
          "polar": {
           "angularaxis": {
            "gridcolor": "#EBF0F8",
            "linecolor": "#EBF0F8",
            "ticks": ""
           },
           "bgcolor": "white",
           "radialaxis": {
            "gridcolor": "#EBF0F8",
            "linecolor": "#EBF0F8",
            "ticks": ""
           }
          },
          "scene": {
           "xaxis": {
            "backgroundcolor": "white",
            "gridcolor": "#DFE8F3",
            "gridwidth": 2,
            "linecolor": "#EBF0F8",
            "showbackground": true,
            "ticks": "",
            "zerolinecolor": "#EBF0F8"
           },
           "yaxis": {
            "backgroundcolor": "white",
            "gridcolor": "#DFE8F3",
            "gridwidth": 2,
            "linecolor": "#EBF0F8",
            "showbackground": true,
            "ticks": "",
            "zerolinecolor": "#EBF0F8"
           },
           "zaxis": {
            "backgroundcolor": "white",
            "gridcolor": "#DFE8F3",
            "gridwidth": 2,
            "linecolor": "#EBF0F8",
            "showbackground": true,
            "ticks": "",
            "zerolinecolor": "#EBF0F8"
           }
          },
          "shapedefaults": {
           "line": {
            "color": "#2a3f5f"
           }
          },
          "ternary": {
           "aaxis": {
            "gridcolor": "#DFE8F3",
            "linecolor": "#A2B1C6",
            "ticks": ""
           },
           "baxis": {
            "gridcolor": "#DFE8F3",
            "linecolor": "#A2B1C6",
            "ticks": ""
           },
           "bgcolor": "white",
           "caxis": {
            "gridcolor": "#DFE8F3",
            "linecolor": "#A2B1C6",
            "ticks": ""
           }
          },
          "title": {
           "x": 0.05
          },
          "xaxis": {
           "automargin": true,
           "gridcolor": "#EBF0F8",
           "linecolor": "#EBF0F8",
           "ticks": "",
           "title": {
            "standoff": 15
           },
           "zerolinecolor": "#EBF0F8",
           "zerolinewidth": 2
          },
          "yaxis": {
           "automargin": true,
           "gridcolor": "#EBF0F8",
           "linecolor": "#EBF0F8",
           "ticks": "",
           "title": {
            "standoff": 15
           },
           "zerolinecolor": "#EBF0F8",
           "zerolinewidth": 2
          }
         }
        },
        "title": {
         "text": "Age vs Monthly Income by Attrition"
        },
        "xaxis": {
         "anchor": "y",
         "domain": [
          0,
          1
         ],
         "title": {
          "text": "Age"
         }
        },
        "yaxis": {
         "anchor": "x",
         "domain": [
          0,
          1
         ],
         "title": {
          "text": "MonthlyIncome"
         }
        }
       }
      }
     },
     "metadata": {},
     "output_type": "display_data"
    }
   ],
   "source": [
    "fig = px.scatter(\n",
    "    data,\n",
    "    x=\"Age\",\n",
    "    y=\"MonthlyIncome\",\n",
    "    color=\"Attrition\",\n",
    "    trendline=\"ols\"\n",
    ")\n",
    "\n",
    "fig.update_layout(title=\"Age vs Monthly Income by Attrition\")\n",
    "fig.show()"
   ]
  },
  {
   "attachments": {},
   "cell_type": "markdown",
   "metadata": {},
   "source": [
    "# Predict model with Random Forest"
   ]
  },
  {
   "cell_type": "code",
   "execution_count": 9,
   "metadata": {},
   "outputs": [],
   "source": [
    "from sklearn.preprocessing import LabelEncoder\n",
    "le = LabelEncoder()\n",
    "\n",
    "list = ['Attrition', 'BusinessTravel', 'Department', 'EducationField', 'Gender', 'JobRole', 'MaritalStatus', 'Over18', 'OverTime']\n",
    "\n",
    "for att in list:\n",
    "    data[att] = le.fit_transform(data[att])"
   ]
  },
  {
   "cell_type": "code",
   "execution_count": 12,
   "metadata": {},
   "outputs": [
    {
     "name": "stdout",
     "output_type": "stream",
     "text": [
      "Attrition                   1.000000\n",
      "OverTime                    0.246118\n",
      "MaritalStatus               0.162070\n",
      "DistanceFromHome            0.077924\n",
      "JobRole                     0.067151\n",
      "Department                  0.063991\n",
      "NumCompaniesWorked          0.043494\n",
      "Gender                      0.029453\n",
      "EducationField              0.026846\n",
      "MonthlyRate                 0.015170\n",
      "PerformanceRating           0.002889\n",
      "BusinessTravel              0.000074\n",
      "HourlyRate                 -0.006846\n",
      "EmployeeNumber             -0.010577\n",
      "PercentSalaryHike          -0.013478\n",
      "Education                  -0.031373\n",
      "YearsSinceLastPromotion    -0.033019\n",
      "RelationshipSatisfaction   -0.045872\n",
      "DailyRate                  -0.056652\n",
      "TrainingTimesLastYear      -0.059478\n",
      "WorkLifeBalance            -0.063939\n",
      "EnvironmentSatisfaction    -0.103369\n",
      "JobSatisfaction            -0.103481\n",
      "JobInvolvement             -0.130016\n",
      "YearsAtCompany             -0.134392\n",
      "StockOptionLevel           -0.137145\n",
      "YearsWithCurrManager       -0.156199\n",
      "Age                        -0.159205\n",
      "MonthlyIncome              -0.159840\n",
      "YearsInCurrentRole         -0.160545\n",
      "JobLevel                   -0.169105\n",
      "TotalWorkingYears          -0.171063\n",
      "EmployeeCount                    NaN\n",
      "Over18                           NaN\n",
      "StandardHours                    NaN\n",
      "Name: Attrition, dtype: float64\n"
     ]
    }
   ],
   "source": [
    "correlation = data.corr()\n",
    "print(correlation[\"Attrition\"].sort_values(ascending=False))"
   ]
  },
  {
   "cell_type": "code",
   "execution_count": 13,
   "metadata": {},
   "outputs": [],
   "source": [
    "data['SatisfactionScore'] = data['EnvironmentSatisfaction'] + data['JobSatisfaction'] + data['RelationshipSatisfaction']"
   ]
  },
  {
   "cell_type": "code",
   "execution_count": 15,
   "metadata": {},
   "outputs": [],
   "source": [
    "from sklearn.model_selection import train_test_split\n",
    "from sklearn.metrics import accuracy_score\n",
    "\n",
    "# Split data into training and testing sets\n",
    "X = data.drop(['Attrition'], axis=1)\n",
    "y = data['Attrition']\n",
    "xtrain, xtest, ytrain, ytest = train_test_split(X, y, test_size=0.3, random_state=42)"
   ]
  },
  {
   "cell_type": "code",
   "execution_count": 16,
   "metadata": {},
   "outputs": [
    {
     "name": "stdout",
     "output_type": "stream",
     "text": [
      "Accuracy:  0.8344671201814059\n"
     ]
    }
   ],
   "source": [
    "from sklearn.ensemble import RandomForestClassifier\n",
    "model = RandomForestClassifier()\n",
    "model.fit(xtrain, ytrain)\n",
    "\n",
    "# Evaluate model's performance\n",
    "ypred = model.predict(xtest)\n",
    "accuracy = accuracy_score(ytest, ypred)\n",
    "print(\"Accuracy: \", accuracy)"
   ]
  },
  {
   "cell_type": "code",
   "execution_count": null,
   "metadata": {},
   "outputs": [],
   "source": []
  }
 ],
 "metadata": {
  "kernelspec": {
   "display_name": "Python 3",
   "language": "python",
   "name": "python3"
  },
  "language_info": {
   "codemirror_mode": {
    "name": "ipython",
    "version": 3
   },
   "file_extension": ".py",
   "mimetype": "text/x-python",
   "name": "python",
   "nbconvert_exporter": "python",
   "pygments_lexer": "ipython3",
   "version": "3.11.1"
  },
  "orig_nbformat": 4
 },
 "nbformat": 4,
 "nbformat_minor": 2
}
