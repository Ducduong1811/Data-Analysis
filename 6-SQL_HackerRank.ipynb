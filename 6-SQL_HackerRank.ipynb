{
 "cells": [
  {
   "cell_type": "code",
   "execution_count": null,
   "metadata": {
    "vscode": {
     "languageId": "sql"
    }
   },
   "outputs": [],
   "source": [
    "/* https://www.hackerrank.com/challenges/select-all-sql */\n",
    "SELECT * FROM CITY"
   ]
  },
  {
   "cell_type": "code",
   "execution_count": null,
   "metadata": {
    "vscode": {
     "languageId": "sql"
    }
   },
   "outputs": [],
   "source": [
    "/* https://www.hackerrank.com/challenges/select-by-id/ */\n",
    "SELECT * FROM CITY\n",
    "WHERE ID = 1661"
   ]
  },
  {
   "cell_type": "code",
   "execution_count": null,
   "metadata": {
    "vscode": {
     "languageId": "sql"
    }
   },
   "outputs": [],
   "source": [
    "/* https://www.hackerrank.com/challenges/revising-the-select-query */\n",
    "SELECT * FROM CITY\n",
    "WHERE POPULATION > 100000\n",
    "AND COUNTRYCODE = 'USA'"
   ]
  },
  {
   "cell_type": "code",
   "execution_count": null,
   "metadata": {
    "vscode": {
     "languageId": "sql"
    }
   },
   "outputs": [],
   "source": [
    "/* https://www.hackerrank.com/challenges/revising-the-select-query-2 */\n",
    "SELECT NAME FROM CITY\n",
    "WHERE POPULATION > 120000 AND\n",
    "COUNTRYCODE = 'USA'"
   ]
  },
  {
   "cell_type": "code",
   "execution_count": null,
   "metadata": {
    "vscode": {
     "languageId": "sql"
    }
   },
   "outputs": [],
   "source": [
    "/* https://www.hackerrank.com/challenges/japanese-cities-attributes/ */\n",
    "SELECT * FROM CITY\n",
    "WHERE COUNTRYCODE  = 'JPN'"
   ]
  },
  {
   "cell_type": "code",
   "execution_count": null,
   "metadata": {
    "vscode": {
     "languageId": "sql"
    }
   },
   "outputs": [],
   "source": [
    "/* https://www.hackerrank.com/challenges/japanese-cities-name/ */\n",
    "SELECT NAME FROM CITY\n",
    "WHERE COUNTRYCODE  = 'JPN'"
   ]
  },
  {
   "cell_type": "code",
   "execution_count": null,
   "metadata": {
    "vscode": {
     "languageId": "sql"
    }
   },
   "outputs": [],
   "source": [
    "/* https://www.hackerrank.com/challenges/weather-observation-station-1/ */\n",
    "SELECT CITY,STATE FROM STATION;"
   ]
  },
  {
   "cell_type": "code",
   "execution_count": null,
   "metadata": {
    "vscode": {
     "languageId": "sql"
    }
   },
   "outputs": [],
   "source": [
    "/* https://www.hackerrank.com/challenges/weather-observation-station-2/ */\n",
    "SELECT ROUND(SUM(LAT_N),2), ROUND(SUM(LONG_W),2) FROM STATION;"
   ]
  },
  {
   "cell_type": "code",
   "execution_count": null,
   "metadata": {
    "vscode": {
     "languageId": "sql"
    }
   },
   "outputs": [],
   "source": [
    "/* https://www.hackerrank.com/challenges/weather-observation-station-3 */\n",
    "SELECT DISTINCT CITY FROM STATION\n",
    "WHERE MOD(ID,2) = 0"
   ]
  },
  {
   "cell_type": "code",
   "execution_count": null,
   "metadata": {
    "vscode": {
     "languageId": "sql"
    }
   },
   "outputs": [],
   "source": [
    "/* https://www.hackerrank.com/challenges/weather-observation-station-4/ */\n",
    "SELECT(\n",
    "    COUNT(CITY) - COUNT(DISTINCT CITY)\n",
    ") FROM STATION"
   ]
  },
  {
   "cell_type": "code",
   "execution_count": null,
   "metadata": {
    "vscode": {
     "languageId": "sql"
    }
   },
   "outputs": [],
   "source": [
    "/* https://www.hackerrank.com/challenges/weather-observation-station-5/ */\n",
    "SELECT CITY, LENGTH(CITY) FROM STATION ORDER BY LENGTH(CITY) DESC, CITY ASC LIMIT 1;\n",
    "SELECT CITY, LENGTH(CITY) FROM STATION ORDER BY LENGTH(CITY) ASC, CITY ASC LIMIT 1;"
   ]
  },
  {
   "cell_type": "code",
   "execution_count": null,
   "metadata": {
    "vscode": {
     "languageId": "sql"
    }
   },
   "outputs": [],
   "source": [
    "/* https://www.hackerrank.com/challenges/weather-observation-station-6/ */\n",
    "SELECT DISTINCT CITY FROM STATION\n",
    "WHERE CITY REGEXP '^(a|e|i|o|u)';"
   ]
  },
  {
   "cell_type": "code",
   "execution_count": null,
   "metadata": {
    "vscode": {
     "languageId": "sql"
    }
   },
   "outputs": [],
   "source": [
    "/* https://www.hackerrank.com/challenges/weather-observation-station-7/ */\n",
    "SELECT DISTINCT CITY FROM STATION\n",
    "WHERE CITY REGEXP '(a|e|i|o|u)$';"
   ]
  },
  {
   "cell_type": "code",
   "execution_count": null,
   "metadata": {
    "vscode": {
     "languageId": "sql"
    }
   },
   "outputs": [],
   "source": [
    "/* https://www.hackerrank.com/challenges/weather-observation-station-8/ */\n",
    "SELECT DISTINCT CITY FROM STATION\n",
    "WHERE CITY REGEXP '^(a|e|i|o|u)' AND\n",
    "CITY REGEXP '(a|e|i|o|u)$';"
   ]
  },
  {
   "cell_type": "code",
   "execution_count": null,
   "metadata": {
    "vscode": {
     "languageId": "sql"
    }
   },
   "outputs": [],
   "source": [
    "/* https://www.hackerrank.com/challenges/weather-observation-station-9/ */\n",
    "SELECT DISTINCT CITY FROM STATION\n",
    "WHERE NOT CITY REGEXP '^(a|e|i|o|u)';"
   ]
  },
  {
   "cell_type": "code",
   "execution_count": null,
   "metadata": {
    "vscode": {
     "languageId": "sql"
    }
   },
   "outputs": [],
   "source": [
    "/* https://www.hackerrank.com/challenges/weather-observation-station-10/ */\n",
    "SELECT DISTINCT CITY FROM STATION\n",
    "WHERE NOT CITY REGEXP '(a|e|i|o|u)$';"
   ]
  },
  {
   "cell_type": "code",
   "execution_count": null,
   "metadata": {
    "vscode": {
     "languageId": "sql"
    }
   },
   "outputs": [],
   "source": [
    "/* https://www.hackerrank.com/challenges/weather-observation-station-11/ */\n",
    "SELECT DISTINCT CITY FROM STATION\n",
    "WHERE NOT CITY REGEXP '^(a|e|i|o|u)' OR NOT\n",
    "CITY REGEXP '(a|e|i|o|u)$';"
   ]
  },
  {
   "cell_type": "code",
   "execution_count": null,
   "metadata": {
    "vscode": {
     "languageId": "sql"
    }
   },
   "outputs": [],
   "source": [
    "/* https://www.hackerrank.com/challenges/weather-observation-station-12/ */\n",
    "SELECT DISTINCT CITY FROM STATION\n",
    "WHERE NOT CITY REGEXP '^(a|e|i|o|u)' AND NOT\n",
    "CITY REGEXP '(a|e|i|o|u)$';"
   ]
  },
  {
   "cell_type": "code",
   "execution_count": null,
   "metadata": {
    "vscode": {
     "languageId": "sql"
    }
   },
   "outputs": [],
   "source": [
    "/* https://www.hackerrank.com/challenges/weather-observation-station-13/ */\n",
    "SELECT TRUNCATE(SUM(LAT_N), 4) FROM STATION\n",
    "WHERE LAT_N BETWEEN 38.7880 AND 137.2345;"
   ]
  },
  {
   "cell_type": "code",
   "execution_count": null,
   "metadata": {
    "vscode": {
     "languageId": "sql"
    }
   },
   "outputs": [],
   "source": [
    "/* https://www.hackerrank.com/challenges/weather-observation-station-14/ */\n",
    "SELECT TRUNCATE(MAX(LAT_N),4) FROM STATION\n",
    "WHERE LAT_N < 137.2345;"
   ]
  },
  {
   "cell_type": "code",
   "execution_count": null,
   "metadata": {
    "vscode": {
     "languageId": "sql"
    }
   },
   "outputs": [],
   "source": [
    "/* https://www.hackerrank.com/challenges/weather-observation-station-15/ */\n",
    "SELECT ROUND(LONG_W, 4) FROM STATION\n",
    "WHERE LAT_N = (SELECT MAX(LAT_N) FROM STATION WHERE LAT_N < 137.2345)"
   ]
  },
  {
   "cell_type": "code",
   "execution_count": null,
   "metadata": {
    "vscode": {
     "languageId": "sql"
    }
   },
   "outputs": [],
   "source": [
    "/* https://www.hackerrank.com/challenges/weather-observation-station-16/ */\n",
    "SELECT ROUND(MIN(LAT_N),4) FROM STATION\n",
    "WHERE LAT_N > 38.7780;"
   ]
  },
  {
   "cell_type": "code",
   "execution_count": null,
   "metadata": {
    "vscode": {
     "languageId": "sql"
    }
   },
   "outputs": [],
   "source": [
    "/* https://www.hackerrank.com/challenges/weather-observation-station-17/ */\n",
    "SELECT ROUND(LONG_W,4) FROM STATION\n",
    "WHERE LAT_N = (SELECT MIN(LAT_N) FROM STATION WHERE LAT_N > 38.7780);"
   ]
  },
  {
   "cell_type": "code",
   "execution_count": null,
   "metadata": {
    "vscode": {
     "languageId": "sql"
    }
   },
   "outputs": [],
   "source": [
    "/* https://www.hackerrank.com/challenges/weather-observation-station-18 */\n",
    "SELECT ROUND(\n",
    "    ABS(MAX(LAT_N) - MIN(LAT_N)) + \n",
    "    ABS(MAX(LONG_W) - MIN(LONG_W))\n",
    "    ,4) \n",
    "    FROM STATION;"
   ]
  },
  {
   "cell_type": "code",
   "execution_count": null,
   "metadata": {
    "vscode": {
     "languageId": "sql"
    }
   },
   "outputs": [],
   "source": [
    "/* https://www.hackerrank.com/challenges/weather-observation-station-19 */\n",
    "SELECT TRUNCATE(SQRT(\n",
    "    POWER((MAX(LAT_N) - MIN(LAT_N)),2) + \n",
    "    POWER((MAX(LONG_W) - MIN(LONG_W)),2)),4)\n",
    "FROM STATION;"
   ]
  },
  {
   "cell_type": "code",
   "execution_count": null,
   "metadata": {
    "vscode": {
     "languageId": "sql"
    }
   },
   "outputs": [],
   "source": [
    "/* https://www.hackerrank.com/challenges/more-than-75-marks/ */\n",
    "SELECT Name from STUDENTS\n",
    "WHERE Marks > 75\n",
    "ORDER BY SUBSTRING(Name, -3, 3) ASC,\n",
    "ID ASC;"
   ]
  },
  {
   "cell_type": "code",
   "execution_count": null,
   "metadata": {
    "vscode": {
     "languageId": "sql"
    }
   },
   "outputs": [],
   "source": [
    "/* https://www.hackerrank.com/challenges/name-of-employees/ */\n",
    "SELECT Name FROM Employee\n",
    "ORDER BY Name ASC;"
   ]
  },
  {
   "cell_type": "code",
   "execution_count": null,
   "metadata": {
    "vscode": {
     "languageId": "sql"
    }
   },
   "outputs": [],
   "source": [
    "/* https://www.hackerrank.com/challenges/salary-of-employees/ */\n",
    "SELECT name FROM Employee\n",
    "WHERE salary > 2000 AND\n",
    "months < 10\n",
    "ORDER BY employee_id ASC;"
   ]
  },
  {
   "cell_type": "code",
   "execution_count": null,
   "metadata": {
    "vscode": {
     "languageId": "sql"
    }
   },
   "outputs": [],
   "source": [
    "/* https://www.hackerrank.com/challenges/what-type-of-triangle/ */\n",
    "SELECT\n",
    "CASE\n",
    "    WHEN A + B <= C OR A + C <= B OR B + C <= A THEN 'Not A Triangle' \n",
    "    WHEN A = B AND B = C THEN \"Equilateral\"\n",
    "    WHEN A = B OR A = C OR B = C THEN \"Isosceles\"\n",
    "    ELSE \"Scalene\"\n",
    "END AS triangle_sides\n",
    "FROM TRIANGLES;"
   ]
  },
  {
   "cell_type": "code",
   "execution_count": null,
   "metadata": {
    "vscode": {
     "languageId": "sql"
    }
   },
   "outputs": [],
   "source": [
    "/* https://www.hackerrank.com/challenges/the-pads/ */\n",
    "SELECT CONCAT(Name, \"(\",SUBSTRING(Occupation, 1, 1),\")\") AS Namelist \n",
    "FROM OCCUPATIONS\n",
    "ORDER BY Namelist;\n",
    "\n",
    "SELECT\n",
    "CONCAT (\"There are a total of \",count(Occupation),\" \", LOWER(Occupation),\"s.\")\n",
    "FROM OCCUPATIONS\n",
    "GROUP BY Occupation\n",
    "ORDER BY count(Occupation), Occupation ASC;"
   ]
  },
  {
   "cell_type": "code",
   "execution_count": null,
   "metadata": {
    "vscode": {
     "languageId": "sql"
    }
   },
   "outputs": [],
   "source": [
    "/* https://www.hackerrank.com/challenges/occupations/ */\n",
    "/* \n",
    "Case này chia làm 3 phần:\n",
    "Phần 1: Tạo ra một bảng có cấu trúc là | Occupation | Name | Count number |\n",
    "---\n",
    "SELECT\n",
    "        Occupation,\n",
    "        Name,\n",
    "        ROW_NUMBER() OVER (PARTITION BY Occupation ORDER BY Name ASC) as NameOrder\n",
    "FROM Occupations\n",
    "---\n",
    "Trong đó có cấu trúc ROW_NUMBER() OVER (PARTITION BY <Feature> ORDER BY <Feature> ASC) as <Alias nào đó>\n",
    "======\n",
    "\n",
    "Phần 2: Tạo ra một bảng có cấu trúc là | STT | Doctor | Professor | Singer | Actor | từ bảng 1 ở trên. \n",
    "(???) Mình không hiểu phần này tại sao phải dùng MAX?\n",
    "---\n",
    "SELECT\n",
    "        NameOrder,\n",
    "        MAX(CASE Occupation WHEN 'Doctor' THEN Name END) AS Doctor,\n",
    "        MAX(CASE Occupation WHEN 'Professor' THEN Name END) AS Professor,\n",
    "        MAX(CASE Occupation WHEN 'Singer' THEN Name END) AS Singer,\n",
    "        MAX(CASE Occupation WHEN 'Actor' THEN Name END) AS Actor\n",
    "    FROM(Bảng 1) AS NameLists GROUP BY NameOrder\n",
    "---\n",
    "======\n",
    "\n",
    "Phần 3: Lựa từ cái bảng phần 2 4 cột sau thôi và bỏ cột đầu\n",
    "---\n",
    "SELECT\n",
    "    Doctor,\n",
    "    Professor,\n",
    "    Singer,\n",
    "    Actor\n",
    "FROM() AS Names\n",
    "----\n",
    "*/ \n",
    "\n",
    "SELECT\n",
    "    Doctor,\n",
    "    Professor,\n",
    "    Singer,\n",
    "    Actor\n",
    "FROM(\n",
    "    SELECT\n",
    "        NameOrder,\n",
    "        MAX(CASE Occupation WHEN 'Doctor' THEN Name END) AS Doctor,\n",
    "        MAX(CASE Occupation WHEN 'Professor' THEN Name END) AS Professor,\n",
    "        MAX(CASE Occupation WHEN 'Singer' THEN Name END) AS Singer,\n",
    "        MAX(CASE Occupation WHEN 'Actor' THEN Name END) AS Actor\n",
    "    FROM(\n",
    "        SELECT\n",
    "            Occupation,\n",
    "            Name,\n",
    "            ROW_NUMBER() OVER (PARTITION BY Occupation ORDER BY Name ASC) as NameOrder\n",
    "        FROM Occupations\n",
    "    )AS NameLists GROUP BY NameOrder\n",
    ")AS Names"
   ]
  },
  {
   "cell_type": "code",
   "execution_count": null,
   "metadata": {
    "vscode": {
     "languageId": "sql"
    }
   },
   "outputs": [],
   "source": [
    "/* https://www.hackerrank.com/challenges/binary-search-tree-1/ */\n",
    "/*\n",
    "1. SQL EXISTS: \n",
    "    - Dùng để check existence của record nào đó trong sub query\n",
    "    - Return TRUE nếu có 1 hoặc nhiều hơn 1 RECORDS\n",
    "    - Syntax: WHERE EXISTS (SELECT column_name FROM table_name WHERE condition);\n",
    "\n",
    "2. This query use 2 aliases for the same table (BST). Because the BST table is used for different purposes,\n",
    "two different aliases are used to distinguish between them.\n",
    "\n",
    "3. SELECT CLAUSE: \n",
    "SELECT BST.P FROM BST \n",
    "= SELECT P FROM BST\n",
    "= SELECT B.P FROM BST B\n",
    "*/\n",
    "SELECT BT.N,\n",
    "CASE\n",
    "    WHEN BT.P IS NULL THEN 'Root'\n",
    "    WHEN EXISTS (SELECT B.P FROM BST B WHERE B.P = BT.N) THEN 'Inner'     \n",
    "    ELSE 'Leaf'\n",
    "END\n",
    "FROM BST AS BT\n",
    "ORDER BY BT.N"
   ]
  },
  {
   "cell_type": "code",
   "execution_count": null,
   "metadata": {
    "vscode": {
     "languageId": "sql"
    }
   },
   "outputs": [],
   "source": [
    "/* https://www.hackerrank.com/challenges/the-company/ \n",
    "Reference: https://github.com/Thomas-George-T/HackerRank-SQL-Challenges-Solutions\n",
    "\n",
    "The requirement of the exercise is clear:\n",
    "Select company_code, founder, total count of [lead managers, senior managers, managers, employees]\n",
    "Ordered by ASC\n",
    "Pay attention to duplicates\n",
    "\n",
    "\n",
    "#### 1. SELECT company_code, founder: I started with basic SELECT first:\n",
    "```SQL\n",
    "SELECT c.company_code, c.founder\n",
    "FROM Company c\n",
    "```\n",
    "#### 2. SELECT total count of lead managers, pay attention to duplicates with: \n",
    "Although I don't understand why it throw an error if you don't put GROUP BY in. <br>\n",
    "My guess is that if you only throw COUNT(DISTINCT lm.lead_manager_code) without GROUP BY. It would just count all distinct values and return only 1 value - the count, which is 100. It would cause error because the index difference. <br><br>\n",
    "Because the index is company_code, I need to set GROUP BY so that it count by each groups.\n",
    "I also ensure that it only count where company code of each table matches.\n",
    "\n",
    "```SQL\n",
    "SELECT c.company_code, c.founder,\n",
    "COUNT(DISTINCT lm.lead_manager_code)\n",
    "\n",
    "FROM Company c, Lead_Manager lm\n",
    "\n",
    "WHERE c.company_code = lm.company_code\n",
    "\n",
    "GROUP BY c.company_code, c.founder\n",
    "ORDER BY c.company_code ASC\n",
    "```\n",
    "#### 3. Apply the same for the rest, only count when company_code matches\n",
    "```SQL\n",
    "SELECT c.company_code, c.founder,\n",
    "COUNT(DISTINCT lm.lead_manager_code),\n",
    "COUNT(DISTINCT sm.senior_manager_code),\n",
    "COUNT(DISTINCT m.manager_code),\n",
    "COUNT(DISTINCT e.employee_code)\n",
    "FROM Company c, Lead_Manager lm, Senior_Manager sm, Manager m, Employee e\n",
    "\n",
    "WHERE c.company_code = lm.company_code AND\n",
    "c.company_code = sm.company_code AND\n",
    "c.company_code = m.company_code AND\n",
    "c.company_code = e.company_code\n",
    "\n",
    "GROUP BY c.company_code, c.founder\n",
    "ORDER BY c.company_code ASC\n",
    "```\n",
    "*/\n",
    "SELECT c.company_code, c.founder,\n",
    "COUNT(DISTINCT lm.lead_manager_code),\n",
    "COUNT(DISTINCT sm.senior_manager_code),\n",
    "COUNT(DISTINCT m.manager_code),\n",
    "COUNT(DISTINCT e.employee_code)\n",
    "FROM Company c, Lead_Manager lm, Senior_Manager sm, Manager m, Employee e\n",
    "\n",
    "WHERE c.company_code = lm.company_code AND\n",
    "c.company_code = sm.company_code AND\n",
    "c.company_code = m.company_code AND\n",
    "c.company_code = e.company_code\n",
    "\n",
    "GROUP BY c.company_code, c.founder\n",
    "ORDER BY c.company_code ASC"
   ]
  },
  {
   "cell_type": "code",
   "execution_count": null,
   "metadata": {
    "vscode": {
     "languageId": "sql"
    }
   },
   "outputs": [],
   "source": [
    "/* https://www.hackerrank.com/challenges/revising-aggregations-the-average-function/ */\n",
    "SELECT AVG(POPULATION) FROM CITY\n",
    "WHERE DISTRICT = \"California\""
   ]
  },
  {
   "cell_type": "code",
   "execution_count": null,
   "metadata": {
    "vscode": {
     "languageId": "sql"
    }
   },
   "outputs": [],
   "source": [
    "/* https://www.hackerrank.com/challenges/average-population */\n",
    "SELECT ROUND(AVG(POPULATION)) FROM CITY"
   ]
  },
  {
   "cell_type": "code",
   "execution_count": null,
   "metadata": {
    "vscode": {
     "languageId": "sql"
    }
   },
   "outputs": [],
   "source": [
    "/* https://www.hackerrank.com/challenges/japan-population */\n",
    "SELECT SUM(POPULATION) FROM CITY\n",
    "WHERE COUNTRYCODE = \"JPN\";"
   ]
  },
  {
   "cell_type": "code",
   "execution_count": null,
   "metadata": {
    "vscode": {
     "languageId": "sql"
    }
   },
   "outputs": [],
   "source": [
    "/* https://www.hackerrank.com/challenges/population-density-difference/problem */\n",
    "SELECT (MAX(POPULATION) - MIN(POPULATION)) FROM CITY"
   ]
  },
  {
   "cell_type": "code",
   "execution_count": null,
   "metadata": {
    "vscode": {
     "languageId": "sql"
    }
   },
   "outputs": [],
   "source": [
    "/* https://www.hackerrank.com/challenges/the-blunder */\n",
    "SELECT CEIL(AVG(Salary)-AVG(REPLACE(Salary,'0','')))\n",
    "FROM EMPLOYEES"
   ]
  },
  {
   "cell_type": "code",
   "execution_count": null,
   "metadata": {
    "vscode": {
     "languageId": "sql"
    }
   },
   "outputs": [],
   "source": [
    "/* https://www.hackerrank.com/challenges/weather-observation-station-20/problem */\n",
    "SELECT ROUND(st.LAT_N, 4)\n",
    "FROM STATION AS st\n",
    "WHERE (SELECT COUNT(LAT_N) FROM STATION WHERE LAT_N < st.LAT_N) = (SELECT COUNT(LAT_N) FROM STATION WHERE LAT_N > st.LAT_N);"
   ]
  },
  {
   "cell_type": "code",
   "execution_count": null,
   "metadata": {
    "vscode": {
     "languageId": "sql"
    }
   },
   "outputs": [],
   "source": [
    "/* https://www.hackerrank.com/challenges/revising-aggregations-sum/ */\n",
    "SELECT SUM(POPULATION)\n",
    "FROM CITY\n",
    "WHERE DISTRICT = \"California\""
   ]
  },
  {
   "cell_type": "code",
   "execution_count": null,
   "metadata": {
    "vscode": {
     "languageId": "sql"
    }
   },
   "outputs": [],
   "source": [
    "/* https://www.hackerrank.com/challenges/revising-aggregations-the-count-function/problem */\n",
    "SELECT COUNT(NAME)\n",
    "FROM CITY\n",
    "WHERE POPULATION > 100000"
   ]
  },
  {
   "cell_type": "code",
   "execution_count": null,
   "metadata": {
    "vscode": {
     "languageId": "sql"
    }
   },
   "outputs": [],
   "source": [
    "/* https://www.hackerrank.com/challenges/african-cities */\n",
    "SELECT CITY.NAME FROM CITY \n",
    "INNER JOIN COUNTRY ON CITY.COUNTRYCODE = COUNTRY.CODE \n",
    "WHERE COUNTRY.CONTINENT = 'Africa';"
   ]
  },
  {
   "cell_type": "code",
   "execution_count": null,
   "metadata": {
    "vscode": {
     "languageId": "sql"
    }
   },
   "outputs": [],
   "source": [
    "/* https://www.hackerrank.com/challenges/average-population-of-each-continent */\n",
    "SELECT COUNTRY.CONTINENT,\n",
    "FLOOR(AVG(CITY.POPULATION)) FROM CITY\n",
    "INNER JOIN COUNTRY ON CITY.COUNTRYCODE = COUNTRY.CODE \n",
    "GROUP BY COUNTRY.CONTINENT"
   ]
  },
  {
   "cell_type": "code",
   "execution_count": null,
   "metadata": {
    "vscode": {
     "languageId": "sql"
    }
   },
   "outputs": [],
   "source": [
    "/* https://www.hackerrank.com/challenges/the-report/problem */\n",
    "/* Reference: https://github.com/Thomas-George-T/HackerRank-SQL-Challenges-Solutions */\n",
    "SELECT CASE\n",
    "         WHEN G.grade > 7 THEN S.name\n",
    "         ELSE NULL\n",
    "       end AS names,\n",
    "       G.grade,\n",
    "       S.marks\n",
    "FROM   students S\n",
    "       JOIN grades G\n",
    "         ON S.marks BETWEEN G.min_mark AND G.max_mark\n",
    "ORDER  BY G.grade DESC,\n",
    "          names ASC,\n",
    "          S.marks ASC; "
   ]
  },
  {
   "cell_type": "code",
   "execution_count": null,
   "metadata": {
    "vscode": {
     "languageId": "sql"
    }
   },
   "outputs": [],
   "source": [
    "/* https://www.hackerrank.com/challenges/full-score */\n",
    "/* Reference: https://github.com/Thomas-George-T/HackerRank-SQL-Challenges-Solutions */\n",
    "SELECT H.hacker_id, \n",
    "       H.name \n",
    "FROM   submissions S \n",
    "       JOIN challenges C \n",
    "         ON S.challenge_id = C.challenge_id \n",
    "       JOIN difficulty D \n",
    "         ON C.difficulty_level = D.difficulty_level \n",
    "       JOIN hackers H \n",
    "         ON S.hacker_id = H.hacker_id \n",
    "            AND S.score = D.score \n",
    "GROUP  BY H.hacker_id, \n",
    "          H.name \n",
    "HAVING Count(S.hacker_id) > 1 \n",
    "ORDER  BY Count(S.hacker_id) DESC, \n",
    "          S.hacker_id ASC; "
   ]
  },
  {
   "cell_type": "code",
   "execution_count": null,
   "metadata": {
    "vscode": {
     "languageId": "sql"
    }
   },
   "outputs": [],
   "source": [
    "/* https://www.hackerrank.com/challenges/harry-potter-and-wands/problem */\n",
    "/* Reference: https://github.com/Thomas-George-T/HackerRank-SQL-Challenges-Solutions */\n",
    "SELECT a.id, \n",
    "       b.age, \n",
    "       a.coins_needed, \n",
    "       a.power \n",
    "FROM   wands a \n",
    "       JOIN wands_property b \n",
    "         ON a.code = b.code \n",
    "WHERE  b.is_evil = 0 \n",
    "       AND a.coins_needed = (SELECT Min(a1.coins_needed) \n",
    "                             FROM   wands a1 \n",
    "                                    JOIN wands_property b1 \n",
    "                                      ON a1.code = b1.code \n",
    "                             WHERE  b.age = b1.age \n",
    "                                    AND a.power = a1.power) \n",
    "ORDER  BY a.power DESC, \n",
    "          b.age DESC; "
   ]
  },
  {
   "cell_type": "code",
   "execution_count": null,
   "metadata": {
    "vscode": {
     "languageId": "sql"
    }
   },
   "outputs": [],
   "source": [
    "/* https://www.hackerrank.com/challenges/challenges/problem */\n",
    "/* Reference: https://github.com/Thomas-George-T/HackerRank-SQL-Challenges-Solutions */\n",
    "select H.hacker_id, H.name, count(C.challenge_id) as total_count\n",
    "from Hackers H join Challenges C\n",
    "on H.hacker_id = C.hacker_id\n",
    "group by H.hacker_id, H.name\n",
    "having total_count = \n",
    "(\n",
    "select count(temp1.challenge_id) as max_count\n",
    "    from challenges temp1\n",
    "    group by temp1.hacker_id\n",
    "    order by max_count desc\n",
    "    limit 1\n",
    ")\n",
    "or total_count in\n",
    "(\n",
    "    select distinct other_counts from (\n",
    "select H2.hacker_id, H2.name, count(C2.challenge_id) as other_counts\n",
    "from Hackers H2 join Challenges C2\n",
    "on H2.hacker_id = C2.hacker_id\n",
    "group by H2.hacker_id, H2.name\n",
    ") temp2\n",
    "    group by other_counts\n",
    "having count(other_counts) =1)\n",
    "order by total_count desc, H.hacker_id"
   ]
  },
  {
   "cell_type": "code",
   "execution_count": null,
   "metadata": {
    "vscode": {
     "languageId": "sql"
    }
   },
   "outputs": [],
   "source": [
    "/* https://www.hackerrank.com/challenges/contest-leaderboard/problem */\n",
    "/* Reference: https://github.com/Thomas-George-T/HackerRank-SQL-Challenges-Solutions */\n",
    "SELECT h.hacker_id, h.name, SUM(MAX_SCORE.t1) as total_score\n",
    "FROM Hackers h inner join \n",
    "(\n",
    "    SELECT MAX(s.score) as t1, s.hacker_id  \n",
    "    FROM Submissions s\n",
    "    GROUP BY s.challenge_id, s.hacker_id\n",
    "    HAVING t1 > 0\n",
    ") AS MAX_SCORE\n",
    "ON h.hacker_id = MAX_SCORE.hacker_id\n",
    "GROUP BY h.hacker_id, h.name\n",
    "ORDER BY total_score DESC, hacker_id ASC"
   ]
  },
  {
   "cell_type": "code",
   "execution_count": null,
   "metadata": {
    "vscode": {
     "languageId": "sql"
    }
   },
   "outputs": [],
   "source": [
    "/* https://www.hackerrank.com/challenges/asian-population/problem */\n",
    "SELECT SUM(CITY.POPULATION) FROM CITY\n",
    "INNER JOIN COUNTRY ON CITY.COUNTRYCODE = COUNTRY.CODE \n",
    "WHERE COUNTRY.CONTINENT = \"Asia\""
   ]
  },
  {
   "cell_type": "code",
   "execution_count": null,
   "metadata": {
    "vscode": {
     "languageId": "sql"
    }
   },
   "outputs": [],
   "source": [
    "/* https://www.hackerrank.com/challenges/sql-projects/problem */\n",
    "/* Reference: https://github.com/Thomas-George-T/HackerRank-SQL-Challenges-Solutions */\n",
    "SELECT s.Proj_Start_Date, min(e.Proj_End_Date) as Real_Proj_End_Date \n",
    "FROM\n",
    "(SELECT Start_Date as Proj_Start_Date FROM Projects WHERE Start_Date NOT IN (SELECT End_Date FROM Projects)) s,\n",
    "(SELECT End_Date as Proj_End_Date FROM Projects WHERE End_Date NOT IN (SELECT Start_Date FROM Projects)) e\n",
    "WHERE s.Proj_Start_Date < e.Proj_End_Date\n",
    "GROUP BY s.Proj_Start_Date\n",
    "ORDER BY DATEDIFF(min(e.Proj_End_Date), s.Proj_Start_Date) ASC, s.Proj_Start_Date ASC;"
   ]
  },
  {
   "cell_type": "code",
   "execution_count": null,
   "metadata": {
    "vscode": {
     "languageId": "sql"
    }
   },
   "outputs": [],
   "source": [
    "/* https://www.hackerrank.com/challenges/placements/problem */\n",
    "/* Reference: https://github.com/Thomas-George-T/HackerRank-SQL-Challenges-Solutions */\n",
    "Select S.Name\n",
    "from Students S inner join Friends f\n",
    "on S.ID = f.ID\n",
    "inner join Packages p\n",
    "on f.ID = p.ID\n",
    "inner join Packages fp\n",
    "on f.Friend_ID = fp.ID\n",
    "where fp.Salary > p.Salary\n",
    "order by fp.Salary;"
   ]
  },
  {
   "cell_type": "code",
   "execution_count": null,
   "metadata": {
    "vscode": {
     "languageId": "sql"
    }
   },
   "outputs": [],
   "source": [
    "/* https://www.hackerrank.com/challenges/symmetric-pairs/problem */\n",
    "/* Reference: https://github.com/Thomas-George-T/HackerRank-SQL-Challenges-Solutions */\n",
    "SELECT X, Y FROM FUNCTIONS F1\n",
    "    WHERE EXISTS(SELECT * FROM FUNCTIONS F2 WHERE F2.Y = F1.X\n",
    "    AND F2.X = F1.Y AND F2.X > F1.X) AND (X != Y)\n",
    "UNION\n",
    "SELECT X,Y FROM FUNCTIONS F1 WHERE X = Y AND \n",
    "    ((SELECT COUNT(*) FROM FUNCTIONS WHERE X = F1.X AND Y = F1.X) > 1)\n",
    "      ORDER BY X;"
   ]
  },
  {
   "cell_type": "code",
   "execution_count": null,
   "metadata": {
    "vscode": {
     "languageId": "sql"
    }
   },
   "outputs": [],
   "source": [
    "/* https://www.hackerrank.com/challenges/draw-the-triangle-1 */\n",
    "/* Reference: https://github.com/Thomas-George-T/HackerRank-SQL-Challenges-Solutions */\n",
    "SET @TEMP:=21; \n",
    "SELECT REPEAT('* ', @TEMP:= @TEMP - 1) \n",
    "FROM INFORMATION_SCHEMA.TABLES;"
   ]
  },
  {
   "cell_type": "code",
   "execution_count": null,
   "metadata": {
    "vscode": {
     "languageId": "sql"
    }
   },
   "outputs": [],
   "source": [
    "/* https://www.hackerrank.com/challenges/draw-the-triangle-2/problem */\n",
    "/* Reference: https://github.com/Thomas-George-T/HackerRank-SQL-Challenges-Solutions */\n",
    "SET @TEMP:=0; \n",
    "SELECT REPEAT('* ', @TEMP:= @TEMP + 1) \n",
    "FROM INFORMATION_SCHEMA.TABLES\n",
    "WHERE @TEMP < 20;"
   ]
  },
  {
   "cell_type": "code",
   "execution_count": null,
   "metadata": {
    "vscode": {
     "languageId": "sql"
    }
   },
   "outputs": [],
   "source": [
    "/* https://www.hackerrank.com/challenges/print-prime-numbers/problem */\n",
    "/* Reference: https://github.com/Thomas-George-T/HackerRank-SQL-Challenges-Solutions */\n",
    "/*\n",
    "Working Platform:- Oracle\n",
    "*/\n",
    "SET SERVEROUTPUT ON;\n",
    "DECLARE\n",
    "    COUNTER NUMBER;\n",
    "    K NUMBER;\n",
    "    RESULT CLOB;\n",
    "BEGIN\n",
    "    RESULT := '';\n",
    "    FOR N IN 2..1000 LOOP\n",
    "    COUNTER := 0;\n",
    "    K := FLOOR(N/2);\n",
    "    FOR i IN 2..K LOOP\n",
    "        IF(MOD(N,i)=0) THEN\n",
    "          COUNTER :=1;\n",
    "        END IF;\n",
    "    END LOOP;\n",
    "    IF (COUNTER = 0) THEN\n",
    "       RESULT := RESULT||N||'&';\n",
    "    END IF;\n",
    "    END LOOP;\n",
    "    DBMS_OUTPUT.PUT_LINE(SUBSTR(RESULT,0,length(RESULT)-1));\n",
    "END;\n",
    "/"
   ]
  },
  {
   "cell_type": "code",
   "execution_count": null,
   "metadata": {
    "vscode": {
     "languageId": "sql"
    }
   },
   "outputs": [],
   "source": [
    "/* https://www.hackerrank.com/challenges/15-days-of-learning-sql */\n",
    "/* Reference: https://github.com/Thomas-George-T/HackerRank-SQL-Challenges-Solutions */\n",
    "/*\n",
    "Working Platform:- MySQL\n",
    "*/\n",
    "SELECT SUBMISSION_DATE,\n",
    "(SELECT COUNT(DISTINCT HACKER_ID)  \n",
    " FROM SUBMISSIONS S2  \n",
    " WHERE S2.SUBMISSION_DATE = S1.SUBMISSION_DATE AND    \n",
    "(SELECT COUNT(DISTINCT S3.SUBMISSION_DATE) \n",
    " FROM SUBMISSIONS S3 WHERE S3.HACKER_ID = S2.HACKER_ID AND S3.SUBMISSION_DATE < S1.SUBMISSION_DATE) = DATEDIFF(S1.SUBMISSION_DATE , '2016-03-01')),\n",
    "(SELECT HACKER_ID FROM SUBMISSIONS S2 WHERE S2.SUBMISSION_DATE = S1.SUBMISSION_DATE \n",
    "GROUP BY HACKER_ID ORDER BY COUNT(SUBMISSION_ID) DESC, HACKER_ID LIMIT 1) AS TMP,\n",
    "(SELECT NAME FROM HACKERS WHERE HACKER_ID = TMP)\n",
    "FROM\n",
    "(SELECT DISTINCT SUBMISSION_DATE FROM SUBMISSIONS) S1\n",
    "GROUP BY SUBMISSION_DATE;"
   ]
  },
  {
   "cell_type": "code",
   "execution_count": null,
   "metadata": {
    "vscode": {
     "languageId": "sql"
    }
   },
   "outputs": [],
   "source": [
    "/* https://www.hackerrank.com/challenges/interviews/problem */\n",
    "/* Reference: https://github.com/Thomas-George-T/HackerRank-SQL-Challenges-Solutions */\n",
    "/*\n",
    "Working Platform:- MySQL\n",
    "*/\n",
    "SELECT A.CONTEST_ID, A.HACKER_ID, A.NAME, \n",
    "        SUM(TOTAL_SUBMISSIONS) AS TOTAL_SUBMISSIONS, \n",
    "        SUM(TOTAL_ACCEPTED_SUBMISSIONS) AS TOTAL_ACCEPTED_SUBMISSIONS,\n",
    "        SUM(TOTAL_VIEWS) AS TOTAL_VIEWS,\n",
    "        SUM(TOTAL_UNIQUE_VIEWS) AS TOTAL_UNIQUE_VIEWS\n",
    "FROM CONTESTS AS A\n",
    "LEFT JOIN COLLEGES AS B\n",
    "    ON A.CONTEST_ID = B.CONTEST_ID\n",
    "LEFT JOIN CHALLENGES AS C\n",
    "    ON B.COLLEGE_ID = C.COLLEGE_ID \n",
    "LEFT JOIN (SELECT CHALLENGE_ID, SUM(TOTAL_VIEWS) AS TOTAL_VIEWS, \n",
    "                  SUM(TOTAL_UNIQUE_VIEWS) AS TOTAL_UNIQUE_VIEWS\n",
    "           FROM VIEW_STATS\n",
    "           GROUP BY CHALLENGE_ID) AS D \n",
    "    ON C.CHALLENGE_ID = D.CHALLENGE_ID \n",
    "LEFT JOIN (SELECT CHALLENGE_ID, SUM(TOTAL_SUBMISSIONS) AS TOTAL_SUBMISSIONS, \n",
    "                  SUM(TOTAL_ACCEPTED_SUBMISSIONS) AS TOTAL_ACCEPTED_SUBMISSIONS\n",
    "           FROM SUBMISSION_STATS\n",
    "           GROUP BY CHALLENGE_ID) AS E\n",
    "    ON C.CHALLENGE_ID = E.CHALLENGE_ID\n",
    "GROUP BY A.CONTEST_ID, A.HACKER_ID, A.NAME\n",
    "HAVING (TOTAL_SUBMISSIONS + TOTAL_ACCEPTED_SUBMISSIONS + TOTAL_VIEWS + TOTAL_UNIQUE_VIEWS) > 0 \n",
    "ORDER BY A.CONTEST_ID;"
   ]
  }
 ],
 "metadata": {
  "kernelspec": {
   "display_name": "Python 3.9.7 64-bit",
   "language": "python",
   "name": "python3"
  },
  "language_info": {
   "name": "python",
   "version": "3.9.7"
  },
  "orig_nbformat": 4,
  "vscode": {
   "interpreter": {
    "hash": "83b2b2feee775ae9ccfd3a6435747a31e39be3240a215995d0e72c1aeb78c3d6"
   }
  }
 },
 "nbformat": 4,
 "nbformat_minor": 2
}
