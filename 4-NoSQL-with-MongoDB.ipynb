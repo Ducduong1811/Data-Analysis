{
 "cells": [
  {
   "cell_type": "markdown",
   "metadata": {},
   "source": [
    "# Introduction\n",
    "This notebook is to showcase some basic MongoDB queries."
   ]
  },
  {
   "cell_type": "markdown",
   "metadata": {},
   "source": [
    "# 1. Basic setup"
   ]
  },
  {
   "cell_type": "code",
   "execution_count": null,
   "metadata": {},
   "outputs": [],
   "source": [
    "# Import libraries\n",
    "from pprint import PrettyPrinter\n",
    "\n",
    "import pandas as pd\n",
    "from pymongo import MongoClient\n",
    "import pymongo"
   ]
  },
  {
   "cell_type": "code",
   "execution_count": null,
   "metadata": {},
   "outputs": [],
   "source": [
    "# Set up client to use MongoDB Atlas\n",
    "client = MongoClient(\"mongodb+srv://<username>:<password>@cluster0.at2qasm.mongodb.net/?retryWrites=true&w=majority\")"
   ]
  },
  {
   "cell_type": "code",
   "execution_count": null,
   "metadata": {},
   "outputs": [],
   "source": [
    "pp = PrettyPrinter(indent=2)\n",
    "pp.pprint(list(client.list_databases()))"
   ]
  },
  {
   "cell_type": "code",
   "execution_count": null,
   "metadata": {},
   "outputs": [],
   "source": [
    "# Assign database Sample Restaurants to db\n",
    "db = client[\"sample_restaurants\"]"
   ]
  },
  {
   "cell_type": "code",
   "execution_count": null,
   "metadata": {},
   "outputs": [],
   "source": [
    "# Print list of collections in database\n",
    "for c in db.list_collections():\n",
    "    print(c[\"name\"])"
   ]
  },
  {
   "cell_type": "code",
   "execution_count": null,
   "metadata": {},
   "outputs": [],
   "source": [
    "# Assign collection \"restaurant\" to collection\n",
    "collection = db[\"restaurants\"]"
   ]
  },
  {
   "cell_type": "code",
   "execution_count": null,
   "metadata": {},
   "outputs": [],
   "source": [
    "# Count number of documents within collection\n",
    "collection.count_documents({})"
   ]
  },
  {
   "cell_type": "code",
   "execution_count": null,
   "metadata": {},
   "outputs": [],
   "source": [
    "# Print the first document\n",
    "result = collection.find_one({})\n",
    "pp.pprint(result)"
   ]
  },
  {
   "cell_type": "code",
   "execution_count": null,
   "metadata": {},
   "outputs": [],
   "source": [
    "# 1. Find all documents, but only show some of the key values\n",
    "result = collection.find({},\n",
    "    projection={\"restaurant_id\" : 1,\"name\":1,\"borough\":1,\"cuisine\" :1, \"_id\":0}\n",
    ")\n",
    "pp.pprint(list(result))\n"
   ]
  },
  {
   "cell_type": "markdown",
   "metadata": {},
   "source": [
    "# Find and Aggregate\n",
    "\n",
    "According to some articles, the differences between \\$find and \\$aggregate are:\n",
    "- \\$find takes less time to process than \\$aggregate\n",
    "- However, $aggregate works like a pipeline, through different stages, and allow more advanced queries\n",
    "\n",
    "It seems aggregate is more recommended for most works\n",
    "\n",
    "More on this in:\n",
    "- https://studio3t.com/knowledge-base/articles/mongodb-aggregation-framework/\n",
    "- https://www.digitalocean.com/community/tutorials/how-to-use-aggregations-in-mongodb"
   ]
  },
  {
   "cell_type": "code",
   "execution_count": null,
   "metadata": {},
   "outputs": [],
   "source": [
    "# 2. Write a MongoDB query to find the restaurants which have score between 30 and 39\n",
    "# in Bronx and serve Pizza\n",
    "\n",
    "result = collection.aggregate([\n",
    "    {\"$match\":{\"grades\": {\"$elemMatch\":{\"score\":{\"$gt\":30 , \"$lt\":39}}}, \"borough\": \"Bronx\", \"cuisine\": \"Pizza\"}},\n",
    "    {\"$project\":{\"restaurant_id\" : 1,\"name\":1,\"borough\":1,\"cuisine\" :1, \"_id\":0}}\n",
    "])\n",
    "pp.pprint(list(result))"
   ]
  },
  {
   "cell_type": "code",
   "execution_count": null,
   "metadata": {},
   "outputs": [],
   "source": [
    "# 3. Write a MongoDB query to find the restaurants which do not prepare any cuisine of 'American' \n",
    "# and achieved a score more than 70 and located in the longitude less than -65.754168.\n",
    "result = collection.aggregate([\n",
    "    {\"$match\":\n",
    "        {\n",
    "            \"cuisine\": {\"$ne\" :\"American\"}, \n",
    "            \"grades.score\": {\"$gt\": 70}, \n",
    "            \"address.coord\": {\"$lt\": -65.754168}\n",
    "        }\n",
    "    },\n",
    "    {\"$project\":{\"restaurant_id\" : 1,\"name\":1,\"borough\":1,\"cuisine\" :1, \"_id\":0, \"grades\":1}},\n",
    "])\n",
    "pp.pprint(list(result))\n",
    "\n",
    "# df= pd.DataFrame(result).set_index(\"name\")\n",
    "# df"
   ]
  },
  {
   "cell_type": "code",
   "execution_count": null,
   "metadata": {},
   "outputs": [],
   "source": [
    "# 4. Write a MongoDB query to find the restaurants which do not prepare any cuisine of 'American ' \n",
    "# and achieved a grade point 'A' not belongs to the borough Brooklyn. \n",
    "# The document must be displayed according to the cuisine in descending order\n",
    "result = collection.aggregate([\n",
    "    {\"$match\":\n",
    "        {\n",
    "            \"cuisine\": {\"$ne\" :\"American\"}, \n",
    "            \"grades.grade\": \"A\",\n",
    "            \"borough\": {\"$not\":{\"$eq\":\"Brooklyn\"}}\n",
    "        }\n",
    "    },\n",
    "    {\"$project\":{\"restaurant_id\" : 1,\"name\":1,\"borough\":1,\"cuisine\" :1,\"grades.grade\":1, \"_id\":0}},\n",
    "    {\"$sort\" : {\"cuisine\": 1}}\n",
    "])\n",
    "\n",
    "# pp.pprint(list(result))\n",
    "df= pd.DataFrame(result).set_index(\"cuisine\")\n",
    "df"
   ]
  },
  {
   "cell_type": "markdown",
   "metadata": {},
   "source": [
    "# $regex\n",
    "\n",
    "\\$regex is a function for text-search\n",
    "\n",
    "There are 3 types of syntax, however, my recommendation is: <br>\n",
    "`{ <field>: { $regex: 'pattern', $options: '<options>' } }` <br>\n",
    "\n",
    "For example:<br>\n",
    "`{\"name\": {\"\\$regex\": \"^Wil\", \"$options\": \"i\"}}`\n",
    "\n",
    "[Parameters of $option](https://www.mongodb.com/docs/manual/reference/operator/query/regex/#mongodb-query-op.-options)\n",
    "\n",
    "A few characters and their meaning:\n",
    "- \"^Wil\": \"Wil\" that at the beginning of the text\n",
    "- \"Wil$\": \"Wil\" that at the end of the text"
   ]
  },
  {
   "cell_type": "code",
   "execution_count": null,
   "metadata": {},
   "outputs": [],
   "source": [
    "# 5. Write a MongoDB query to find the restaurant Id, name, borough and cuisine for those restaurants \n",
    "# which contain 'Wil' as first three letters for its name.\n",
    "# Reference: https://www.mongodb.com/docs/manual/reference/operator/query/regex/#mongodb-query-op.-regex\n",
    "result = collection.aggregate([\n",
    "    {\"$match\":{\"name\": { \"$regex\": \"^Wil\"}}},\n",
    "    {\"$project\":{\"restaurant_id\" : 1,\"name\":1,\"borough\":1,\"cuisine\" :1, \"_id\":0}}\n",
    "])\n",
    "\n",
    "# pp.pprint(list(result))\n",
    "df= pd.DataFrame(result).set_index(\"name\")\n",
    "df"
   ]
  },
  {
   "cell_type": "code",
   "execution_count": null,
   "metadata": {},
   "outputs": [],
   "source": [
    "# 6. Write a MongoDB query to find the restaurant Id, name, borough and cuisine for those restaurants \n",
    "# which contain 'ces' as last three letters for its name.\n",
    "\n",
    "result = collection.aggregate([\n",
    "    {\"$match\":{\"name\": {\"$regex\": \"ces$\"}}},\n",
    "    {\"$project\":{\"restaurant_id\" : 1,\"name\":1,\"borough\":1,\"cuisine\" :1, \"_id\":0}}\n",
    "])\n",
    "\n",
    "# pp.pprint(list(result))\n",
    "df= pd.DataFrame(result).set_index(\"name\")\n",
    "df"
   ]
  },
  {
   "cell_type": "code",
   "execution_count": null,
   "metadata": {},
   "outputs": [],
   "source": [
    "# 7. Write a MongoDB query to find the restaurant Id, name, borough and cuisine for those restaurants \n",
    "# which contain 'Reg' as three letters somewhere in its name.\n",
    "result = collection.aggregate([\n",
    "    {\"$match\":{\"name\": { \"$regex\": \"Reg\"}}}, # You can write as <\"$regex\": \"Reg\", \"$options\": 'i'> so not case sensitive\n",
    "    {\"$project\":{\"restaurant_id\" : 1,\"name\":1,\"borough\":1,\"cuisine\" :1, \"_id\":0}}\n",
    "])\n",
    "\n",
    "# pp.pprint(list(result))\n",
    "df= pd.DataFrame(result).set_index(\"name\")\n",
    "df"
   ]
  },
  {
   "cell_type": "code",
   "execution_count": null,
   "metadata": {},
   "outputs": [],
   "source": [
    "# 8. Write a MongoDB query to find the restaurants which belong to the borough Bronx \n",
    "# and prepared either American or Chinese dish\n",
    "result = collection.aggregate([\n",
    "    {\"$match\":\n",
    "        {\n",
    "            \"borough\": \"Bronx\",\n",
    "            \"$or\":\n",
    "                [\n",
    "                    {\"cuisine\" : \"American\"},\n",
    "                    {\"cuisine\" : \"Chinese\"}\n",
    "                ]\n",
    "        }\n",
    "    },\n",
    "    {\"$project\":{\"restaurant_id\" : 1,\"name\":1,\"borough\":1,\"cuisine\" :1, \"_id\":0, \"grades.grade\":1}},\n",
    "    {\"$sort\":{\"cuisine\": 1}}\n",
    "])\n",
    "\n",
    "# pp.pprint(list(result))\n",
    "df= pd.DataFrame(result).set_index(\"cuisine\")\n",
    "df\n"
   ]
  },
  {
   "cell_type": "code",
   "execution_count": null,
   "metadata": {},
   "outputs": [],
   "source": [
    "# 9. Write a MongoDB query to find the restaurant Id, name, borough and cuisine for those restaurants \n",
    "# which belong to the borough Staten Island or Queens or Brooklyn.\n",
    "# Cũng ra đúng kết quả nhưng nhìn quê vl, nên xài cái dưới\n",
    "\n",
    "result = collection.aggregate([\n",
    "    {\"$match\":\n",
    "        {\n",
    "            \"$or\":\n",
    "                [\n",
    "                    {\"borough\" : \"Staten Island\"},\n",
    "                    {\"borough\" : \"Queens\"},\n",
    "                    {\"borough\" : \"Bronx\"},\n",
    "                    {\"borough\" : \"Brooklyn\"},\n",
    "                ]\n",
    "        }\n",
    "    },\n",
    "    {\"$project\":{\"restaurant_id\" : 1,\"name\":1,\"borough\":1,\"cuisine\" :1, \"_id\":0}},\n",
    "    {\"$sort\":{\"borough\": 1}}\n",
    "])\n",
    "\n",
    "# pp.pprint(list(result))\n",
    "df= pd.DataFrame(result).set_index(\"borough\")\n",
    "df"
   ]
  },
  {
   "cell_type": "code",
   "execution_count": null,
   "metadata": {},
   "outputs": [],
   "source": [
    "# 10. Write a MongoDB query to find the restaurant Id, name, borough and cuisine for those restaurants \n",
    "# which belong to the borough Staten Island or Queens or Brooklyn.\n",
    "# Reference: https://www.mongodb.com/docs/manual/reference/operator/query/in/\n",
    "\n",
    "result = collection.aggregate([\n",
    "    {\"$match\":\n",
    "        {\"borough\": {\"$in\" :[\"Staten Island\",\"Queens\",\"Bronx\",\"Brooklyn\"]}}\n",
    "    },\n",
    "    {\"$project\":{\"restaurant_id\" : 1,\"name\":1,\"borough\":1,\"cuisine\" :1, \"_id\":0}}\n",
    "])\n",
    "\n",
    "# pp.pprint(list(result))\n",
    "df= pd.DataFrame(result).set_index(\"borough\")\n",
    "df"
   ]
  },
  {
   "cell_type": "code",
   "execution_count": null,
   "metadata": {},
   "outputs": [],
   "source": [
    "# 11. Write a MongoDB query to find the restaurant Id, name, borough and cuisine for those restaurants \n",
    "# which are not belonging to the borough Staten Island or Queens or Bronx or Brooklyn.\n",
    "# Reference: https://www.mongodb.com/docs/manual/reference/operator/query/nin/\n",
    "result = collection.aggregate([\n",
    "    {\"$match\":\n",
    "        {\"borough\": {\"$nin\" :[\"Staten Island\",\"Queens\",\"Bronx\",\"Brooklyn\"]}}\n",
    "    },\n",
    "    {\"$project\":{\"restaurant_id\" : 1,\"name\":1,\"borough\":1,\"cuisine\" :1, \"_id\":0}},\n",
    "    {\"$sort\":{\"borough\": 1}}\n",
    "])\n",
    "\n",
    "# pp.pprint(list(result))\n",
    "df= pd.DataFrame(result).set_index(\"borough\")\n",
    "df"
   ]
  },
  {
   "cell_type": "code",
   "execution_count": null,
   "metadata": {},
   "outputs": [],
   "source": [
    "# 12. Write a MongoDB query to find the restaurant Id, name, borough and cuisine for those restaurants \n",
    "# which achieved a score which is not more than 10.\n",
    "result = collection.aggregate([\n",
    "    {\"$match\":{\"grades.score\": {\"$lt\":10}}},\n",
    "    {\"$project\":{\"restaurant_id\" : 1,\"name\":1,\"borough\":1,\"cuisine\" :1, \"grades.score\": 1, \"_id\":0}},\n",
    "    {\"$sort\":{\"borough\": 1}}\n",
    "])\n",
    "\n",
    "pp.pprint(list(result))\n",
    "# df= pd.DataFrame(result).set_index(\"borough\")\n",
    "# df\n"
   ]
  },
  {
   "cell_type": "markdown",
   "metadata": {},
   "source": [
    "The next task is very interesting:\n",
    "- If you use \\$lt like above, MongoDB will find documents that at least have one key grades.score < 10. Which means documents that have grades.score > 10 will also be counted\n",
    "- If you use \\$not and \\$gt, Mongo will do the following:\n",
    "    + Find all documents that have at least one key grades.score > 10\n",
    "    + Then take documents that do not belong to the group above."
   ]
  },
  {
   "cell_type": "code",
   "execution_count": null,
   "metadata": {},
   "outputs": [],
   "source": [
    "# 13. Write a MongoDB query to find the restaurant Id, name, borough and cuisine for those restaurants \n",
    "# which achieved a score which is not more than 10.\n",
    "result = collection.aggregate([\n",
    "    {\"$match\": {\"grades.score\": {\"$not\": {\"$gt\":10}}}},\n",
    "    {\"$project\":{\"restaurant_id\" : 1,\"name\":1,\"borough\":1,\"cuisine\" :1, \"grades.score\": 1, \"_id\":0}},\n",
    "    {\"$sort\":{\"borough\": 1}}\n",
    "])\n",
    "\n",
    "pp.pprint(list(result))\n",
    "# df= pd.DataFrame(result).set_index(\"borough\")\n",
    "# df\n"
   ]
  },
  {
   "cell_type": "code",
   "execution_count": null,
   "metadata": {},
   "outputs": [],
   "source": [
    "# 14. Write a MongoDB query to find the restaurant Id, name, borough and cuisine for those restaurants \n",
    "# which prepared dish except 'American' and 'Chinese' or restaurant's name begins with letter 'Wil'.\n",
    "\n",
    "result = collection.aggregate([\n",
    "    {\"$match\":\n",
    "        {\"$or\":\n",
    "            [\n",
    "                {\"cuisine\": {\"$nin\": ['American', 'Chinese']}},\n",
    "                {\"name\": {\"$regex\": \"^Wil\"}}\n",
    "            ]\n",
    "        }\n",
    "    },\n",
    "    {\"$project\":{\"restaurant_id\" : 1,\"name\":1,\"borough\":1,\"cuisine\" :1, \"_id\":0}},\n",
    "])\n",
    "\n",
    "# pp.pprint(list(result))\n",
    "df= pd.DataFrame(result).set_index(\"name\")\n",
    "df"
   ]
  },
  {
   "cell_type": "code",
   "execution_count": null,
   "metadata": {},
   "outputs": [],
   "source": [
    "# 15. Write a MongoDB query to find the restaurant Id, name, borough and cuisine for those restaurants \n",
    "# which prepared dish except 'American' and 'Chinese' or restaurant's name begins with letter 'Wil'.\n",
    "\n",
    "result = collection.aggregate([\n",
    "    {\"$match\":\n",
    "        {\"$or\":\n",
    "            [\n",
    "                {\"name\": {\"$regex\": \"^Wil\"}},\n",
    "                {\"$and\":\n",
    "                    [\n",
    "                    {\"cuisine\": {\"$ne\":\"American\"}},\n",
    "                    {\"cuisine\": {\"$ne\":\"Chinese\"}}\n",
    "                    ]\n",
    "                },\n",
    "            ]\n",
    "        }\n",
    "    },\n",
    "    {\"$project\":{\"restaurant_id\" : 1,\"name\":1,\"borough\":1,\"cuisine\" :1, \"_id\":0}}\n",
    "])\n",
    "\n",
    "# pp.pprint(list(result))\n",
    "df= pd.DataFrame(result).set_index(\"name\")\n",
    "df"
   ]
  },
  {
   "cell_type": "code",
   "execution_count": null,
   "metadata": {},
   "outputs": [],
   "source": [
    "# 16. Write a MongoDB query to find the restaurant Id, name, address and geographical location \n",
    "# for those restaurants where 2nd element of coord array contains a value which is more than 42 and upto 52.\n",
    "\n",
    "# Note: 2nd element thì là coord.1. Hmm. Bây giờ mình muốn address 1st element, \n",
    "# đã thử cả <coord>, <coord.0>, <coord.-1>, <coord.2> đều không ra cái gì cả @@\n",
    "result = collection.aggregate([\n",
    "    {\"$match\":\n",
    "        {\"address.coord.1\": {\"$gt\" : 42, \"$lte\" : 52}}\n",
    "    },\n",
    "    {\"$project\":{\"restaurant_id\" : 1,\"name\":1,\"borough\":1,\"cuisine\" :1, \"_id\":0}},\n",
    "])\n",
    "\n",
    "pp.pprint(list(result))\n",
    "# df= pd.DataFrame(result).set_index(\"name\")\n",
    "# df"
   ]
  }
 ],
 "metadata": {
  "kernelspec": {
   "display_name": "Python 3.9.7 64-bit",
   "language": "python",
   "name": "python3"
  },
  "language_info": {
   "codemirror_mode": {
    "name": "ipython",
    "version": 3
   },
   "file_extension": ".py",
   "mimetype": "text/x-python",
   "name": "python",
   "nbconvert_exporter": "python",
   "pygments_lexer": "ipython3",
   "version": "3.9.7"
  },
  "orig_nbformat": 4,
  "vscode": {
   "interpreter": {
    "hash": "83b2b2feee775ae9ccfd3a6435747a31e39be3240a215995d0e72c1aeb78c3d6"
   }
  }
 },
 "nbformat": 4,
 "nbformat_minor": 2
}
