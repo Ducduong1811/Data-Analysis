{
 "cells": [
  {
   "attachments": {},
   "cell_type": "markdown",
   "metadata": {},
   "source": [
    "# Stock Market Performance Analysis\n",
    "[Reference](https://thecleverprogrammer.com/2023/05/08/stock-market-performance-analysis-using-python/)"
   ]
  },
  {
   "cell_type": "code",
   "execution_count": null,
   "metadata": {},
   "outputs": [],
   "source": [
    "import pandas as pd\n",
    "import yfinance as yf\n",
    "from datetime import datetime\n",
    "import plotly.express as px\n",
    "pd.set_option('display.max_rows', None)"
   ]
  },
  {
   "cell_type": "code",
   "execution_count": null,
   "metadata": {},
   "outputs": [],
   "source": [
    "\n",
    "start_date = datetime.now() - pd.DateOffset(months=3)\n",
    "end_date = datetime.now()\n",
    "\n",
    "tickers = ['AAPL', 'MSFT', 'NFLX', 'GOOG']\n",
    "\n",
    "df_list = []\n",
    "\n",
    "for ticker in tickers:\n",
    "    data = yf.download(ticker, start=start_date, end=end_date)\n",
    "    df_list.append(data)\n",
    "\n",
    "# Add all df into 1 df, with keys as tickers\n",
    "df = pd.concat(df_list, keys=tickers, names =['Ticker', 'Date'])\n",
    "df = df.reset_index()"
   ]
  },
  {
   "cell_type": "code",
   "execution_count": null,
   "metadata": {},
   "outputs": [],
   "source": [
    "df1 = df.copy()\n",
    "df1.head(10)"
   ]
  },
  {
   "cell_type": "code",
   "execution_count": null,
   "metadata": {},
   "outputs": [],
   "source": [
    "fig = px.line(df1, x='Date',\n",
    "              y='Close',\n",
    "              color='Ticker',\n",
    "              title=\"Stock Market Performance for the Last 3 Months\")\n",
    "fig.show()"
   ]
  },
  {
   "cell_type": "code",
   "execution_count": null,
   "metadata": {},
   "outputs": [],
   "source": [
    "fig = px.area(\n",
    "    df1,\n",
    "    x = \"Date\", y=\"Close\",\n",
    "    color = \"Ticker\",\n",
    "    facet_col= \"Ticker\",\n",
    "    labels = {\"Date\":\"Date\", \"Close\":\"Closing Price\", \"Ticker\":\"Company\"},\n",
    "    title = \"Stock price for Apple, Microsoft, Netflix, Google\" \n",
    ")\n",
    "\n",
    "fig.show()"
   ]
  },
  {
   "cell_type": "code",
   "execution_count": null,
   "metadata": {},
   "outputs": [],
   "source": [
    "df1['MA10'] = df1.groupby('Ticker')['Close'].rolling(window=10).mean().reset_index(0, drop=True)\n",
    "df1['MA20'] = df1.groupby('Ticker')['Close'].rolling(window=20).mean().reset_index(0, drop=True)\n",
    "\n",
    "for ticker, group in df1.groupby('Ticker'):\n",
    "    print(f'Moving average for {ticker}')\n",
    "    print(group[['MA10', 'MA20']])\n"
   ]
  },
  {
   "cell_type": "code",
   "execution_count": null,
   "metadata": {},
   "outputs": [],
   "source": [
    "df2 = df1.groupby('Ticker')\n",
    "df2.head(20)"
   ]
  },
  {
   "cell_type": "code",
   "execution_count": null,
   "metadata": {},
   "outputs": [],
   "source": [
    "for ticker, group in df1.groupby('Ticker'):\n",
    "    fig = px.line(\n",
    "        group, \n",
    "        x='Date', y=['Close', 'MA10', 'MA20'],\n",
    "        title = f\"{ticker} Moving Average\"\n",
    "        )\n",
    "    fig.show()"
   ]
  },
  {
   "attachments": {},
   "cell_type": "markdown",
   "metadata": {},
   "source": [
    "- When the **MA10 crosses above the MA20**, it is considered a bullish signal indicating that the stock price will continue to rise. \n",
    "    <br> -> Buy signal\n",
    "- Conversely, when the **MA10 crosses below the MA20**, it is a bearish signal that the stock price will continue falling.\n",
    "    <br> -> Sell signal"
   ]
  },
  {
   "cell_type": "code",
   "execution_count": null,
   "metadata": {},
   "outputs": [],
   "source": [
    "df1[\"Volatility\"] = df1.groupby('Ticker')['Close'].pct_change().rolling(window=10).std().reset_index(0, drop=True)\n",
    "\n",
    "fig = px.line(\n",
    "    df1,\n",
    "    x=\"Date\", y=\"Volatility\",\n",
    "    color = \"Ticker\",\n",
    "    title = \"Volatility of all companies\"\n",
    ")\n",
    "\n",
    "fig.show()"
   ]
  },
  {
   "attachments": {},
   "cell_type": "markdown",
   "metadata": {},
   "source": [
    "- High volatility indicates that the stock or market experiences large and frequent price movements, \n",
    "- While low volatility indicates that the market experiences smaller or less frequent price movements."
   ]
  },
  {
   "cell_type": "code",
   "execution_count": null,
   "metadata": {},
   "outputs": [],
   "source": [
    "# create a DataFrame with the stock prices of Apple and Microsoft\n",
    "apple = df1.loc[df1['Ticker'] == 'AAPL', ['Date', 'Close']].rename(columns={'Close':'AAPL'})\n",
    "microsoft = df1.loc[df1['Ticker'] == 'MSFT', ['Date', 'Close']].rename(columns={'Close':'MSFT'})\n",
    "apple"
   ]
  },
  {
   "cell_type": "code",
   "execution_count": null,
   "metadata": {},
   "outputs": [],
   "source": [
    "def create_df(comp):\n",
    "    df_comp = df1.loc[df1['Ticker'] == f'{comp}', ['Date', 'Close']].rename(columns={'Close':f'{comp}'})\n",
    "    return df_comp\n",
    "    \n",
    "apple = create_df('AAPL')\n",
    "microsoft = create_df('MSFT')\n",
    "\n",
    "df_corr = pd.merge(apple, microsoft, on='Date')\n",
    "\n",
    "# create a scatter plot to visualize correlation\n",
    "\n",
    "fig = px.scatter(\n",
    "    df_corr,\n",
    "    x='AAPL', y = 'MSFT',\n",
    "    trendline='ols',\n",
    "    title = \"Correlation between Apple and Microsoft\"\n",
    "    )\n",
    "\n",
    "fig.show()\n"
   ]
  },
  {
   "attachments": {},
   "cell_type": "markdown",
   "metadata": {},
   "source": [
    "There is a strong linear relationship between the stock prices of Apple and Microsoft, which means that when the stock price of Apple increases, the stock price of Microsoft also tends to increase."
   ]
  }
 ],
 "metadata": {
  "kernelspec": {
   "display_name": "Python 3",
   "language": "python",
   "name": "python3"
  },
  "language_info": {
   "codemirror_mode": {
    "name": "ipython",
    "version": 3
   },
   "file_extension": ".py",
   "mimetype": "text/x-python",
   "name": "python",
   "nbconvert_exporter": "python",
   "pygments_lexer": "ipython3",
   "version": "3.11.1"
  },
  "orig_nbformat": 4
 },
 "nbformat": 4,
 "nbformat_minor": 2
}
