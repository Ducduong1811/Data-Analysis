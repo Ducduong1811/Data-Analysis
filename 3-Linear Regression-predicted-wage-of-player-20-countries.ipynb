{
 "cells": [
  {
   "cell_type": "markdown",
   "metadata": {},
   "source": [
    "Research question: Imagine you are a Spanish (you can change to your country), considering to become a professional footballer. You may wonder that a random professional football player from your country would earn how much money a week?\n",
    "\n",
    "In this notebook, I am using simple Linear Regression model to help answer that question.\n",
    "\n",
    "Specifically, I'm going to perform the following tasks:\n",
    "\n",
    "1. Exploratory Data Analysis\n",
    "2. Create simple Linear Regression on those countries who have > 300 players to predict player's Wage (in Euro)\n",
    "3. Create a predict function to help you easily answer the question\n",
    "\n",
    "#### Side notes:\n",
    "- I am new to this, any feedbacks are welcomed\n",
    "- This is the application of what I have learnt in [Applied Data Science Lab of WorldQuant University](https://www.wqu.edu/programs/applied-ds-lab/), with some modifications. My classmates may find the code familiar."
   ]
  },
  {
   "cell_type": "markdown",
   "metadata": {},
   "source": [
    "# Import Data"
   ]
  },
  {
   "cell_type": "code",
   "execution_count": 13,
   "metadata": {},
   "outputs": [],
   "source": [
    "# 1. Import basic libraries\n",
    "import numpy as np\n",
    "import pandas as pd\n",
    "import matplotlib.pyplot as plt\n",
    "from sklearn.metrics import mean_absolute_error\n",
    "from sklearn.model_selection import train_test_split\n",
    "\n",
    "from category_encoders import OneHotEncoder\n",
    "from sklearn.pipeline import make_pipeline\n",
    "from sklearn.linear_model import LinearRegression, Ridge"
   ]
  },
  {
   "cell_type": "markdown",
   "metadata": {},
   "source": [
    "Next, I wil create a wrangle function to load data. I will only use data from those countries which has > 300 listed players to ensure the model works well."
   ]
  },
  {
   "cell_type": "code",
   "execution_count": 14,
   "metadata": {},
   "outputs": [],
   "source": [
    "# 2. Create wrangle function\n",
    "def wrangle(filepath):\n",
    "    # Read CSV file\n",
    "    df = pd.read_csv(filepath)\n",
    "    \n",
    "    # Create a new Count Nationality column\n",
    "    df['Nationality Count'] = df.groupby('Nationality')['Nationality'].transform('count')\n",
    "\n",
    "    # Only take countries that have more than 300 players\n",
    "    mask_nation = df['Nationality Count'] > 300\n",
    "    df = df[mask_nation]\n",
    "    \n",
    "    return df"
   ]
  },
  {
   "cell_type": "code",
   "execution_count": 15,
   "metadata": {},
   "outputs": [
    {
     "data": {
      "text/html": [
       "<div>\n",
       "<style scoped>\n",
       "    .dataframe tbody tr th:only-of-type {\n",
       "        vertical-align: middle;\n",
       "    }\n",
       "\n",
       "    .dataframe tbody tr th {\n",
       "        vertical-align: top;\n",
       "    }\n",
       "\n",
       "    .dataframe thead th {\n",
       "        text-align: right;\n",
       "    }\n",
       "</style>\n",
       "<table border=\"1\" class=\"dataframe\">\n",
       "  <thead>\n",
       "    <tr style=\"text-align: right;\">\n",
       "      <th></th>\n",
       "      <th>Known As</th>\n",
       "      <th>Full Name</th>\n",
       "      <th>Overall</th>\n",
       "      <th>Potential</th>\n",
       "      <th>Value(in Euro)</th>\n",
       "      <th>Positions Played</th>\n",
       "      <th>Best Position</th>\n",
       "      <th>Nationality</th>\n",
       "      <th>Image Link</th>\n",
       "      <th>Age</th>\n",
       "      <th>...</th>\n",
       "      <th>CM Rating</th>\n",
       "      <th>RM Rating</th>\n",
       "      <th>LWB Rating</th>\n",
       "      <th>CDM Rating</th>\n",
       "      <th>RWB Rating</th>\n",
       "      <th>LB Rating</th>\n",
       "      <th>CB Rating</th>\n",
       "      <th>RB Rating</th>\n",
       "      <th>GK Rating</th>\n",
       "      <th>Nationality Count</th>\n",
       "    </tr>\n",
       "  </thead>\n",
       "  <tbody>\n",
       "    <tr>\n",
       "      <th>0</th>\n",
       "      <td>L. Messi</td>\n",
       "      <td>Lionel Messi</td>\n",
       "      <td>91</td>\n",
       "      <td>91</td>\n",
       "      <td>54000000</td>\n",
       "      <td>RW</td>\n",
       "      <td>CAM</td>\n",
       "      <td>Argentina</td>\n",
       "      <td>https://cdn.sofifa.net/players/158/023/23_60.png</td>\n",
       "      <td>35</td>\n",
       "      <td>...</td>\n",
       "      <td>88</td>\n",
       "      <td>91</td>\n",
       "      <td>67</td>\n",
       "      <td>66</td>\n",
       "      <td>67</td>\n",
       "      <td>62</td>\n",
       "      <td>53</td>\n",
       "      <td>62</td>\n",
       "      <td>22</td>\n",
       "      <td>937</td>\n",
       "    </tr>\n",
       "    <tr>\n",
       "      <th>1</th>\n",
       "      <td>K. Benzema</td>\n",
       "      <td>Karim Benzema</td>\n",
       "      <td>91</td>\n",
       "      <td>91</td>\n",
       "      <td>64000000</td>\n",
       "      <td>CF,ST</td>\n",
       "      <td>CF</td>\n",
       "      <td>France</td>\n",
       "      <td>https://cdn.sofifa.net/players/165/153/23_60.png</td>\n",
       "      <td>34</td>\n",
       "      <td>...</td>\n",
       "      <td>84</td>\n",
       "      <td>89</td>\n",
       "      <td>67</td>\n",
       "      <td>67</td>\n",
       "      <td>67</td>\n",
       "      <td>63</td>\n",
       "      <td>58</td>\n",
       "      <td>63</td>\n",
       "      <td>21</td>\n",
       "      <td>963</td>\n",
       "    </tr>\n",
       "    <tr>\n",
       "      <th>2</th>\n",
       "      <td>R. Lewandowski</td>\n",
       "      <td>Robert Lewandowski</td>\n",
       "      <td>91</td>\n",
       "      <td>91</td>\n",
       "      <td>84000000</td>\n",
       "      <td>ST</td>\n",
       "      <td>ST</td>\n",
       "      <td>Poland</td>\n",
       "      <td>https://cdn.sofifa.net/players/188/545/23_60.png</td>\n",
       "      <td>33</td>\n",
       "      <td>...</td>\n",
       "      <td>83</td>\n",
       "      <td>86</td>\n",
       "      <td>67</td>\n",
       "      <td>69</td>\n",
       "      <td>67</td>\n",
       "      <td>64</td>\n",
       "      <td>63</td>\n",
       "      <td>64</td>\n",
       "      <td>22</td>\n",
       "      <td>390</td>\n",
       "    </tr>\n",
       "    <tr>\n",
       "      <th>3</th>\n",
       "      <td>K. De Bruyne</td>\n",
       "      <td>Kevin De Bruyne</td>\n",
       "      <td>91</td>\n",
       "      <td>91</td>\n",
       "      <td>107500000</td>\n",
       "      <td>CM,CAM</td>\n",
       "      <td>CM</td>\n",
       "      <td>Belgium</td>\n",
       "      <td>https://cdn.sofifa.net/players/192/985/23_60.png</td>\n",
       "      <td>31</td>\n",
       "      <td>...</td>\n",
       "      <td>91</td>\n",
       "      <td>91</td>\n",
       "      <td>82</td>\n",
       "      <td>82</td>\n",
       "      <td>82</td>\n",
       "      <td>78</td>\n",
       "      <td>72</td>\n",
       "      <td>78</td>\n",
       "      <td>24</td>\n",
       "      <td>318</td>\n",
       "    </tr>\n",
       "    <tr>\n",
       "      <th>4</th>\n",
       "      <td>K. Mbappé</td>\n",
       "      <td>Kylian Mbappé</td>\n",
       "      <td>91</td>\n",
       "      <td>95</td>\n",
       "      <td>190500000</td>\n",
       "      <td>ST,LW</td>\n",
       "      <td>ST</td>\n",
       "      <td>France</td>\n",
       "      <td>https://cdn.sofifa.net/players/231/747/23_60.png</td>\n",
       "      <td>23</td>\n",
       "      <td>...</td>\n",
       "      <td>84</td>\n",
       "      <td>92</td>\n",
       "      <td>70</td>\n",
       "      <td>66</td>\n",
       "      <td>70</td>\n",
       "      <td>66</td>\n",
       "      <td>57</td>\n",
       "      <td>66</td>\n",
       "      <td>21</td>\n",
       "      <td>963</td>\n",
       "    </tr>\n",
       "  </tbody>\n",
       "</table>\n",
       "<p>5 rows × 90 columns</p>\n",
       "</div>"
      ],
      "text/plain": [
       "         Known As           Full Name  Overall  Potential  Value(in Euro)  \\\n",
       "0        L. Messi        Lionel Messi       91         91        54000000   \n",
       "1      K. Benzema       Karim Benzema       91         91        64000000   \n",
       "2  R. Lewandowski  Robert Lewandowski       91         91        84000000   \n",
       "3    K. De Bruyne     Kevin De Bruyne       91         91       107500000   \n",
       "4       K. Mbappé       Kylian Mbappé       91         95       190500000   \n",
       "\n",
       "  Positions Played Best Position Nationality  \\\n",
       "0               RW           CAM   Argentina   \n",
       "1            CF,ST            CF      France   \n",
       "2               ST            ST      Poland   \n",
       "3           CM,CAM            CM     Belgium   \n",
       "4            ST,LW            ST      France   \n",
       "\n",
       "                                         Image Link  Age  ...  CM Rating  \\\n",
       "0  https://cdn.sofifa.net/players/158/023/23_60.png   35  ...         88   \n",
       "1  https://cdn.sofifa.net/players/165/153/23_60.png   34  ...         84   \n",
       "2  https://cdn.sofifa.net/players/188/545/23_60.png   33  ...         83   \n",
       "3  https://cdn.sofifa.net/players/192/985/23_60.png   31  ...         91   \n",
       "4  https://cdn.sofifa.net/players/231/747/23_60.png   23  ...         84   \n",
       "\n",
       "   RM Rating  LWB Rating  CDM Rating RWB Rating  LB Rating  CB Rating  \\\n",
       "0         91          67          66         67         62         53   \n",
       "1         89          67          67         67         63         58   \n",
       "2         86          67          69         67         64         63   \n",
       "3         91          82          82         82         78         72   \n",
       "4         92          70          66         70         66         57   \n",
       "\n",
       "  RB Rating GK Rating Nationality Count  \n",
       "0        62        22               937  \n",
       "1        63        21               963  \n",
       "2        64        22               390  \n",
       "3        78        24               318  \n",
       "4        66        21               963  \n",
       "\n",
       "[5 rows x 90 columns]"
      ]
     },
     "execution_count": 15,
     "metadata": {},
     "output_type": "execute_result"
    }
   ],
   "source": [
    "# 3. Wrangle data file\n",
    "df = wrangle('Fifa 23 Players Data.csv')\n",
    "df.head()"
   ]
  },
  {
   "cell_type": "markdown",
   "metadata": {},
   "source": [
    "# Explore Data"
   ]
  },
  {
   "cell_type": "code",
   "execution_count": 16,
   "metadata": {},
   "outputs": [
    {
     "name": "stdout",
     "output_type": "stream",
     "text": [
      "<class 'pandas.core.frame.DataFrame'>\n",
      "Int64Index: 12012 entries, 0 to 18537\n",
      "Data columns (total 90 columns):\n",
      " #   Column                       Non-Null Count  Dtype \n",
      "---  ------                       --------------  ----- \n",
      " 0   Known As                     12012 non-null  object\n",
      " 1   Full Name                    12012 non-null  object\n",
      " 2   Overall                      12012 non-null  int64 \n",
      " 3   Potential                    12012 non-null  int64 \n",
      " 4   Value(in Euro)               12012 non-null  int64 \n",
      " 5   Positions Played             12012 non-null  object\n",
      " 6   Best Position                12012 non-null  object\n",
      " 7   Nationality                  12012 non-null  object\n",
      " 8   Image Link                   12012 non-null  object\n",
      " 9   Age                          12012 non-null  int64 \n",
      " 10  Height(in cm)                12012 non-null  int64 \n",
      " 11  Weight(in kg)                12012 non-null  int64 \n",
      " 12  TotalStats                   12012 non-null  int64 \n",
      " 13  BaseStats                    12012 non-null  int64 \n",
      " 14  Club Name                    12012 non-null  object\n",
      " 15  Wage(in Euro)                12012 non-null  int64 \n",
      " 16  Release Clause               12012 non-null  int64 \n",
      " 17  Club Position                12012 non-null  object\n",
      " 18  Contract Until               12012 non-null  object\n",
      " 19  Club Jersey Number           12012 non-null  object\n",
      " 20  Joined On                    12012 non-null  int64 \n",
      " 21  On Loan                      12012 non-null  object\n",
      " 22  Preferred Foot               12012 non-null  object\n",
      " 23  Weak Foot Rating             12012 non-null  int64 \n",
      " 24  Skill Moves                  12012 non-null  int64 \n",
      " 25  International Reputation     12012 non-null  int64 \n",
      " 26  National Team Name           12012 non-null  object\n",
      " 27  National Team Image Link     12012 non-null  object\n",
      " 28  National Team Position       12012 non-null  object\n",
      " 29  National Team Jersey Number  12012 non-null  object\n",
      " 30  Attacking Work Rate          12012 non-null  object\n",
      " 31  Defensive Work Rate          12012 non-null  object\n",
      " 32  Pace Total                   12012 non-null  int64 \n",
      " 33  Shooting Total               12012 non-null  int64 \n",
      " 34  Passing Total                12012 non-null  int64 \n",
      " 35  Dribbling Total              12012 non-null  int64 \n",
      " 36  Defending Total              12012 non-null  int64 \n",
      " 37  Physicality Total            12012 non-null  int64 \n",
      " 38  Crossing                     12012 non-null  int64 \n",
      " 39  Finishing                    12012 non-null  int64 \n",
      " 40  Heading Accuracy             12012 non-null  int64 \n",
      " 41  Short Passing                12012 non-null  int64 \n",
      " 42  Volleys                      12012 non-null  int64 \n",
      " 43  Dribbling                    12012 non-null  int64 \n",
      " 44  Curve                        12012 non-null  int64 \n",
      " 45  Freekick Accuracy            12012 non-null  int64 \n",
      " 46  LongPassing                  12012 non-null  int64 \n",
      " 47  BallControl                  12012 non-null  int64 \n",
      " 48  Acceleration                 12012 non-null  int64 \n",
      " 49  Sprint Speed                 12012 non-null  int64 \n",
      " 50  Agility                      12012 non-null  int64 \n",
      " 51  Reactions                    12012 non-null  int64 \n",
      " 52  Balance                      12012 non-null  int64 \n",
      " 53  Shot Power                   12012 non-null  int64 \n",
      " 54  Jumping                      12012 non-null  int64 \n",
      " 55  Stamina                      12012 non-null  int64 \n",
      " 56  Strength                     12012 non-null  int64 \n",
      " 57  Long Shots                   12012 non-null  int64 \n",
      " 58  Aggression                   12012 non-null  int64 \n",
      " 59  Interceptions                12012 non-null  int64 \n",
      " 60  Positioning                  12012 non-null  int64 \n",
      " 61  Vision                       12012 non-null  int64 \n",
      " 62  Penalties                    12012 non-null  int64 \n",
      " 63  Composure                    12012 non-null  int64 \n",
      " 64  Marking                      12012 non-null  int64 \n",
      " 65  Standing Tackle              12012 non-null  int64 \n",
      " 66  Sliding Tackle               12012 non-null  int64 \n",
      " 67  Goalkeeper Diving            12012 non-null  int64 \n",
      " 68  Goalkeeper Handling          12012 non-null  int64 \n",
      " 69   GoalkeeperKicking           12012 non-null  int64 \n",
      " 70  Goalkeeper Positioning       12012 non-null  int64 \n",
      " 71  Goalkeeper Reflexes          12012 non-null  int64 \n",
      " 72  ST Rating                    12012 non-null  int64 \n",
      " 73  LW Rating                    12012 non-null  int64 \n",
      " 74  LF Rating                    12012 non-null  int64 \n",
      " 75  CF Rating                    12012 non-null  int64 \n",
      " 76  RF Rating                    12012 non-null  int64 \n",
      " 77  RW Rating                    12012 non-null  int64 \n",
      " 78  CAM Rating                   12012 non-null  int64 \n",
      " 79  LM Rating                    12012 non-null  int64 \n",
      " 80  CM Rating                    12012 non-null  int64 \n",
      " 81  RM Rating                    12012 non-null  int64 \n",
      " 82  LWB Rating                   12012 non-null  int64 \n",
      " 83  CDM Rating                   12012 non-null  int64 \n",
      " 84  RWB Rating                   12012 non-null  int64 \n",
      " 85  LB Rating                    12012 non-null  int64 \n",
      " 86  CB Rating                    12012 non-null  int64 \n",
      " 87  RB Rating                    12012 non-null  int64 \n",
      " 88  GK Rating                    12012 non-null  int64 \n",
      " 89  Nationality Count            12012 non-null  int64 \n",
      "dtypes: int64(72), object(18)\n",
      "memory usage: 8.3+ MB\n"
     ]
    }
   ],
   "source": [
    "# 1. Basic info of dataframe\n",
    "df.info()"
   ]
  },
  {
   "cell_type": "code",
   "execution_count": 17,
   "metadata": {},
   "outputs": [
    {
     "data": {
      "text/html": [
       "<div>\n",
       "<style scoped>\n",
       "    .dataframe tbody tr th:only-of-type {\n",
       "        vertical-align: middle;\n",
       "    }\n",
       "\n",
       "    .dataframe tbody tr th {\n",
       "        vertical-align: top;\n",
       "    }\n",
       "\n",
       "    .dataframe thead th {\n",
       "        text-align: right;\n",
       "    }\n",
       "</style>\n",
       "<table border=\"1\" class=\"dataframe\">\n",
       "  <thead>\n",
       "    <tr style=\"text-align: right;\">\n",
       "      <th></th>\n",
       "      <th>Overall</th>\n",
       "      <th>Potential</th>\n",
       "      <th>Value(in Euro)</th>\n",
       "      <th>Age</th>\n",
       "      <th>Height(in cm)</th>\n",
       "      <th>Weight(in kg)</th>\n",
       "      <th>TotalStats</th>\n",
       "      <th>BaseStats</th>\n",
       "      <th>Wage(in Euro)</th>\n",
       "      <th>Release Clause</th>\n",
       "      <th>...</th>\n",
       "      <th>CM Rating</th>\n",
       "      <th>RM Rating</th>\n",
       "      <th>LWB Rating</th>\n",
       "      <th>CDM Rating</th>\n",
       "      <th>RWB Rating</th>\n",
       "      <th>LB Rating</th>\n",
       "      <th>CB Rating</th>\n",
       "      <th>RB Rating</th>\n",
       "      <th>GK Rating</th>\n",
       "      <th>Nationality Count</th>\n",
       "    </tr>\n",
       "  </thead>\n",
       "  <tbody>\n",
       "    <tr>\n",
       "      <th>count</th>\n",
       "      <td>12012.0</td>\n",
       "      <td>12012.0</td>\n",
       "      <td>12012.0</td>\n",
       "      <td>12012.0</td>\n",
       "      <td>12012.0</td>\n",
       "      <td>12012.0</td>\n",
       "      <td>12012.0</td>\n",
       "      <td>12012.0</td>\n",
       "      <td>12012.0</td>\n",
       "      <td>12012.0</td>\n",
       "      <td>...</td>\n",
       "      <td>12012.0</td>\n",
       "      <td>12012.0</td>\n",
       "      <td>12012.0</td>\n",
       "      <td>12012.0</td>\n",
       "      <td>12012.0</td>\n",
       "      <td>12012.0</td>\n",
       "      <td>12012.0</td>\n",
       "      <td>12012.0</td>\n",
       "      <td>12012.0</td>\n",
       "      <td>12012.0</td>\n",
       "    </tr>\n",
       "    <tr>\n",
       "      <th>mean</th>\n",
       "      <td>66.0</td>\n",
       "      <td>71.0</td>\n",
       "      <td>3130632.0</td>\n",
       "      <td>25.0</td>\n",
       "      <td>182.0</td>\n",
       "      <td>75.0</td>\n",
       "      <td>1600.0</td>\n",
       "      <td>358.0</td>\n",
       "      <td>9689.0</td>\n",
       "      <td>5484982.0</td>\n",
       "      <td>...</td>\n",
       "      <td>57.0</td>\n",
       "      <td>58.0</td>\n",
       "      <td>56.0</td>\n",
       "      <td>56.0</td>\n",
       "      <td>56.0</td>\n",
       "      <td>56.0</td>\n",
       "      <td>55.0</td>\n",
       "      <td>56.0</td>\n",
       "      <td>23.0</td>\n",
       "      <td>818.0</td>\n",
       "    </tr>\n",
       "    <tr>\n",
       "      <th>std</th>\n",
       "      <td>7.0</td>\n",
       "      <td>6.0</td>\n",
       "      <td>8471077.0</td>\n",
       "      <td>5.0</td>\n",
       "      <td>7.0</td>\n",
       "      <td>7.0</td>\n",
       "      <td>277.0</td>\n",
       "      <td>40.0</td>\n",
       "      <td>21214.0</td>\n",
       "      <td>16349003.0</td>\n",
       "      <td>...</td>\n",
       "      <td>13.0</td>\n",
       "      <td>14.0</td>\n",
       "      <td>14.0</td>\n",
       "      <td>14.0</td>\n",
       "      <td>14.0</td>\n",
       "      <td>14.0</td>\n",
       "      <td>15.0</td>\n",
       "      <td>14.0</td>\n",
       "      <td>15.0</td>\n",
       "      <td>442.0</td>\n",
       "    </tr>\n",
       "    <tr>\n",
       "      <th>min</th>\n",
       "      <td>47.0</td>\n",
       "      <td>48.0</td>\n",
       "      <td>0.0</td>\n",
       "      <td>16.0</td>\n",
       "      <td>156.0</td>\n",
       "      <td>54.0</td>\n",
       "      <td>762.0</td>\n",
       "      <td>224.0</td>\n",
       "      <td>0.0</td>\n",
       "      <td>0.0</td>\n",
       "      <td>...</td>\n",
       "      <td>18.0</td>\n",
       "      <td>18.0</td>\n",
       "      <td>17.0</td>\n",
       "      <td>19.0</td>\n",
       "      <td>17.0</td>\n",
       "      <td>17.0</td>\n",
       "      <td>18.0</td>\n",
       "      <td>17.0</td>\n",
       "      <td>10.0</td>\n",
       "      <td>318.0</td>\n",
       "    </tr>\n",
       "    <tr>\n",
       "      <th>25%</th>\n",
       "      <td>61.0</td>\n",
       "      <td>67.0</td>\n",
       "      <td>475000.0</td>\n",
       "      <td>21.0</td>\n",
       "      <td>177.0</td>\n",
       "      <td>70.0</td>\n",
       "      <td>1463.0</td>\n",
       "      <td>330.0</td>\n",
       "      <td>1000.0</td>\n",
       "      <td>600000.0</td>\n",
       "      <td>...</td>\n",
       "      <td>52.0</td>\n",
       "      <td>53.0</td>\n",
       "      <td>51.0</td>\n",
       "      <td>49.0</td>\n",
       "      <td>51.0</td>\n",
       "      <td>49.0</td>\n",
       "      <td>45.0</td>\n",
       "      <td>49.0</td>\n",
       "      <td>17.0</td>\n",
       "      <td>390.0</td>\n",
       "    </tr>\n",
       "    <tr>\n",
       "      <th>50%</th>\n",
       "      <td>66.0</td>\n",
       "      <td>71.0</td>\n",
       "      <td>975000.0</td>\n",
       "      <td>25.0</td>\n",
       "      <td>182.0</td>\n",
       "      <td>75.0</td>\n",
       "      <td>1638.0</td>\n",
       "      <td>358.0</td>\n",
       "      <td>3000.0</td>\n",
       "      <td>1400000.0</td>\n",
       "      <td>...</td>\n",
       "      <td>60.0</td>\n",
       "      <td>62.0</td>\n",
       "      <td>59.0</td>\n",
       "      <td>59.0</td>\n",
       "      <td>59.0</td>\n",
       "      <td>59.0</td>\n",
       "      <td>58.0</td>\n",
       "      <td>59.0</td>\n",
       "      <td>18.0</td>\n",
       "      <td>728.0</td>\n",
       "    </tr>\n",
       "    <tr>\n",
       "      <th>75%</th>\n",
       "      <td>70.0</td>\n",
       "      <td>75.0</td>\n",
       "      <td>2100000.0</td>\n",
       "      <td>29.0</td>\n",
       "      <td>187.0</td>\n",
       "      <td>80.0</td>\n",
       "      <td>1785.0</td>\n",
       "      <td>385.0</td>\n",
       "      <td>8000.0</td>\n",
       "      <td>3300000.0</td>\n",
       "      <td>...</td>\n",
       "      <td>66.0</td>\n",
       "      <td>67.0</td>\n",
       "      <td>66.0</td>\n",
       "      <td>66.0</td>\n",
       "      <td>66.0</td>\n",
       "      <td>65.0</td>\n",
       "      <td>66.0</td>\n",
       "      <td>65.0</td>\n",
       "      <td>20.0</td>\n",
       "      <td>1074.0</td>\n",
       "    </tr>\n",
       "    <tr>\n",
       "      <th>max</th>\n",
       "      <td>91.0</td>\n",
       "      <td>95.0</td>\n",
       "      <td>190500000.0</td>\n",
       "      <td>44.0</td>\n",
       "      <td>206.0</td>\n",
       "      <td>105.0</td>\n",
       "      <td>2312.0</td>\n",
       "      <td>502.0</td>\n",
       "      <td>450000.0</td>\n",
       "      <td>366700000.0</td>\n",
       "      <td>...</td>\n",
       "      <td>91.0</td>\n",
       "      <td>92.0</td>\n",
       "      <td>88.0</td>\n",
       "      <td>89.0</td>\n",
       "      <td>88.0</td>\n",
       "      <td>87.0</td>\n",
       "      <td>90.0</td>\n",
       "      <td>87.0</td>\n",
       "      <td>90.0</td>\n",
       "      <td>1632.0</td>\n",
       "    </tr>\n",
       "  </tbody>\n",
       "</table>\n",
       "<p>8 rows × 72 columns</p>\n",
       "</div>"
      ],
      "text/plain": [
       "       Overall  Potential  Value(in Euro)      Age  Height(in cm)  \\\n",
       "count  12012.0    12012.0         12012.0  12012.0        12012.0   \n",
       "mean      66.0       71.0       3130632.0     25.0          182.0   \n",
       "std        7.0        6.0       8471077.0      5.0            7.0   \n",
       "min       47.0       48.0             0.0     16.0          156.0   \n",
       "25%       61.0       67.0        475000.0     21.0          177.0   \n",
       "50%       66.0       71.0        975000.0     25.0          182.0   \n",
       "75%       70.0       75.0       2100000.0     29.0          187.0   \n",
       "max       91.0       95.0     190500000.0     44.0          206.0   \n",
       "\n",
       "       Weight(in kg)  TotalStats  BaseStats  Wage(in Euro)  Release Clause  \\\n",
       "count        12012.0     12012.0    12012.0        12012.0         12012.0   \n",
       "mean            75.0      1600.0      358.0         9689.0       5484982.0   \n",
       "std              7.0       277.0       40.0        21214.0      16349003.0   \n",
       "min             54.0       762.0      224.0            0.0             0.0   \n",
       "25%             70.0      1463.0      330.0         1000.0        600000.0   \n",
       "50%             75.0      1638.0      358.0         3000.0       1400000.0   \n",
       "75%             80.0      1785.0      385.0         8000.0       3300000.0   \n",
       "max            105.0      2312.0      502.0       450000.0     366700000.0   \n",
       "\n",
       "       ...  CM Rating  RM Rating  LWB Rating  CDM Rating  RWB Rating  \\\n",
       "count  ...    12012.0    12012.0     12012.0     12012.0     12012.0   \n",
       "mean   ...       57.0       58.0        56.0        56.0        56.0   \n",
       "std    ...       13.0       14.0        14.0        14.0        14.0   \n",
       "min    ...       18.0       18.0        17.0        19.0        17.0   \n",
       "25%    ...       52.0       53.0        51.0        49.0        51.0   \n",
       "50%    ...       60.0       62.0        59.0        59.0        59.0   \n",
       "75%    ...       66.0       67.0        66.0        66.0        66.0   \n",
       "max    ...       91.0       92.0        88.0        89.0        88.0   \n",
       "\n",
       "       LB Rating  CB Rating  RB Rating  GK Rating  Nationality Count  \n",
       "count    12012.0    12012.0    12012.0    12012.0            12012.0  \n",
       "mean        56.0       55.0       56.0       23.0              818.0  \n",
       "std         14.0       15.0       14.0       15.0              442.0  \n",
       "min         17.0       18.0       17.0       10.0              318.0  \n",
       "25%         49.0       45.0       49.0       17.0              390.0  \n",
       "50%         59.0       58.0       59.0       18.0              728.0  \n",
       "75%         65.0       66.0       65.0       20.0             1074.0  \n",
       "max         87.0       90.0       87.0       90.0             1632.0  \n",
       "\n",
       "[8 rows x 72 columns]"
      ]
     },
     "execution_count": 17,
     "metadata": {},
     "output_type": "execute_result"
    }
   ],
   "source": [
    "# 2. Describe overall\n",
    "df.describe().round(decimals=0)"
   ]
  },
  {
   "cell_type": "code",
   "execution_count": 18,
   "metadata": {},
   "outputs": [
    {
     "data": {
      "text/plain": [
       "(12012, 90)"
      ]
     },
     "execution_count": 18,
     "metadata": {},
     "output_type": "execute_result"
    }
   ],
   "source": [
    "# 3. Checking the shape of Data Frame\n",
    "df.shape"
   ]
  },
  {
   "cell_type": "code",
   "execution_count": 19,
   "metadata": {},
   "outputs": [
    {
     "name": "stdout",
     "output_type": "stream",
     "text": [
      "Known As             0\n",
      "Full Name            0\n",
      "Overall              0\n",
      "Potential            0\n",
      "Value(in Euro)       0\n",
      "                    ..\n",
      "LB Rating            0\n",
      "CB Rating            0\n",
      "RB Rating            0\n",
      "GK Rating            0\n",
      "Nationality Count    0\n",
      "Length: 90, dtype: int64\n",
      "Total null value count:0\n"
     ]
    }
   ],
   "source": [
    "# 4. Check whether the is any null values\n",
    "print(df.isnull().sum())\n",
    "print(f'Total null value count:{df.isnull().sum().sum()}')"
   ]
  },
  {
   "cell_type": "markdown",
   "metadata": {},
   "source": [
    "I will look more specific into Nationality feature"
   ]
  },
  {
   "cell_type": "code",
   "execution_count": 20,
   "metadata": {},
   "outputs": [
    {
     "data": {
      "text/plain": [
       "20"
      ]
     },
     "execution_count": 20,
     "metadata": {},
     "output_type": "execute_result"
    }
   ],
   "source": [
    "# 5. Looking into Nationality feature\n",
    "df[\"Nationality\"].nunique()"
   ]
  },
  {
   "cell_type": "code",
   "execution_count": 21,
   "metadata": {},
   "outputs": [
    {
     "data": {
      "text/plain": [
       "England                1632\n",
       "Germany                1204\n",
       "Spain                  1074\n",
       "France                  963\n",
       "Argentina               937\n",
       "Brazil                  728\n",
       "Italy                   623\n",
       "China PR                439\n",
       "United States           437\n",
       "Netherlands             428\n",
       "Poland                  390\n",
       "Sweden                  390\n",
       "Republic of Ireland     385\n",
       "Portugal                382\n",
       "Norway                  373\n",
       "Romania                 341\n",
       "Saudi Arabia            331\n",
       "Korea Republic          319\n",
       "Belgium                 318\n",
       "Denmark                 318\n",
       "Name: Nationality, dtype: int64"
      ]
     },
     "execution_count": 21,
     "metadata": {},
     "output_type": "execute_result"
    }
   ],
   "source": [
    "# 6. Count value per Nationality\n",
    "df_nationality_counts = df[\"Nationality\"].value_counts()\n",
    "df_nationality_counts"
   ]
  },
  {
   "cell_type": "code",
   "execution_count": 22,
   "metadata": {},
   "outputs": [
    {
     "data": {
      "image/png": "[encoded data removed]",
      "text/plain": [
       "<Figure size 432x288 with 1 Axes>"
      ]
     },
     "metadata": {
      "needs_background": "light"
     },
     "output_type": "display_data"
    }
   ],
   "source": [
    "# 7. Plot the count of players\n",
    "df_nationality_counts.plot(kind=\"barh\")\n",
    "plt.xlabel(\"Count of players by Nationality\");"
   ]
  },
  {
   "cell_type": "markdown",
   "metadata": {},
   "source": [
    "# Split Data\n",
    "\n",
    "The explore step is done. Now comes the step of splitting data for training and testing"
   ]
  },
  {
   "cell_type": "code",
   "execution_count": 23,
   "metadata": {},
   "outputs": [],
   "source": [
    "target = \"Wage(in Euro)\"\n",
    "features = [\"Nationality\"]\n",
    "y = df[target]\n",
    "X = df[features]"
   ]
  },
  {
   "cell_type": "code",
   "execution_count": 24,
   "metadata": {},
   "outputs": [
    {
     "name": "stdout",
     "output_type": "stream",
     "text": [
      "X_train shape: (9609, 1)\n",
      "y_train shape: (9609,)\n",
      "X_test shape: (2403, 1)\n",
      "y_test shape: (2403,)\n"
     ]
    }
   ],
   "source": [
    "X_train, X_test, y_train, y_test = train_test_split(\n",
    "    X, y, test_size=0.2, random_state=42\n",
    ")\n",
    "\n",
    "print(\"X_train shape:\", X_train.shape)\n",
    "print(\"y_train shape:\", y_train.shape)\n",
    "print(\"X_test shape:\", X_test.shape)\n",
    "print(\"y_test shape:\", y_test.shape)\n"
   ]
  },
  {
   "cell_type": "markdown",
   "metadata": {},
   "source": [
    "# Baseline"
   ]
  },
  {
   "cell_type": "code",
   "execution_count": 25,
   "metadata": {},
   "outputs": [
    {
     "name": "stdout",
     "output_type": "stream",
     "text": [
      "Mean apt price:  9597.294203351024\n",
      "Baseline MAE:  10414.812422023306\n"
     ]
    }
   ],
   "source": [
    "# 1. We will need to create a naive model to evaluate our Linear Regression result\n",
    "y_mean = y_train.mean()\n",
    "y_pred_baseline = [y_mean] * len(y_train)\n",
    "print(\"Mean apt price: \", y_mean)\n",
    "print(\"Baseline MAE: \", mean_absolute_error(y_train, y_pred_baseline))"
   ]
  },
  {
   "cell_type": "markdown",
   "metadata": {},
   "source": [
    "# Iterate"
   ]
  },
  {
   "cell_type": "code",
   "execution_count": 26,
   "metadata": {},
   "outputs": [
    {
     "data": {
      "text/html": [
       "<style>#sk-container-id-1 {color: black;background-color: white;}#sk-container-id-1 pre{padding: 0;}#sk-container-id-1 div.sk-toggleable {background-color: white;}#sk-container-id-1 label.sk-toggleable__label {cursor: pointer;display: block;width: 100%;margin-bottom: 0;padding: 0.3em;box-sizing: border-box;text-align: center;}#sk-container-id-1 label.sk-toggleable__label-arrow:before {content: \"▸\";float: left;margin-right: 0.25em;color: #696969;}#sk-container-id-1 label.sk-toggleable__label-arrow:hover:before {color: black;}#sk-container-id-1 div.sk-estimator:hover label.sk-toggleable__label-arrow:before {color: black;}#sk-container-id-1 div.sk-toggleable__content {max-height: 0;max-width: 0;overflow: hidden;text-align: left;background-color: #f0f8ff;}#sk-container-id-1 div.sk-toggleable__content pre {margin: 0.2em;color: black;border-radius: 0.25em;background-color: #f0f8ff;}#sk-container-id-1 input.sk-toggleable__control:checked~div.sk-toggleable__content {max-height: 200px;max-width: 100%;overflow: auto;}#sk-container-id-1 input.sk-toggleable__control:checked~label.sk-toggleable__label-arrow:before {content: \"▾\";}#sk-container-id-1 div.sk-estimator input.sk-toggleable__control:checked~label.sk-toggleable__label {background-color: #d4ebff;}#sk-container-id-1 div.sk-label input.sk-toggleable__control:checked~label.sk-toggleable__label {background-color: #d4ebff;}#sk-container-id-1 input.sk-hidden--visually {border: 0;clip: rect(1px 1px 1px 1px);clip: rect(1px, 1px, 1px, 1px);height: 1px;margin: -1px;overflow: hidden;padding: 0;position: absolute;width: 1px;}#sk-container-id-1 div.sk-estimator {font-family: monospace;background-color: #f0f8ff;border: 1px dotted black;border-radius: 0.25em;box-sizing: border-box;margin-bottom: 0.5em;}#sk-container-id-1 div.sk-estimator:hover {background-color: #d4ebff;}#sk-container-id-1 div.sk-parallel-item::after {content: \"\";width: 100%;border-bottom: 1px solid gray;flex-grow: 1;}#sk-container-id-1 div.sk-label:hover label.sk-toggleable__label {background-color: #d4ebff;}#sk-container-id-1 div.sk-serial::before {content: \"\";position: absolute;border-left: 1px solid gray;box-sizing: border-box;top: 0;bottom: 0;left: 50%;z-index: 0;}#sk-container-id-1 div.sk-serial {display: flex;flex-direction: column;align-items: center;background-color: white;padding-right: 0.2em;padding-left: 0.2em;position: relative;}#sk-container-id-1 div.sk-item {position: relative;z-index: 1;}#sk-container-id-1 div.sk-parallel {display: flex;align-items: stretch;justify-content: center;background-color: white;position: relative;}#sk-container-id-1 div.sk-item::before, #sk-container-id-1 div.sk-parallel-item::before {content: \"\";position: absolute;border-left: 1px solid gray;box-sizing: border-box;top: 0;bottom: 0;left: 50%;z-index: -1;}#sk-container-id-1 div.sk-parallel-item {display: flex;flex-direction: column;z-index: 1;position: relative;background-color: white;}#sk-container-id-1 div.sk-parallel-item:first-child::after {align-self: flex-end;width: 50%;}#sk-container-id-1 div.sk-parallel-item:last-child::after {align-self: flex-start;width: 50%;}#sk-container-id-1 div.sk-parallel-item:only-child::after {width: 0;}#sk-container-id-1 div.sk-dashed-wrapped {border: 1px dashed gray;margin: 0 0.4em 0.5em 0.4em;box-sizing: border-box;padding-bottom: 0.4em;background-color: white;}#sk-container-id-1 div.sk-label label {font-family: monospace;font-weight: bold;display: inline-block;line-height: 1.2em;}#sk-container-id-1 div.sk-label-container {text-align: center;}#sk-container-id-1 div.sk-container {/* jupyter's `normalize.less` sets `[hidden] { display: none; }` but bootstrap.min.css set `[hidden] { display: none !important; }` so we also need the `!important` here to be able to override the default hidden behavior on the sphinx rendered scikit-learn.org. See: https://github.com/scikit-learn/scikit-learn/issues/21755 */display: inline-block !important;position: relative;}#sk-container-id-1 div.sk-text-repr-fallback {display: none;}</style><div id=\"sk-container-id-1\" class=\"sk-top-container\"><div class=\"sk-text-repr-fallback\"><pre>Pipeline(steps=[(&#x27;onehotencoder&#x27;,\n",
       "                 OneHotEncoder(cols=[&#x27;Nationality&#x27;], use_cat_names=True)),\n",
       "                (&#x27;ridge&#x27;, Ridge())])</pre><b>In a Jupyter environment, please rerun this cell to show the HTML representation or trust the notebook. <br />On GitHub, the HTML representation is unable to render, please try loading this page with nbviewer.org.</b></div><div class=\"sk-container\" hidden><div class=\"sk-item sk-dashed-wrapped\"><div class=\"sk-label-container\"><div class=\"sk-label sk-toggleable\"><input class=\"sk-toggleable__control sk-hidden--visually\" id=\"sk-estimator-id-1\" type=\"checkbox\" ><label for=\"sk-estimator-id-1\" class=\"sk-toggleable__label sk-toggleable__label-arrow\">Pipeline</label><div class=\"sk-toggleable__content\"><pre>Pipeline(steps=[(&#x27;onehotencoder&#x27;,\n",
       "                 OneHotEncoder(cols=[&#x27;Nationality&#x27;], use_cat_names=True)),\n",
       "                (&#x27;ridge&#x27;, Ridge())])</pre></div></div></div><div class=\"sk-serial\"><div class=\"sk-item\"><div class=\"sk-estimator sk-toggleable\"><input class=\"sk-toggleable__control sk-hidden--visually\" id=\"sk-estimator-id-2\" type=\"checkbox\" ><label for=\"sk-estimator-id-2\" class=\"sk-toggleable__label sk-toggleable__label-arrow\">OneHotEncoder</label><div class=\"sk-toggleable__content\"><pre>OneHotEncoder(cols=[&#x27;Nationality&#x27;], use_cat_names=True)</pre></div></div></div><div class=\"sk-item\"><div class=\"sk-estimator sk-toggleable\"><input class=\"sk-toggleable__control sk-hidden--visually\" id=\"sk-estimator-id-3\" type=\"checkbox\" ><label for=\"sk-estimator-id-3\" class=\"sk-toggleable__label sk-toggleable__label-arrow\">Ridge</label><div class=\"sk-toggleable__content\"><pre>Ridge()</pre></div></div></div></div></div></div></div>"
      ],
      "text/plain": [
       "Pipeline(steps=[('onehotencoder',\n",
       "                 OneHotEncoder(cols=['Nationality'], use_cat_names=True)),\n",
       "                ('ridge', Ridge())])"
      ]
     },
     "execution_count": 26,
     "metadata": {},
     "output_type": "execute_result"
    }
   ],
   "source": [
    "# 1. Create model. As the feature data is categorical, I need to use OneHotEncoder transformer.\n",
    "# The number of categorical values of our feature is 20 (20 countries), therefore I will use Ridge model to regularize the formula\n",
    "model = make_pipeline(\n",
    "    OneHotEncoder(use_cat_names=True),\n",
    "    Ridge()\n",
    ")\n",
    "model.fit(X_train, y_train)"
   ]
  },
  {
   "cell_type": "markdown",
   "metadata": {},
   "source": [
    "# Evaluate"
   ]
  },
  {
   "cell_type": "code",
   "execution_count": 27,
   "metadata": {},
   "outputs": [
    {
     "name": "stdout",
     "output_type": "stream",
     "text": [
      "Training MAE:  9747.49\n"
     ]
    }
   ],
   "source": [
    "# 1. Evaluate out model performance on training data\n",
    "y_pred_training = model.predict(X_train)\n",
    "mae_training = mean_absolute_error(y_train, y_pred_training)\n",
    "print(\"Training MAE: \", round(mae_training, 2))"
   ]
  },
  {
   "cell_type": "code",
   "execution_count": 125,
   "metadata": {},
   "outputs": [
    {
     "name": "stdout",
     "output_type": "stream",
     "text": [
      "Test MAE:  10301.39\n"
     ]
    }
   ],
   "source": [
    "# 2. Evaluate out model performance on test data\n",
    "y_pred_test = pd.Series(model.predict(X_test))\n",
    "mae_test = mean_absolute_error(y_test, y_pred_test)\n",
    "print(\"Test MAE: \", round(mae_test, 2))"
   ]
  },
  {
   "cell_type": "markdown",
   "metadata": {},
   "source": [
    "Test MAE is a little bit worse than Training MAE, this is normal as model often worse when working on test data.\n",
    "The model can still beat the Naive model, however quite close."
   ]
  },
  {
   "cell_type": "markdown",
   "metadata": {},
   "source": [
    "# Communicate Results"
   ]
  },
  {
   "cell_type": "code",
   "execution_count": 126,
   "metadata": {},
   "outputs": [
    {
     "name": "stdout",
     "output_type": "stream",
     "text": [
      "coefficients len: 20\n",
      "[-5143.44127457  2242.90802357 -3904.71919124  -448.57016516\n",
      "  5580.03604546]\n"
     ]
    }
   ],
   "source": [
    "# 1. Extract intercept and coefficients of our model\n",
    "intercept = model.named_steps[\"ridge\"].intercept_.astype(float)\n",
    "coefficients = model.named_steps[\"ridge\"].coef_.astype(float)\n",
    "print(\"coefficients len:\", len(coefficients))\n",
    "print(coefficients[:5])  # First five coefficients"
   ]
  },
  {
   "cell_type": "code",
   "execution_count": 31,
   "metadata": {},
   "outputs": [
    {
     "name": "stdout",
     "output_type": "stream",
     "text": [
      "features len: 20\n",
      "['Nationality_Romania', 'Nationality_England', 'Nationality_Sweden', 'Nationality_Argentina', 'Nationality_Spain']\n"
     ]
    }
   ],
   "source": [
    "# 2. Extract feature names\n",
    "feature_names = model.named_steps[\"onehotencoder\"].get_feature_names()\n",
    "print(\"features len:\", len(feature_names))\n",
    "print(feature_names[:5])  # First five feature names"
   ]
  },
  {
   "cell_type": "code",
   "execution_count": 32,
   "metadata": {},
   "outputs": [
    {
     "data": {
      "text/plain": [
       "Nationality_Romania     -5143.441275\n",
       "Nationality_England      2242.908024\n",
       "Nationality_Sweden      -3904.719191\n",
       "Nationality_Argentina    -448.570165\n",
       "Nationality_Spain        5580.036045\n",
       "dtype: float64"
      ]
     },
     "execution_count": 32,
     "metadata": {},
     "output_type": "execute_result"
    }
   ],
   "source": [
    "# 3. Coefficient corresponding to each features \n",
    "feat_imp = pd.Series(coefficients, index=feature_names)\n",
    "feat_imp.head()"
   ]
  },
  {
   "cell_type": "code",
   "execution_count": 33,
   "metadata": {},
   "outputs": [
    {
     "name": "stdout",
     "output_type": "stream",
     "text": [
      "price = 8471.03\n",
      "+ (-5143.44 * Nationality_Romania)\n",
      "+ (2242.91 * Nationality_England)\n",
      "+ (-3904.72 * Nationality_Sweden)\n",
      "+ (-448.57 * Nationality_Argentina)\n",
      "+ (5580.04 * Nationality_Spain)\n",
      "+ (-4611.25 * Nationality_Korea Republic)\n",
      "+ (4956.82 * Nationality_France)\n",
      "+ (-4073.85 * Nationality_Norway)\n",
      "+ (-4268.12 * Nationality_Republic of Ireland)\n",
      "+ (1825.19 * Nationality_Netherlands)\n",
      "+ (294.1 * Nationality_Germany)\n",
      "+ (3795.2 * Nationality_Italy)\n",
      "+ (3043.97 * Nationality_Belgium)\n",
      "+ (-3577.39 * Nationality_Saudi Arabia)\n",
      "+ (-2300.56 * Nationality_Poland)\n",
      "+ (10138.51 * Nationality_Brazil)\n",
      "+ (866.45 * Nationality_Denmark)\n",
      "+ (-4147.5 * Nationality_United States)\n",
      "+ (5902.76 * Nationality_Portugal)\n",
      "+ (-6170.53 * Nationality_China PR)\n"
     ]
    }
   ],
   "source": [
    "# 4. Formularize our linear regression model\n",
    "print(f\"price = {intercept.round(2)}\")\n",
    "for f, c in feat_imp.items():\n",
    "    print(f\"+ ({round(c, 2)} * {f})\")"
   ]
  },
  {
   "cell_type": "code",
   "execution_count": 118,
   "metadata": {},
   "outputs": [],
   "source": [
    "# 5. Create prediction function\n",
    "def make_prediction(nationality):\n",
    "    data = {\n",
    "        \"Nationality\": nationality\n",
    "    }\n",
    "    df_predict = pd.DataFrame(data, index=[0])\n",
    "    prediction = model.predict(df_predict).round(2)[0]\n",
    "\n",
    "    print(f\"Predicted wage of a player with {nationality} nationality is: {prediction} Euro/ week\")\n",
    "\n",
    "    df_nation = df[df['Nationality'] == str(nationality)]\n",
    "    mean_wage = df_nation['Wage(in Euro)'].mean().round(2)\n",
    "\n",
    "    print(f\"Mean wage of players with {nationality} nationality is: {mean_wage} Euro/ week\")\n",
    "\n",
    "    return"
   ]
  },
  {
   "cell_type": "code",
   "execution_count": 123,
   "metadata": {},
   "outputs": [
    {
     "name": "stdout",
     "output_type": "stream",
     "text": [
      "Predicted wage of a player with Portugal nationality is: 14373.79 Euro/ week\n",
      "Mean wage of players with Portugal nationality is: 15323.04 Euro/ week\n"
     ]
    }
   ],
   "source": [
    "# 6. You can simply type in the name of one country from the 20 countries we analyzed, and will be able to see the predicted _\n",
    "#  wage of a professional football player from that country\n",
    "make_prediction('Portugal')"
   ]
  },
  {
   "cell_type": "code",
   "execution_count": 128,
   "metadata": {},
   "outputs": [
    {
     "name": "stdout",
     "output_type": "stream",
     "text": [
      "Predicted wage of a player with Argentina nationality is: 8022.46 Euro/ week\n",
      "Mean wage of players with Argentina nationality is: 8360.83 Euro/ week\n"
     ]
    }
   ],
   "source": [
    "make_prediction('Argentina')"
   ]
  }
 ],
 "metadata": {
  "kernelspec": {
   "display_name": "Python 3.9.7 64-bit",
   "language": "python",
   "name": "python3"
  },
  "language_info": {
   "codemirror_mode": {
    "name": "ipython",
    "version": 3
   },
   "file_extension": ".py",
   "mimetype": "text/x-python",
   "name": "python",
   "nbconvert_exporter": "python",
   "pygments_lexer": "ipython3",
   "version": "3.9.7"
  },
  "orig_nbformat": 4,
  "vscode": {
   "interpreter": {
    "hash": "83b2b2feee775ae9ccfd3a6435747a31e39be3240a215995d0e72c1aeb78c3d6"
   }
  }
 },
 "nbformat": 4,
 "nbformat_minor": 2
}
