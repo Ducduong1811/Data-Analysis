{
 "cells": [
  {
   "cell_type": "code",
   "execution_count": 1,
   "id": "11f875ec",
   "metadata": {
    "_cell_guid": "b1076dfc-b9ad-4769-8c92-a6c4dae69d19",
    "_uuid": "8f2839f25d086af736a60e9eeb907d3b93b6e0e5",
    "execution": {
     "iopub.execute_input": "2022-09-15T07:28:00.271761Z",
     "iopub.status.busy": "2022-09-15T07:28:00.271277Z",
     "iopub.status.idle": "2022-09-15T07:28:00.291008Z",
     "shell.execute_reply": "2022-09-15T07:28:00.289857Z"
    },
    "papermill": {
     "duration": 0.031663,
     "end_time": "2022-09-15T07:28:00.293509",
     "exception": false,
     "start_time": "2022-09-15T07:28:00.261846",
     "status": "completed"
    },
    "tags": []
   },
   "outputs": [
    {
     "name": "stdout",
     "output_type": "stream",
     "text": [
      "/kaggle/input/data-science-job-salaries/ds_salaries.csv\n"
     ]
    }
   ],
   "source": [
    "# This Python 3 environment comes with many helpful analytics libraries installed\n",
    "# It is defined by the kaggle/python Docker image: https://github.com/kaggle/docker-python\n",
    "# For example, here's several helpful packages to load\n",
    "\n",
    "import numpy as np # linear algebra\n",
    "import pandas as pd # data processing, CSV file I/O (e.g. pd.read_csv)\n",
    "\n",
    "# Input data files are available in the read-only \"../input/\" directory\n",
    "# For example, running this (by clicking run or pressing Shift+Enter) will list all files under the input directory\n",
    "\n",
    "import os\n",
    "for dirname, _, filenames in os.walk('/kaggle/input'):\n",
    "    for filename in filenames:\n",
    "        print(os.path.join(dirname, filename))\n",
    "\n",
    "# You can write up to 20GB to the current directory (/kaggle/working/) that gets preserved as output when you create a version using \"Save & Run All\" \n",
    "# You can also write temporary files to /kaggle/temp/, but they won't be saved outside of the current session"
   ]
  },
  {
   "cell_type": "code",
   "execution_count": 2,
   "id": "75aab63d",
   "metadata": {
    "execution": {
     "iopub.execute_input": "2022-09-15T07:28:00.306701Z",
     "iopub.status.busy": "2022-09-15T07:28:00.306313Z",
     "iopub.status.idle": "2022-09-15T07:28:01.860473Z",
     "shell.execute_reply": "2022-09-15T07:28:01.859360Z"
    },
    "papermill": {
     "duration": 1.563763,
     "end_time": "2022-09-15T07:28:01.863257",
     "exception": false,
     "start_time": "2022-09-15T07:28:00.299494",
     "status": "completed"
    },
    "tags": []
   },
   "outputs": [],
   "source": [
    "import warnings\n",
    "\n",
    "warnings.simplefilter(action=\"ignore\", category=FutureWarning)\n",
    "\n",
    "from sklearn.metrics import mean_absolute_error\n",
    "from sklearn.pipeline import Pipeline, make_pipeline\n",
    "from sklearn.utils.validation import check_is_fitted\n",
    "from category_encoders import OneHotEncoder\n",
    "from sklearn.linear_model import Ridge  # noqa F401\n",
    "\n",
    "import seaborn as sns"
   ]
  },
  {
   "cell_type": "markdown",
   "id": "742750da",
   "metadata": {
    "papermill": {
     "duration": 0.005676,
     "end_time": "2022-09-15T07:28:01.874920",
     "exception": false,
     "start_time": "2022-09-15T07:28:01.869244",
     "status": "completed"
    },
    "tags": []
   },
   "source": [
    "For this notebook, I will use Linear Regression applying on a categorical feature to predict salary"
   ]
  },
  {
   "cell_type": "markdown",
   "id": "fdd75e99",
   "metadata": {
    "papermill": {
     "duration": 0.005508,
     "end_time": "2022-09-15T07:28:01.886430",
     "exception": false,
     "start_time": "2022-09-15T07:28:01.880922",
     "status": "completed"
    },
    "tags": []
   },
   "source": [
    "# Prepare Data\n",
    "## 1. Import data"
   ]
  },
  {
   "cell_type": "code",
   "execution_count": 3,
   "id": "3ebb4646",
   "metadata": {
    "execution": {
     "iopub.execute_input": "2022-09-15T07:28:01.900647Z",
     "iopub.status.busy": "2022-09-15T07:28:01.899442Z",
     "iopub.status.idle": "2022-09-15T07:28:01.906359Z",
     "shell.execute_reply": "2022-09-15T07:28:01.905161Z"
    },
    "papermill": {
     "duration": 0.016669,
     "end_time": "2022-09-15T07:28:01.908856",
     "exception": false,
     "start_time": "2022-09-15T07:28:01.892187",
     "status": "completed"
    },
    "tags": []
   },
   "outputs": [],
   "source": [
    "# IP1: Basic wrangle function\n",
    "def wrangle(filepath):\n",
    "    # Read CSV file\n",
    "    df = pd.read_csv(filepath)\n",
    "    \n",
    "    # Drop cols list\n",
    "    drop_cols = []\n",
    "\n",
    "    # Drop \"Unnamed: 0\" column (irrelevant), \"salary\" (as we will use salary in usd)\n",
    "    drop_cols.append(\"Unnamed: 0\")\n",
    "    drop_cols.append(\"salary\")\n",
    "\n",
    "    # Drop columns\n",
    "    df.drop(columns=drop_cols, inplace=True)\n",
    "    \n",
    "    return df"
   ]
  },
  {
   "cell_type": "code",
   "execution_count": 4,
   "id": "1fda3f81",
   "metadata": {
    "execution": {
     "iopub.execute_input": "2022-09-15T07:28:01.922502Z",
     "iopub.status.busy": "2022-09-15T07:28:01.921878Z",
     "iopub.status.idle": "2022-09-15T07:28:01.961898Z",
     "shell.execute_reply": "2022-09-15T07:28:01.960851Z"
    },
    "papermill": {
     "duration": 0.049734,
     "end_time": "2022-09-15T07:28:01.964449",
     "exception": false,
     "start_time": "2022-09-15T07:28:01.914715",
     "status": "completed"
    },
    "tags": []
   },
   "outputs": [
    {
     "data": {
      "text/html": [
       "<div>\n",
       "<style scoped>\n",
       "    .dataframe tbody tr th:only-of-type {\n",
       "        vertical-align: middle;\n",
       "    }\n",
       "\n",
       "    .dataframe tbody tr th {\n",
       "        vertical-align: top;\n",
       "    }\n",
       "\n",
       "    .dataframe thead th {\n",
       "        text-align: right;\n",
       "    }\n",
       "</style>\n",
       "<table border=\"1\" class=\"dataframe\">\n",
       "  <thead>\n",
       "    <tr style=\"text-align: right;\">\n",
       "      <th></th>\n",
       "      <th>work_year</th>\n",
       "      <th>experience_level</th>\n",
       "      <th>employment_type</th>\n",
       "      <th>job_title</th>\n",
       "      <th>salary_currency</th>\n",
       "      <th>salary_in_usd</th>\n",
       "      <th>employee_residence</th>\n",
       "      <th>remote_ratio</th>\n",
       "      <th>company_location</th>\n",
       "      <th>company_size</th>\n",
       "    </tr>\n",
       "  </thead>\n",
       "  <tbody>\n",
       "    <tr>\n",
       "      <th>0</th>\n",
       "      <td>2020</td>\n",
       "      <td>MI</td>\n",
       "      <td>FT</td>\n",
       "      <td>Data Scientist</td>\n",
       "      <td>EUR</td>\n",
       "      <td>79833</td>\n",
       "      <td>DE</td>\n",
       "      <td>0</td>\n",
       "      <td>DE</td>\n",
       "      <td>L</td>\n",
       "    </tr>\n",
       "    <tr>\n",
       "      <th>1</th>\n",
       "      <td>2020</td>\n",
       "      <td>SE</td>\n",
       "      <td>FT</td>\n",
       "      <td>Machine Learning Scientist</td>\n",
       "      <td>USD</td>\n",
       "      <td>260000</td>\n",
       "      <td>JP</td>\n",
       "      <td>0</td>\n",
       "      <td>JP</td>\n",
       "      <td>S</td>\n",
       "    </tr>\n",
       "    <tr>\n",
       "      <th>2</th>\n",
       "      <td>2020</td>\n",
       "      <td>SE</td>\n",
       "      <td>FT</td>\n",
       "      <td>Big Data Engineer</td>\n",
       "      <td>GBP</td>\n",
       "      <td>109024</td>\n",
       "      <td>GB</td>\n",
       "      <td>50</td>\n",
       "      <td>GB</td>\n",
       "      <td>M</td>\n",
       "    </tr>\n",
       "    <tr>\n",
       "      <th>3</th>\n",
       "      <td>2020</td>\n",
       "      <td>MI</td>\n",
       "      <td>FT</td>\n",
       "      <td>Product Data Analyst</td>\n",
       "      <td>USD</td>\n",
       "      <td>20000</td>\n",
       "      <td>HN</td>\n",
       "      <td>0</td>\n",
       "      <td>HN</td>\n",
       "      <td>S</td>\n",
       "    </tr>\n",
       "    <tr>\n",
       "      <th>4</th>\n",
       "      <td>2020</td>\n",
       "      <td>SE</td>\n",
       "      <td>FT</td>\n",
       "      <td>Machine Learning Engineer</td>\n",
       "      <td>USD</td>\n",
       "      <td>150000</td>\n",
       "      <td>US</td>\n",
       "      <td>50</td>\n",
       "      <td>US</td>\n",
       "      <td>L</td>\n",
       "    </tr>\n",
       "  </tbody>\n",
       "</table>\n",
       "</div>"
      ],
      "text/plain": [
       "   work_year experience_level employment_type                   job_title  \\\n",
       "0       2020               MI              FT              Data Scientist   \n",
       "1       2020               SE              FT  Machine Learning Scientist   \n",
       "2       2020               SE              FT           Big Data Engineer   \n",
       "3       2020               MI              FT        Product Data Analyst   \n",
       "4       2020               SE              FT   Machine Learning Engineer   \n",
       "\n",
       "  salary_currency  salary_in_usd employee_residence  remote_ratio  \\\n",
       "0             EUR          79833                 DE             0   \n",
       "1             USD         260000                 JP             0   \n",
       "2             GBP         109024                 GB            50   \n",
       "3             USD          20000                 HN             0   \n",
       "4             USD         150000                 US            50   \n",
       "\n",
       "  company_location company_size  \n",
       "0               DE            L  \n",
       "1               JP            S  \n",
       "2               GB            M  \n",
       "3               HN            S  \n",
       "4               US            L  "
      ]
     },
     "execution_count": 4,
     "metadata": {},
     "output_type": "execute_result"
    }
   ],
   "source": [
    "# IP2: Use wrangle function to read file\n",
    "df = wrangle('../input/data-science-job-salaries/ds_salaries.csv')\n",
    "df.head()"
   ]
  },
  {
   "cell_type": "markdown",
   "id": "667a9b42",
   "metadata": {
    "papermill": {
     "duration": 0.005601,
     "end_time": "2022-09-15T07:28:01.976160",
     "exception": false,
     "start_time": "2022-09-15T07:28:01.970559",
     "status": "completed"
    },
    "tags": []
   },
   "source": [
    "## 2. Explore\n",
    "\n",
    "Let's explore a little bit about the data to see which features should we use for our model"
   ]
  },
  {
   "cell_type": "code",
   "execution_count": 5,
   "id": "8b783f61",
   "metadata": {
    "execution": {
     "iopub.execute_input": "2022-09-15T07:28:01.989827Z",
     "iopub.status.busy": "2022-09-15T07:28:01.989425Z",
     "iopub.status.idle": "2022-09-15T07:28:02.009672Z",
     "shell.execute_reply": "2022-09-15T07:28:02.008587Z"
    },
    "papermill": {
     "duration": 0.030654,
     "end_time": "2022-09-15T07:28:02.012627",
     "exception": false,
     "start_time": "2022-09-15T07:28:01.981973",
     "status": "completed"
    },
    "tags": []
   },
   "outputs": [
    {
     "name": "stdout",
     "output_type": "stream",
     "text": [
      "<class 'pandas.core.frame.DataFrame'>\n",
      "RangeIndex: 607 entries, 0 to 606\n",
      "Data columns (total 10 columns):\n",
      " #   Column              Non-Null Count  Dtype \n",
      "---  ------              --------------  ----- \n",
      " 0   work_year           607 non-null    int64 \n",
      " 1   experience_level    607 non-null    object\n",
      " 2   employment_type     607 non-null    object\n",
      " 3   job_title           607 non-null    object\n",
      " 4   salary_currency     607 non-null    object\n",
      " 5   salary_in_usd       607 non-null    int64 \n",
      " 6   employee_residence  607 non-null    object\n",
      " 7   remote_ratio        607 non-null    int64 \n",
      " 8   company_location    607 non-null    object\n",
      " 9   company_size        607 non-null    object\n",
      "dtypes: int64(3), object(7)\n",
      "memory usage: 47.5+ KB\n"
     ]
    }
   ],
   "source": [
    "df.info()"
   ]
  },
  {
   "cell_type": "markdown",
   "id": "d24adac0",
   "metadata": {
    "papermill": {
     "duration": 0.005696,
     "end_time": "2022-09-15T07:28:02.024414",
     "exception": false,
     "start_time": "2022-09-15T07:28:02.018718",
     "status": "completed"
    },
    "tags": []
   },
   "source": [
    "As the dataset is already cleaned. There's nothing much left to do.\n",
    "Except for exploring the categorical features"
   ]
  },
  {
   "cell_type": "code",
   "execution_count": 6,
   "id": "01068d52",
   "metadata": {
    "execution": {
     "iopub.execute_input": "2022-09-15T07:28:02.038133Z",
     "iopub.status.busy": "2022-09-15T07:28:02.037751Z",
     "iopub.status.idle": "2022-09-15T07:28:02.048781Z",
     "shell.execute_reply": "2022-09-15T07:28:02.047769Z"
    },
    "papermill": {
     "duration": 0.020533,
     "end_time": "2022-09-15T07:28:02.050957",
     "exception": false,
     "start_time": "2022-09-15T07:28:02.030424",
     "status": "completed"
    },
    "tags": []
   },
   "outputs": [
    {
     "data": {
      "text/plain": [
       "experience_level       4\n",
       "employment_type        4\n",
       "job_title             50\n",
       "salary_currency       17\n",
       "employee_residence    57\n",
       "company_location      50\n",
       "company_size           3\n",
       "dtype: int64"
      ]
     },
     "execution_count": 6,
     "metadata": {},
     "output_type": "execute_result"
    }
   ],
   "source": [
    "df.select_dtypes(\"object\").nunique()"
   ]
  },
  {
   "cell_type": "markdown",
   "id": "23c4453b",
   "metadata": {
    "papermill": {
     "duration": 0.005949,
     "end_time": "2022-09-15T07:28:02.063083",
     "exception": false,
     "start_time": "2022-09-15T07:28:02.057134",
     "status": "completed"
    },
    "tags": []
   },
   "source": [
    "For this notebook, I will use the \"experience_level\" feature to predict salary"
   ]
  },
  {
   "cell_type": "markdown",
   "id": "0a4a7260",
   "metadata": {
    "papermill": {
     "duration": 0.005741,
     "end_time": "2022-09-15T07:28:02.074909",
     "exception": false,
     "start_time": "2022-09-15T07:28:02.069168",
     "status": "completed"
    },
    "tags": []
   },
   "source": [
    "## 3. Split"
   ]
  },
  {
   "cell_type": "code",
   "execution_count": 7,
   "id": "0b18d41c",
   "metadata": {
    "execution": {
     "iopub.execute_input": "2022-09-15T07:28:02.088963Z",
     "iopub.status.busy": "2022-09-15T07:28:02.088537Z",
     "iopub.status.idle": "2022-09-15T07:28:02.094801Z",
     "shell.execute_reply": "2022-09-15T07:28:02.093616Z"
    },
    "papermill": {
     "duration": 0.015927,
     "end_time": "2022-09-15T07:28:02.096922",
     "exception": false,
     "start_time": "2022-09-15T07:28:02.080995",
     "status": "completed"
    },
    "tags": []
   },
   "outputs": [],
   "source": [
    "target = \"salary_in_usd\"\n",
    "features = [\"experience_level\"]\n",
    "y_train = df[target]\n",
    "X_train = df[features]"
   ]
  },
  {
   "cell_type": "markdown",
   "id": "13da8c53",
   "metadata": {
    "papermill": {
     "duration": 0.005762,
     "end_time": "2022-09-15T07:28:02.109536",
     "exception": false,
     "start_time": "2022-09-15T07:28:02.103774",
     "status": "completed"
    },
    "tags": []
   },
   "source": [
    "# Build Model\n",
    "## 1. Baseline\n",
    "So we have done preparing data. Now comes to the buidling model part.\n",
    "The first step is to build a naive model to test the MAE of that.\n",
    "After that, we will run our model and calculate its MAE as well, to see whether it beats the naive model"
   ]
  },
  {
   "cell_type": "code",
   "execution_count": 8,
   "id": "618d5020",
   "metadata": {
    "execution": {
     "iopub.execute_input": "2022-09-15T07:28:02.123182Z",
     "iopub.status.busy": "2022-09-15T07:28:02.122770Z",
     "iopub.status.idle": "2022-09-15T07:28:02.129416Z",
     "shell.execute_reply": "2022-09-15T07:28:02.128669Z"
    },
    "papermill": {
     "duration": 0.016193,
     "end_time": "2022-09-15T07:28:02.131789",
     "exception": false,
     "start_time": "2022-09-15T07:28:02.115596",
     "status": "completed"
    },
    "tags": []
   },
   "outputs": [
    {
     "name": "stdout",
     "output_type": "stream",
     "text": [
      "Mean apt salary:  112297.86985172982\n",
      "Baseline MAE:  52584.27064261269\n"
     ]
    }
   ],
   "source": [
    "y_mean = y_train.mean()\n",
    "y_pred_baseline = [y_mean] * len(y_train)\n",
    "print(\"Mean apt salary: \", y_mean)\n",
    "print(\"Baseline MAE: \", mean_absolute_error(y_train, y_pred_baseline))"
   ]
  },
  {
   "cell_type": "markdown",
   "id": "49dde8f9",
   "metadata": {
    "papermill": {
     "duration": 0.005961,
     "end_time": "2022-09-15T07:28:02.144042",
     "exception": false,
     "start_time": "2022-09-15T07:28:02.138081",
     "status": "completed"
    },
    "tags": []
   },
   "source": [
    "Our naive model has predicted that the average salary (in USD) is around 112,297 USD. And the mean absolute error of the model is about 52,584 USD."
   ]
  },
  {
   "cell_type": "markdown",
   "id": "b0e9d8fa",
   "metadata": {
    "papermill": {
     "duration": 0.005806,
     "end_time": "2022-09-15T07:28:02.155950",
     "exception": false,
     "start_time": "2022-09-15T07:28:02.150144",
     "status": "completed"
    },
    "tags": []
   },
   "source": [
    "## 2. Iterate\n",
    "\n",
    "Now, we need to make our model.\n",
    "\n",
    "As we use categorical data, which LinearRegression can't processs. We need to transform it into numerical data using OneHotEncoder Transformer.\n",
    "\n",
    "After that, as there are multiple categories in our feature, using Ridge instead of LinearRegression will be a safe bet."
   ]
  },
  {
   "cell_type": "code",
   "execution_count": 9,
   "id": "71bf49d2",
   "metadata": {
    "execution": {
     "iopub.execute_input": "2022-09-15T07:28:02.170101Z",
     "iopub.status.busy": "2022-09-15T07:28:02.169669Z",
     "iopub.status.idle": "2022-09-15T07:28:02.218570Z",
     "shell.execute_reply": "2022-09-15T07:28:02.217650Z"
    },
    "papermill": {
     "duration": 0.058548,
     "end_time": "2022-09-15T07:28:02.220620",
     "exception": false,
     "start_time": "2022-09-15T07:28:02.162072",
     "status": "completed"
    },
    "tags": []
   },
   "outputs": [
    {
     "data": {
      "text/plain": [
       "Pipeline(steps=[('onehotencoder',\n",
       "                 OneHotEncoder(cols=['experience_level'], use_cat_names=True)),\n",
       "                ('ridge', Ridge())])"
      ]
     },
     "execution_count": 9,
     "metadata": {},
     "output_type": "execute_result"
    }
   ],
   "source": [
    "model = make_pipeline(\n",
    "    OneHotEncoder(use_cat_names=True),\n",
    "    Ridge()\n",
    ")\n",
    "model.fit(X_train, y_train)"
   ]
  },
  {
   "cell_type": "markdown",
   "id": "9b65f56c",
   "metadata": {
    "papermill": {
     "duration": 0.005915,
     "end_time": "2022-09-15T07:28:02.232910",
     "exception": false,
     "start_time": "2022-09-15T07:28:02.226995",
     "status": "completed"
    },
    "tags": []
   },
   "source": [
    "## 3. Evaluate\n",
    "We now need to evaluate the performance of this newly created model to see whether it beats our naive model."
   ]
  },
  {
   "cell_type": "code",
   "execution_count": 10,
   "id": "05b6f0d0",
   "metadata": {
    "execution": {
     "iopub.execute_input": "2022-09-15T07:28:02.247764Z",
     "iopub.status.busy": "2022-09-15T07:28:02.246578Z",
     "iopub.status.idle": "2022-09-15T07:28:02.258783Z",
     "shell.execute_reply": "2022-09-15T07:28:02.257624Z"
    },
    "papermill": {
     "duration": 0.023243,
     "end_time": "2022-09-15T07:28:02.262323",
     "exception": false,
     "start_time": "2022-09-15T07:28:02.239080",
     "status": "completed"
    },
    "tags": []
   },
   "outputs": [
    {
     "name": "stdout",
     "output_type": "stream",
     "text": [
      "Training MAE:  43589.48\n"
     ]
    }
   ],
   "source": [
    "y_pred_training = model.predict(X_train)\n",
    "mae_training = mean_absolute_error(y_train, y_pred_training)\n",
    "print(\"Training MAE: \", round(mae_training, 2))"
   ]
  },
  {
   "cell_type": "markdown",
   "id": "ecc6e69e",
   "metadata": {
    "papermill": {
     "duration": 0.006343,
     "end_time": "2022-09-15T07:28:02.275619",
     "exception": false,
     "start_time": "2022-09-15T07:28:02.269276",
     "status": "completed"
    },
    "tags": []
   },
   "source": [
    "Excellent, the MAE of our model is 43,589 while that of the naive model is 52,584. We beat it by nearly 10,000 USD."
   ]
  },
  {
   "cell_type": "markdown",
   "id": "726dd999",
   "metadata": {
    "papermill": {
     "duration": 0.006012,
     "end_time": "2022-09-15T07:28:02.287956",
     "exception": false,
     "start_time": "2022-09-15T07:28:02.281944",
     "status": "completed"
    },
    "tags": []
   },
   "source": [
    "# Communicate Results"
   ]
  },
  {
   "cell_type": "code",
   "execution_count": 11,
   "id": "1b3a0bac",
   "metadata": {
    "execution": {
     "iopub.execute_input": "2022-09-15T07:28:02.302604Z",
     "iopub.status.busy": "2022-09-15T07:28:02.301905Z",
     "iopub.status.idle": "2022-09-15T07:28:02.308424Z",
     "shell.execute_reply": "2022-09-15T07:28:02.307254Z"
    },
    "papermill": {
     "duration": 0.017497,
     "end_time": "2022-09-15T07:28:02.311688",
     "exception": false,
     "start_time": "2022-09-15T07:28:02.294191",
     "status": "completed"
    },
    "tags": []
   },
   "outputs": [
    {
     "name": "stdout",
     "output_type": "stream",
     "text": [
      "intercept: 121381.32542574524\n",
      "list of coefficients: [-33229.2631574   17174.62946901 -59066.79367939  75121.4273678 ]\n"
     ]
    }
   ],
   "source": [
    "# 1. We need to extract the intercept and coefficients of our model\n",
    "intercept = model.named_steps[\"ridge\"].intercept_.astype(float)\n",
    "coefficients = model.named_steps[\"ridge\"].coef_.astype(float)\n",
    "print(\"intercept:\", intercept)\n",
    "print(\"list of coefficients:\",coefficients)"
   ]
  },
  {
   "cell_type": "code",
   "execution_count": 12,
   "id": "a945beae",
   "metadata": {
    "execution": {
     "iopub.execute_input": "2022-09-15T07:28:02.327103Z",
     "iopub.status.busy": "2022-09-15T07:28:02.326359Z",
     "iopub.status.idle": "2022-09-15T07:28:02.331990Z",
     "shell.execute_reply": "2022-09-15T07:28:02.330816Z"
    },
    "papermill": {
     "duration": 0.016791,
     "end_time": "2022-09-15T07:28:02.335486",
     "exception": false,
     "start_time": "2022-09-15T07:28:02.318695",
     "status": "completed"
    },
    "tags": []
   },
   "outputs": [
    {
     "name": "stdout",
     "output_type": "stream",
     "text": [
      "['experience_level_MI', 'experience_level_SE', 'experience_level_EN', 'experience_level_EX']\n"
     ]
    }
   ],
   "source": [
    "# 2. Exporting features name\n",
    "feature_names = model.named_steps[\"onehotencoder\"].get_feature_names()\n",
    "print(feature_names)"
   ]
  },
  {
   "cell_type": "code",
   "execution_count": 13,
   "id": "9ca04bec",
   "metadata": {
    "execution": {
     "iopub.execute_input": "2022-09-15T07:28:02.350469Z",
     "iopub.status.busy": "2022-09-15T07:28:02.349495Z",
     "iopub.status.idle": "2022-09-15T07:28:02.361089Z",
     "shell.execute_reply": "2022-09-15T07:28:02.359146Z"
    },
    "papermill": {
     "duration": 0.023193,
     "end_time": "2022-09-15T07:28:02.365123",
     "exception": false,
     "start_time": "2022-09-15T07:28:02.341930",
     "status": "completed"
    },
    "tags": []
   },
   "outputs": [
    {
     "data": {
      "text/plain": [
       "experience_level_MI   -33229.263157\n",
       "experience_level_SE    17174.629469\n",
       "experience_level_EN   -59066.793679\n",
       "experience_level_EX    75121.427368\n",
       "dtype: float64"
      ]
     },
     "execution_count": 13,
     "metadata": {},
     "output_type": "execute_result"
    }
   ],
   "source": [
    "# 3. Projecting features name responding to coefficients\n",
    "feat_imp = pd.Series(coefficients, index=feature_names)\n",
    "feat_imp.head()"
   ]
  },
  {
   "cell_type": "code",
   "execution_count": 14,
   "id": "1f1496c1",
   "metadata": {
    "execution": {
     "iopub.execute_input": "2022-09-15T07:28:02.381202Z",
     "iopub.status.busy": "2022-09-15T07:28:02.380248Z",
     "iopub.status.idle": "2022-09-15T07:28:02.386014Z",
     "shell.execute_reply": "2022-09-15T07:28:02.385195Z"
    },
    "papermill": {
     "duration": 0.017095,
     "end_time": "2022-09-15T07:28:02.389169",
     "exception": false,
     "start_time": "2022-09-15T07:28:02.372074",
     "status": "completed"
    },
    "tags": []
   },
   "outputs": [
    {
     "name": "stdout",
     "output_type": "stream",
     "text": [
      "salary (USD) = 121381.33\n",
      "+ (-33229.26 * experience_level_MI)\n",
      "+ (17174.63 * experience_level_SE)\n",
      "+ (-59066.79 * experience_level_EN)\n",
      "+ (75121.43 * experience_level_EX)\n"
     ]
    }
   ],
   "source": [
    "# 4. Printing out final Linear Regression formula\n",
    "print(f\"salary (USD) = {intercept.round(2)}\")\n",
    "for f, c in feat_imp.items():\n",
    "    print(f\"+ ({round(c, 2)} * {f})\")"
   ]
  }
 ],
 "metadata": {
  "kernelspec": {
   "display_name": "Python 3.9.7 64-bit",
   "language": "python",
   "name": "python3"
  },
  "language_info": {
   "codemirror_mode": {
    "name": "ipython",
    "version": 3
   },
   "file_extension": ".py",
   "mimetype": "text/x-python",
   "name": "python",
   "nbconvert_exporter": "python",
   "pygments_lexer": "ipython3",
   "version": "3.9.7"
  },
  "papermill": {
   "default_parameters": {},
   "duration": 11.581564,
   "end_time": "2022-09-15T07:28:03.121792",
   "environment_variables": {},
   "exception": null,
   "input_path": "__notebook__.ipynb",
   "output_path": "__notebook__.ipynb",
   "parameters": {},
   "start_time": "2022-09-15T07:27:51.540228",
   "version": "2.3.4"
  },
  "vscode": {
   "interpreter": {
    "hash": "83b2b2feee775ae9ccfd3a6435747a31e39be3240a215995d0e72c1aeb78c3d6"
   }
  }
 },
 "nbformat": 4,
 "nbformat_minor": 5
}
